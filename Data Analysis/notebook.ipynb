{
 "cells": [
  {
   "cell_type": "markdown",
   "source": "## Chargement et préparation du jeu de données",
   "metadata": {
    "tags": [],
    "is_collapsed": false,
    "cell_id": "00001-ba061348-617d-419d-9601-c5adf42853eb",
    "deepnote_cell_type": "text-cell-h2"
   }
  },
  {
   "cell_type": "code",
   "metadata": {
    "tags": [],
    "cell_id": "00000-17877029-3179-4c57-a5bc-cf12befa763e",
    "deepnote_to_be_reexecuted": false,
    "source_hash": "f5e2c923",
    "execution_start": 1641412734249,
    "execution_millis": 4792,
    "is_code_hidden": false,
    "deepnote_cell_type": "code"
   },
   "source": "import pandas as pd\nimport requests\nimport matplotlib.pyplot as plt\nimport seaborn as sns\nimport numpy as np\nimport matplotlib.pylab as pl\nimport matplotlib.gridspec as gridspec\nfrom sklearn import metrics\nfrom sklearn.neighbors import KNeighborsClassifier\nfrom sklearn import svm\nfrom sklearn.decomposition import PCA\nfrom sklearn.preprocessing import StandardScaler\nfrom sklearn.model_selection import train_test_split\nfrom sklearn.metrics import confusion_matrix, ConfusionMatrixDisplay\nfrom sklearn.model_selection import GridSearchCV\nfrom sklearn.metrics import f1_score\nfrom matplotlib.pyplot import figure\nfrom sklearn.linear_model import SGDClassifier\nfrom sklearn.metrics import classification_report\n\nRawData = pd.read_csv(\"https://archive.ics.uci.edu/ml/machine-learning-databases/00254/biodeg.csv\",sep=';')\n\nRawData.columns = [\n    'SpMax_L',\n    'J_Dz(e)',\n    'nHM',\n    'F01[N-N]',\n    'F04[C-N]',\n    'NssssC',\n    'nCb-',\n    'C%',\n    'nCp',\n    'nO',\n    'F03[C-N]',\n    'SdssC',\n    'HyWi_B(m)',\n    'LOC',\n    'SM6_L',\n    'F03[C-O]',\n    'Me','Mi',\n    'nN-N',\n    'nArNO2',\n    'nCRX3',\n    'SpPosA_B(p)',\n    'nCIR',\n    'B01[C-Br]',\n    'BO3[C-Cl]',\n    'N-073',\n    'SpMax_A',\n    'Psi_i_1d',\n    'BO4[C-Br]',\n    'SdO',\n    'TI2_L',\n    'nCrt',\n    'C-026',\n    'F02[C-N]',\n    'nHDon',\n    'SpMax_B(m)',\n    ' Psi_i_A',\n    'nN',\n    'SM6_B(m)',\n    'nArCOOR',\n    'nX',\n    'experimental class' #C'est la variable que l'on cherche à expliquer : 0 la molécule est prête à être biodégradée, 1 la molécule n'est pas prête à être biodégradée\n    ]\n\ncheck_for_nan = RawData.isnull().values.any()\nif (check_for_nan):\n    print (\"Il y a des valeurs nulles dans le DataSet !\")\nelse:\n    print (\"Il n'y a aucune valeur nulle dans le DataSet.\")",
   "execution_count": null,
   "outputs": [
    {
     "name": "stdout",
     "text": "Il n'y a aucune valeur nulle dans le DataSet.\n",
     "output_type": "stream",
     "data": {}
    }
   ]
  },
  {
   "cell_type": "code",
   "metadata": {
    "tags": [],
    "cell_id": "00004-9da2cdb6-906c-4a11-b139-4b2217d6956f",
    "deepnote_to_be_reexecuted": false,
    "source_hash": "2921b1fe",
    "execution_start": 1641412738884,
    "execution_millis": 4,
    "deepnote_output_heights": [
     232.25
    ],
    "is_code_hidden": false,
    "deepnote_cell_type": "code"
   },
   "source": "Dataset = RawData[\n    [\n    'SpMax_L',\n    'J_Dz(e)',\n    'nHM',\n    'F01[N-N]',\n    'F04[C-N]',\n    'NssssC',\n    'nCb-',\n    'C%',\n    'nCp',\n    'nO',\n    'F03[C-N]',\n    'SdssC',\n    'HyWi_B(m)',\n    'LOC',\n    'SM6_L',\n    'F03[C-O]',\n    'Me','Mi',\n    'nN-N',\n    'nArNO2',\n    'nCRX3',\n    'SpPosA_B(p)',\n    'nCIR',\n    'B01[C-Br]',\n    'BO3[C-Cl]',\n    'N-073',\n    'SpMax_A',\n    'Psi_i_1d',\n    'BO4[C-Br]',\n    'SdO',\n    'TI2_L',\n    'nCrt',\n    'C-026',\n    'F02[C-N]',\n    'nHDon',\n    'SpMax_B(m)',\n    ' Psi_i_A',\n    'nN',\n    'SM6_B(m)',\n    'nArCOOR',\n    'nX',\n    'experimental class' #C'est la variable que l'on cherche à expliquer : 0 la molécule est prête à être biodégradée, 1 la molécule n'est pas prête à être biodégradée\n    ]\n]\nDataset[\"experimental class\"].replace({\"RB\": 1, \"NRB\": 0}, inplace=True)\n",
   "execution_count": null,
   "outputs": []
  },
  {
   "cell_type": "code",
   "metadata": {
    "tags": [],
    "cell_id": "00005-6c4ca3ca-069d-4425-9fe9-ca4ae2a86bad",
    "deepnote_to_be_reexecuted": false,
    "source_hash": "6b44c7a5",
    "execution_start": 1641412738937,
    "execution_millis": 307,
    "deepnote_output_heights": [
     21,
     265
    ],
    "is_output_hidden": false,
    "deepnote_cell_type": "code"
   },
   "source": "Dataset.plot.scatter('TI2_L','experimental class')",
   "execution_count": null,
   "outputs": [
    {
     "output_type": "execute_result",
     "execution_count": 3,
     "data": {
      "text/plain": "<AxesSubplot:xlabel='TI2_L', ylabel='experimental class'>"
     },
     "metadata": {}
    },
    {
     "data": {
      "text/plain": "<Figure size 432x288 with 1 Axes>",
      "image/png": "[encoded data removed]"
     },
     "metadata": {
      "needs_background": "light",
      "image/png": {
       "width": 386,
       "height": 263
      }
     },
     "output_type": "display_data"
    }
   ]
  },
  {
   "cell_type": "code",
   "metadata": {
    "tags": [],
    "cell_id": "00007-d538882f-b6bd-4863-baa2-aa8235031d31",
    "deepnote_to_be_reexecuted": false,
    "source_hash": "b23cbd7",
    "execution_start": 1641412739289,
    "execution_millis": 388,
    "deepnote_output_heights": [
     251.375
    ],
    "is_output_hidden": false,
    "is_code_hidden": false,
    "deepnote_table_state": {
     "pageSize": 10,
     "pageIndex": 0,
     "filters": [],
     "sortBy": []
    },
    "deepnote_table_loading": false,
    "deepnote_cell_type": "code"
   },
   "source": "corr = Dataset.corr()\ncorr\n",
   "execution_count": null,
   "outputs": [
    {
     "output_type": "execute_result",
     "execution_count": 53,
     "data": {
      "application/vnd.deepnote.dataframe.v3+json": {
       "column_count": 42,
       "row_count": 42,
       "columns": [
        {
         "name": "SpMax_L",
         "dtype": "float64",
         "stats": {
          "unique_count": 42,
          "nan_count": 0,
          "min": "-0.3948730276132853",
          "max": "1.0",
          "histogram": [
           {
            "bin_start": -0.3948730276132853,
            "bin_end": -0.25538572485195676,
            "count": 1
           },
           {
            "bin_start": -0.25538572485195676,
            "bin_end": -0.11589842209062823,
            "count": 1
           },
           {
            "bin_start": -0.11589842209062823,
            "bin_end": 0.023588880670700307,
            "count": 7
           },
           {
            "bin_start": 0.023588880670700307,
            "bin_end": 0.16307618343202884,
            "count": 9
           },
           {
            "bin_start": 0.16307618343202884,
            "bin_end": 0.30256348619335743,
            "count": 12
           },
           {
            "bin_start": 0.30256348619335743,
            "bin_end": 0.4420507889546859,
            "count": 6
           },
           {
            "bin_start": 0.4420507889546859,
            "bin_end": 0.5815380917160144,
            "count": 2
           },
           {
            "bin_start": 0.5815380917160144,
            "bin_end": 0.721025394477343,
            "count": 1
           },
           {
            "bin_start": 0.721025394477343,
            "bin_end": 0.8605126972386716,
            "count": 0
           },
           {
            "bin_start": 0.8605126972386716,
            "bin_end": 1,
            "count": 3
           }
          ]
         }
        },
        {
         "name": "J_Dz(e)",
         "dtype": "float64",
         "stats": {
          "unique_count": 42,
          "nan_count": 0,
          "min": "-0.3004333315339432",
          "max": "1.0",
          "histogram": [
           {
            "bin_start": -0.3004333315339432,
            "bin_end": -0.17038999838054888,
            "count": 8
           },
           {
            "bin_start": -0.17038999838054888,
            "bin_end": -0.04034666522715458,
            "count": 8
           },
           {
            "bin_start": -0.04034666522715458,
            "bin_end": 0.0896966679262397,
            "count": 11
           },
           {
            "bin_start": 0.0896966679262397,
            "bin_end": 0.21974000107963404,
            "count": 6
           },
           {
            "bin_start": 0.21974000107963404,
            "bin_end": 0.3497833342330284,
            "count": 3
           },
           {
            "bin_start": 0.3497833342330284,
            "bin_end": 0.4798266673864226,
            "count": 3
           },
           {
            "bin_start": 0.4798266673864226,
            "bin_end": 0.609870000539817,
            "count": 2
           },
           {
            "bin_start": 0.609870000539817,
            "bin_end": 0.7399133336932113,
            "count": 0
           },
           {
            "bin_start": 0.7399133336932113,
            "bin_end": 0.8699566668466057,
            "count": 0
           },
           {
            "bin_start": 0.8699566668466057,
            "bin_end": 1,
            "count": 1
           }
          ]
         }
        },
        {
         "name": "nHM",
         "dtype": "float64",
         "stats": {
          "unique_count": 42,
          "nan_count": 0,
          "min": "-0.32133185188567326",
          "max": "1.0",
          "histogram": [
           {
            "bin_start": -0.32133185188567326,
            "bin_end": -0.18919866669710592,
            "count": 2
           },
           {
            "bin_start": -0.18919866669710592,
            "bin_end": -0.057065481508538574,
            "count": 6
           },
           {
            "bin_start": -0.057065481508538574,
            "bin_end": 0.0750677036800288,
            "count": 15
           },
           {
            "bin_start": 0.0750677036800288,
            "bin_end": 0.2072008888685961,
            "count": 4
           },
           {
            "bin_start": 0.2072008888685961,
            "bin_end": 0.3393340740571634,
            "count": 6
           },
           {
            "bin_start": 0.3393340740571634,
            "bin_end": 0.47146725924573085,
            "count": 3
           },
           {
            "bin_start": 0.47146725924573085,
            "bin_end": 0.6036004444342982,
            "count": 5
           },
           {
            "bin_start": 0.6036004444342982,
            "bin_end": 0.7357336296228655,
            "count": 0
           },
           {
            "bin_start": 0.7357336296228655,
            "bin_end": 0.8678668148114329,
            "count": 0
           },
           {
            "bin_start": 0.8678668148114329,
            "bin_end": 1,
            "count": 1
           }
          ]
         }
        },
        {
         "name": "F01[N-N]",
         "dtype": "float64",
         "stats": {
          "unique_count": 42,
          "nan_count": 0,
          "min": "-0.10316614866464678",
          "max": "1.0",
          "histogram": [
           {
            "bin_start": -0.10316614866464678,
            "bin_end": 0.00715046620181789,
            "count": 15
           },
           {
            "bin_start": 0.00715046620181789,
            "bin_end": 0.11746708106828256,
            "count": 16
           },
           {
            "bin_start": 0.11746708106828256,
            "bin_end": 0.22778369593474723,
            "count": 4
           },
           {
            "bin_start": 0.22778369593474723,
            "bin_end": 0.3381003108012119,
            "count": 1
           },
           {
            "bin_start": 0.3381003108012119,
            "bin_end": 0.44841692566767655,
            "count": 2
           },
           {
            "bin_start": 0.44841692566767655,
            "bin_end": 0.5587335405341413,
            "count": 3
           },
           {
            "bin_start": 0.5587335405341413,
            "bin_end": 0.6690501554006059,
            "count": 0
           },
           {
            "bin_start": 0.6690501554006059,
            "bin_end": 0.7793667702670706,
            "count": 0
           },
           {
            "bin_start": 0.7793667702670706,
            "bin_end": 0.8896833851335353,
            "count": 0
           },
           {
            "bin_start": 0.8896833851335353,
            "bin_end": 1,
            "count": 1
           }
          ]
         }
        },
        {
         "name": "F04[C-N]",
         "dtype": "float64",
         "stats": {
          "unique_count": 42,
          "nan_count": 0,
          "min": "-0.23429723878273398",
          "max": "1.0",
          "histogram": [
           {
            "bin_start": -0.23429723878273398,
            "bin_end": -0.11086751490446058,
            "count": 2
           },
           {
            "bin_start": -0.11086751490446058,
            "bin_end": 0.012562208973812827,
            "count": 15
           },
           {
            "bin_start": 0.012562208973812827,
            "bin_end": 0.13599193285208624,
            "count": 7
           },
           {
            "bin_start": 0.13599193285208624,
            "bin_end": 0.25942165673035966,
            "count": 5
           },
           {
            "bin_start": 0.25942165673035966,
            "bin_end": 0.382851380608633,
            "count": 7
           },
           {
            "bin_start": 0.382851380608633,
            "bin_end": 0.5062811044869064,
            "count": 1
           },
           {
            "bin_start": 0.5062811044869064,
            "bin_end": 0.6297108283651798,
            "count": 1
           },
           {
            "bin_start": 0.6297108283651798,
            "bin_end": 0.7531405522434532,
            "count": 1
           },
           {
            "bin_start": 0.7531405522434532,
            "bin_end": 0.8765702761217267,
            "count": 2
           },
           {
            "bin_start": 0.8765702761217267,
            "bin_end": 1,
            "count": 1
           }
          ]
         }
        },
        {
         "name": "NssssC",
         "dtype": "float64",
         "stats": {
          "unique_count": 42,
          "nan_count": 0,
          "min": "-0.21327048875803126",
          "max": "1.0",
          "histogram": [
           {
            "bin_start": -0.21327048875803126,
            "bin_end": -0.09194343988222814,
            "count": 3
           },
           {
            "bin_start": -0.09194343988222814,
            "bin_end": 0.029383608993574978,
            "count": 19
           },
           {
            "bin_start": 0.029383608993574978,
            "bin_end": 0.15071065786937807,
            "count": 7
           },
           {
            "bin_start": 0.15071065786937807,
            "bin_end": 0.27203770674518124,
            "count": 2
           },
           {
            "bin_start": 0.27203770674518124,
            "bin_end": 0.3933647556209844,
            "count": 4
           },
           {
            "bin_start": 0.3933647556209844,
            "bin_end": 0.5146918044967874,
            "count": 5
           },
           {
            "bin_start": 0.5146918044967874,
            "bin_end": 0.6360188533725906,
            "count": 0
           },
           {
            "bin_start": 0.6360188533725906,
            "bin_end": 0.7573459022483937,
            "count": 1
           },
           {
            "bin_start": 0.7573459022483937,
            "bin_end": 0.8786729511241969,
            "count": 0
           },
           {
            "bin_start": 0.8786729511241969,
            "bin_end": 1,
            "count": 1
           }
          ]
         }
        },
        {
         "name": "nCb-",
         "dtype": "float64",
         "stats": {
          "unique_count": 42,
          "nan_count": 0,
          "min": "-0.4520215872170669",
          "max": "1.0",
          "histogram": [
           {
            "bin_start": -0.4520215872170669,
            "bin_end": -0.30681942849536026,
            "count": 3
           },
           {
            "bin_start": -0.30681942849536026,
            "bin_end": -0.16161726977365354,
            "count": 1
           },
           {
            "bin_start": -0.16161726977365354,
            "bin_end": -0.016415111051946873,
            "count": 5
           },
           {
            "bin_start": -0.016415111051946873,
            "bin_end": 0.12878704766975985,
            "count": 9
           },
           {
            "bin_start": 0.12878704766975985,
            "bin_end": 0.27398920639146657,
            "count": 10
           },
           {
            "bin_start": 0.27398920639146657,
            "bin_end": 0.4191913651131732,
            "count": 6
           },
           {
            "bin_start": 0.4191913651131732,
            "bin_end": 0.5643935238348798,
            "count": 5
           },
           {
            "bin_start": 0.5643935238348798,
            "bin_end": 0.7095956825565866,
            "count": 1
           },
           {
            "bin_start": 0.7095956825565866,
            "bin_end": 0.8547978412782933,
            "count": 1
           },
           {
            "bin_start": 0.8547978412782933,
            "bin_end": 1,
            "count": 1
           }
          ]
         }
        },
        {
         "name": "C%",
         "dtype": "float64",
         "stats": {
          "unique_count": 42,
          "nan_count": 0,
          "min": "-0.6825360563295245",
          "max": "1.0",
          "histogram": [
           {
            "bin_start": -0.6825360563295245,
            "bin_end": -0.5142824506965721,
            "count": 1
           },
           {
            "bin_start": -0.5142824506965721,
            "bin_end": -0.34602884506361964,
            "count": 1
           },
           {
            "bin_start": -0.34602884506361964,
            "bin_end": -0.1777752394306672,
            "count": 5
           },
           {
            "bin_start": -0.1777752394306672,
            "bin_end": -0.009521633797714757,
            "count": 8
           },
           {
            "bin_start": -0.009521633797714757,
            "bin_end": 0.15873197183523768,
            "count": 16
           },
           {
            "bin_start": 0.15873197183523768,
            "bin_end": 0.3269855774681901,
            "count": 3
           },
           {
            "bin_start": 0.3269855774681901,
            "bin_end": 0.49523918310114257,
            "count": 4
           },
           {
            "bin_start": 0.49523918310114257,
            "bin_end": 0.663492788734095,
            "count": 3
           },
           {
            "bin_start": 0.663492788734095,
            "bin_end": 0.8317463943670474,
            "count": 0
           },
           {
            "bin_start": 0.8317463943670474,
            "bin_end": 1,
            "count": 1
           }
          ]
         }
        },
        {
         "name": "nCp",
         "dtype": "float64",
         "stats": {
          "unique_count": 42,
          "nan_count": 0,
          "min": "-0.22502241010140625",
          "max": "1.0",
          "histogram": [
           {
            "bin_start": -0.22502241010140625,
            "bin_end": -0.10252016909126563,
            "count": 7
           },
           {
            "bin_start": -0.10252016909126563,
            "bin_end": 0.019982071918874994,
            "count": 18
           },
           {
            "bin_start": 0.019982071918874994,
            "bin_end": 0.14248431292901562,
            "count": 6
           },
           {
            "bin_start": 0.14248431292901562,
            "bin_end": 0.26498655393915627,
            "count": 8
           },
           {
            "bin_start": 0.26498655393915627,
            "bin_end": 0.3874887949492969,
            "count": 1
           },
           {
            "bin_start": 0.3874887949492969,
            "bin_end": 0.5099910359594375,
            "count": 1
           },
           {
            "bin_start": 0.5099910359594375,
            "bin_end": 0.6324932769695781,
            "count": 0
           },
           {
            "bin_start": 0.6324932769695781,
            "bin_end": 0.7549955179797188,
            "count": 0
           },
           {
            "bin_start": 0.7549955179797188,
            "bin_end": 0.8774977589898594,
            "count": 0
           },
           {
            "bin_start": 0.8774977589898594,
            "bin_end": 1,
            "count": 1
           }
          ]
         }
        },
        {
         "name": "nO",
         "dtype": "float64",
         "stats": {
          "unique_count": 42,
          "nan_count": 0,
          "min": "-0.5022497409693487",
          "max": "1.0",
          "histogram": [
           {
            "bin_start": -0.5022497409693487,
            "bin_end": -0.35202476687241385,
            "count": 2
           },
           {
            "bin_start": -0.35202476687241385,
            "bin_end": -0.201799792775479,
            "count": 0
           },
           {
            "bin_start": -0.201799792775479,
            "bin_end": -0.05157481867854413,
            "count": 9
           },
           {
            "bin_start": -0.05157481867854413,
            "bin_end": 0.09865015541839073,
            "count": 11
           },
           {
            "bin_start": 0.09865015541839073,
            "bin_end": 0.24887512951532553,
            "count": 11
           },
           {
            "bin_start": 0.24887512951532553,
            "bin_end": 0.39910010361226045,
            "count": 6
           },
           {
            "bin_start": 0.39910010361226045,
            "bin_end": 0.5493250777091954,
            "count": 0
           },
           {
            "bin_start": 0.5493250777091954,
            "bin_end": 0.6995500518061302,
            "count": 0
           },
           {
            "bin_start": 0.6995500518061302,
            "bin_end": 0.849775025903065,
            "count": 2
           },
           {
            "bin_start": 0.849775025903065,
            "bin_end": 1,
            "count": 1
           }
          ]
         }
        },
        {
         "name": "F03[C-N]",
         "dtype": "float64",
         "stats": {
          "unique_count": 42,
          "nan_count": 0,
          "min": "-0.24196197002001277",
          "max": "1.0",
          "histogram": [
           {
            "bin_start": -0.24196197002001277,
            "bin_end": -0.11776577301801149,
            "count": 2
           },
           {
            "bin_start": -0.11776577301801149,
            "bin_end": 0.006430423983989797,
            "count": 14
           },
           {
            "bin_start": 0.006430423983989797,
            "bin_end": 0.13062662098599107,
            "count": 9
           },
           {
            "bin_start": 0.13062662098599107,
            "bin_end": 0.25482281798799233,
            "count": 4
           },
           {
            "bin_start": 0.25482281798799233,
            "bin_end": 0.3790190149899937,
            "count": 7
           },
           {
            "bin_start": 0.3790190149899937,
            "bin_end": 0.5032152119919949,
            "count": 2
           },
           {
            "bin_start": 0.5032152119919949,
            "bin_end": 0.6274114089939963,
            "count": 0
           },
           {
            "bin_start": 0.6274114089939963,
            "bin_end": 0.7516076059959975,
            "count": 0
           },
           {
            "bin_start": 0.7516076059959975,
            "bin_end": 0.8758038029979988,
            "count": 3
           },
           {
            "bin_start": 0.8758038029979988,
            "bin_end": 1,
            "count": 1
           }
          ]
         }
        },
        {
         "name": "SdssC",
         "dtype": "float64",
         "stats": {
          "unique_count": 42,
          "nan_count": 0,
          "min": "-0.5022497409693487",
          "max": "1.0",
          "histogram": [
           {
            "bin_start": -0.5022497409693487,
            "bin_end": -0.35202476687241385,
            "count": 4
           },
           {
            "bin_start": -0.35202476687241385,
            "bin_end": -0.201799792775479,
            "count": 3
           },
           {
            "bin_start": -0.201799792775479,
            "bin_end": -0.05157481867854413,
            "count": 17
           },
           {
            "bin_start": -0.05157481867854413,
            "bin_end": 0.09865015541839073,
            "count": 16
           },
           {
            "bin_start": 0.09865015541839073,
            "bin_end": 0.24887512951532553,
            "count": 0
           },
           {
            "bin_start": 0.24887512951532553,
            "bin_end": 0.39910010361226045,
            "count": 1
           },
           {
            "bin_start": 0.39910010361226045,
            "bin_end": 0.5493250777091954,
            "count": 0
           },
           {
            "bin_start": 0.5493250777091954,
            "bin_end": 0.6995500518061302,
            "count": 0
           },
           {
            "bin_start": 0.6995500518061302,
            "bin_end": 0.849775025903065,
            "count": 0
           },
           {
            "bin_start": 0.849775025903065,
            "bin_end": 1,
            "count": 1
           }
          ]
         }
        },
        {
         "name": "HyWi_B(m)",
         "dtype": "float64",
         "stats": {
          "unique_count": 42,
          "nan_count": 0,
          "min": "-0.3433200523318271",
          "max": "1.0",
          "histogram": [
           {
            "bin_start": -0.3433200523318271,
            "bin_end": -0.20898804709864438,
            "count": 2
           },
           {
            "bin_start": -0.20898804709864438,
            "bin_end": -0.07465604186546165,
            "count": 3
           },
           {
            "bin_start": -0.07465604186546165,
            "bin_end": 0.059675963367721074,
            "count": 3
           },
           {
            "bin_start": 0.059675963367721074,
            "bin_end": 0.1940079686009038,
            "count": 9
           },
           {
            "bin_start": 0.1940079686009038,
            "bin_end": 0.3283399738340865,
            "count": 11
           },
           {
            "bin_start": 0.3283399738340865,
            "bin_end": 0.46267197906726926,
            "count": 6
           },
           {
            "bin_start": 0.46267197906726926,
            "bin_end": 0.597003984300452,
            "count": 3
           },
           {
            "bin_start": 0.597003984300452,
            "bin_end": 0.7313359895336347,
            "count": 2
           },
           {
            "bin_start": 0.7313359895336347,
            "bin_end": 0.8656679947668173,
            "count": 2
           },
           {
            "bin_start": 0.8656679947668173,
            "bin_end": 1,
            "count": 1
           }
          ]
         }
        },
        {
         "name": "LOC",
         "dtype": "float64",
         "stats": {
          "unique_count": 42,
          "nan_count": 0,
          "min": "-0.3839622591425361",
          "max": "1.0",
          "histogram": [
           {
            "bin_start": -0.3839622591425361,
            "bin_end": -0.2455660332282825,
            "count": 3
           },
           {
            "bin_start": -0.2455660332282825,
            "bin_end": -0.10716980731402886,
            "count": 11
           },
           {
            "bin_start": -0.10716980731402886,
            "bin_end": 0.031226418600224792,
            "count": 16
           },
           {
            "bin_start": 0.031226418600224792,
            "bin_end": 0.1696226445144784,
            "count": 2
           },
           {
            "bin_start": 0.1696226445144784,
            "bin_end": 0.308018870428732,
            "count": 6
           },
           {
            "bin_start": 0.308018870428732,
            "bin_end": 0.4464150963429857,
            "count": 2
           },
           {
            "bin_start": 0.4464150963429857,
            "bin_end": 0.5848113222572393,
            "count": 0
           },
           {
            "bin_start": 0.5848113222572393,
            "bin_end": 0.7232075481714929,
            "count": 0
           },
           {
            "bin_start": 0.7232075481714929,
            "bin_end": 0.8616037740857466,
            "count": 1
           },
           {
            "bin_start": 0.8616037740857466,
            "bin_end": 1,
            "count": 1
           }
          ]
         }
        },
        {
         "name": "SM6_L",
         "dtype": "float64",
         "stats": {
          "unique_count": 42,
          "nan_count": 0,
          "min": "-0.34252107654613373",
          "max": "1.0",
          "histogram": [
           {
            "bin_start": -0.34252107654613373,
            "bin_end": -0.20826896889152036,
            "count": 1
           },
           {
            "bin_start": -0.20826896889152036,
            "bin_end": -0.07401686123690698,
            "count": 3
           },
           {
            "bin_start": -0.07401686123690698,
            "bin_end": 0.06023524641770639,
            "count": 6
           },
           {
            "bin_start": 0.06023524641770639,
            "bin_end": 0.19448735407231976,
            "count": 9
           },
           {
            "bin_start": 0.19448735407231976,
            "bin_end": 0.32873946172693314,
            "count": 11
           },
           {
            "bin_start": 0.32873946172693314,
            "bin_end": 0.4629915693815465,
            "count": 5
           },
           {
            "bin_start": 0.4629915693815465,
            "bin_end": 0.5972436770361599,
            "count": 3
           },
           {
            "bin_start": 0.5972436770361599,
            "bin_end": 0.7314957846907733,
            "count": 0
           },
           {
            "bin_start": 0.7314957846907733,
            "bin_end": 0.8657478923453865,
            "count": 1
           },
           {
            "bin_start": 0.8657478923453865,
            "bin_end": 1,
            "count": 3
           }
          ]
         }
        },
        {
         "name": "F03[C-O]",
         "dtype": "float64",
         "stats": {
          "unique_count": 42,
          "nan_count": 0,
          "min": "-0.36895193381206826",
          "max": "1.0",
          "histogram": [
           {
            "bin_start": -0.36895193381206826,
            "bin_end": -0.23205674043086144,
            "count": 1
           },
           {
            "bin_start": -0.23205674043086144,
            "bin_end": -0.09516154704965463,
            "count": 2
           },
           {
            "bin_start": -0.09516154704965463,
            "bin_end": 0.04173364633155219,
            "count": 15
           },
           {
            "bin_start": 0.04173364633155219,
            "bin_end": 0.178628839712759,
            "count": 9
           },
           {
            "bin_start": 0.178628839712759,
            "bin_end": 0.3155240330939658,
            "count": 7
           },
           {
            "bin_start": 0.3155240330939658,
            "bin_end": 0.45241922647517263,
            "count": 3
           },
           {
            "bin_start": 0.45241922647517263,
            "bin_end": 0.5893144198563794,
            "count": 2
           },
           {
            "bin_start": 0.5893144198563794,
            "bin_end": 0.7262096132375863,
            "count": 1
           },
           {
            "bin_start": 0.7262096132375863,
            "bin_end": 0.8631048066187931,
            "count": 1
           },
           {
            "bin_start": 0.8631048066187931,
            "bin_end": 1,
            "count": 1
           }
          ]
         }
        },
        {
         "name": "Me",
         "dtype": "float64",
         "stats": {
          "unique_count": 42,
          "nan_count": 0,
          "min": "-0.3461183598983202",
          "max": "1.0",
          "histogram": [
           {
            "bin_start": -0.3461183598983202,
            "bin_end": -0.21150652390848818,
            "count": 2
           },
           {
            "bin_start": -0.21150652390848818,
            "bin_end": -0.07689468791865617,
            "count": 5
           },
           {
            "bin_start": -0.07689468791865617,
            "bin_end": 0.05771714807117584,
            "count": 12
           },
           {
            "bin_start": 0.05771714807117584,
            "bin_end": 0.19232898406100785,
            "count": 8
           },
           {
            "bin_start": 0.19232898406100785,
            "bin_end": 0.3269408200508399,
            "count": 7
           },
           {
            "bin_start": 0.3269408200508399,
            "bin_end": 0.46155265604067186,
            "count": 3
           },
           {
            "bin_start": 0.46155265604067186,
            "bin_end": 0.5961644920305038,
            "count": 2
           },
           {
            "bin_start": 0.5961644920305038,
            "bin_end": 0.7307763280203359,
            "count": 1
           },
           {
            "bin_start": 0.7307763280203359,
            "bin_end": 0.8653881640101679,
            "count": 1
           },
           {
            "bin_start": 0.8653881640101679,
            "bin_end": 1,
            "count": 1
           }
          ]
         }
        },
        {
         "name": "Mi",
         "dtype": "float64",
         "stats": {
          "unique_count": 42,
          "nan_count": 0,
          "min": "-0.7869491892729996",
          "max": "1.0",
          "histogram": [
           {
            "bin_start": -0.7869491892729996,
            "bin_end": -0.6082542703456997,
            "count": 2
           },
           {
            "bin_start": -0.6082542703456997,
            "bin_end": -0.4295593514183997,
            "count": 1
           },
           {
            "bin_start": -0.4295593514183997,
            "bin_end": -0.2508644324910997,
            "count": 7
           },
           {
            "bin_start": -0.2508644324910997,
            "bin_end": -0.07216951356379975,
            "count": 7
           },
           {
            "bin_start": -0.07216951356379975,
            "bin_end": 0.10652540536350019,
            "count": 11
           },
           {
            "bin_start": 0.10652540536350019,
            "bin_end": 0.28522032429080024,
            "count": 7
           },
           {
            "bin_start": 0.28522032429080024,
            "bin_end": 0.4639152432181002,
            "count": 4
           },
           {
            "bin_start": 0.4639152432181002,
            "bin_end": 0.6426101621454001,
            "count": 2
           },
           {
            "bin_start": 0.6426101621454001,
            "bin_end": 0.8213050810727001,
            "count": 0
           },
           {
            "bin_start": 0.8213050810727001,
            "bin_end": 1,
            "count": 1
           }
          ]
         }
        },
        {
         "name": "nN-N",
         "dtype": "float64",
         "stats": {
          "unique_count": 42,
          "nan_count": 0,
          "min": "-0.13511480007360335",
          "max": "1.0",
          "histogram": [
           {
            "bin_start": -0.13511480007360335,
            "bin_end": -0.02160332006624302,
            "count": 16
           },
           {
            "bin_start": -0.02160332006624302,
            "bin_end": 0.09190815994111731,
            "count": 21
           },
           {
            "bin_start": 0.09190815994111731,
            "bin_end": 0.20541963994847764,
            "count": 3
           },
           {
            "bin_start": 0.20541963994847764,
            "bin_end": 0.318931119955838,
            "count": 0
           },
           {
            "bin_start": 0.318931119955838,
            "bin_end": 0.43244259996319834,
            "count": 1
           },
           {
            "bin_start": 0.43244259996319834,
            "bin_end": 0.5459540799705587,
            "count": 0
           },
           {
            "bin_start": 0.5459540799705587,
            "bin_end": 0.659465559977919,
            "count": 0
           },
           {
            "bin_start": 0.659465559977919,
            "bin_end": 0.7729770399852793,
            "count": 0
           },
           {
            "bin_start": 0.7729770399852793,
            "bin_end": 0.8864885199926398,
            "count": 0
           },
           {
            "bin_start": 0.8864885199926398,
            "bin_end": 1,
            "count": 1
           }
          ]
         }
        },
        {
         "name": "nArNO2",
         "dtype": "float64",
         "stats": {
          "unique_count": 42,
          "nan_count": 0,
          "min": "-0.15347672644308155",
          "max": "1.0",
          "histogram": [
           {
            "bin_start": -0.15347672644308155,
            "bin_end": -0.03812905379877339,
            "count": 10
           },
           {
            "bin_start": -0.03812905379877339,
            "bin_end": 0.07721861884553477,
            "count": 16
           },
           {
            "bin_start": 0.07721861884553477,
            "bin_end": 0.19256629148984292,
            "count": 5
           },
           {
            "bin_start": 0.19256629148984292,
            "bin_end": 0.30791396413415106,
            "count": 9
           },
           {
            "bin_start": 0.30791396413415106,
            "bin_end": 0.4232616367784593,
            "count": 0
           },
           {
            "bin_start": 0.4232616367784593,
            "bin_end": 0.5386093094227674,
            "count": 1
           },
           {
            "bin_start": 0.5386093094227674,
            "bin_end": 0.6539569820670756,
            "count": 0
           },
           {
            "bin_start": 0.6539569820670756,
            "bin_end": 0.7693046547113838,
            "count": 0
           },
           {
            "bin_start": 0.7693046547113838,
            "bin_end": 0.884652327355692,
            "count": 0
           },
           {
            "bin_start": 0.884652327355692,
            "bin_end": 1,
            "count": 1
           }
          ]
         }
        },
        {
         "name": "nCRX3",
         "dtype": "float64",
         "stats": {
          "unique_count": 42,
          "nan_count": 0,
          "min": "-0.15641558976018358",
          "max": "1.0",
          "histogram": [
           {
            "bin_start": -0.15641558976018358,
            "bin_end": -0.04077403078416522,
            "count": 11
           },
           {
            "bin_start": -0.04077403078416522,
            "bin_end": 0.07486752819185313,
            "count": 18
           },
           {
            "bin_start": 0.07486752819185313,
            "bin_end": 0.1905090871678715,
            "count": 5
           },
           {
            "bin_start": 0.1905090871678715,
            "bin_end": 0.30615064614388987,
            "count": 1
           },
           {
            "bin_start": 0.30615064614388987,
            "bin_end": 0.4217922051199082,
            "count": 2
           },
           {
            "bin_start": 0.4217922051199082,
            "bin_end": 0.5374337640959266,
            "count": 3
           },
           {
            "bin_start": 0.5374337640959266,
            "bin_end": 0.6530753230719449,
            "count": 1
           },
           {
            "bin_start": 0.6530753230719449,
            "bin_end": 0.7687168820479633,
            "count": 0
           },
           {
            "bin_start": 0.7687168820479633,
            "bin_end": 0.8843584410239818,
            "count": 0
           },
           {
            "bin_start": 0.8843584410239818,
            "bin_end": 1,
            "count": 1
           }
          ]
         }
        },
        {
         "name": "SpPosA_B(p)",
         "dtype": "float64",
         "stats": {
          "unique_count": 42,
          "nan_count": 0,
          "min": "-0.7869491892729996",
          "max": "1.0",
          "histogram": [
           {
            "bin_start": -0.7869491892729996,
            "bin_end": -0.6082542703456997,
            "count": 1
           },
           {
            "bin_start": -0.6082542703456997,
            "bin_end": -0.4295593514183997,
            "count": 1
           },
           {
            "bin_start": -0.4295593514183997,
            "bin_end": -0.2508644324910997,
            "count": 5
           },
           {
            "bin_start": -0.2508644324910997,
            "bin_end": -0.07216951356379975,
            "count": 8
           },
           {
            "bin_start": -0.07216951356379975,
            "bin_end": 0.10652540536350019,
            "count": 10
           },
           {
            "bin_start": 0.10652540536350019,
            "bin_end": 0.28522032429080024,
            "count": 5
           },
           {
            "bin_start": 0.28522032429080024,
            "bin_end": 0.4639152432181002,
            "count": 7
           },
           {
            "bin_start": 0.4639152432181002,
            "bin_end": 0.6426101621454001,
            "count": 4
           },
           {
            "bin_start": 0.6426101621454001,
            "bin_end": 0.8213050810727001,
            "count": 0
           },
           {
            "bin_start": 0.8213050810727001,
            "bin_end": 1,
            "count": 1
           }
          ]
         }
        },
        {
         "name": "nCIR",
         "dtype": "float64",
         "stats": {
          "unique_count": 42,
          "nan_count": 0,
          "min": "-0.2161458845920747",
          "max": "1.0",
          "histogram": [
           {
            "bin_start": -0.2161458845920747,
            "bin_end": -0.09453129613286723,
            "count": 4
           },
           {
            "bin_start": -0.09453129613286723,
            "bin_end": 0.02708329232634024,
            "count": 15
           },
           {
            "bin_start": 0.02708329232634024,
            "bin_end": 0.14869788078554771,
            "count": 9
           },
           {
            "bin_start": 0.14869788078554771,
            "bin_end": 0.27031246924475516,
            "count": 9
           },
           {
            "bin_start": 0.27031246924475516,
            "bin_end": 0.39192705770396263,
            "count": 2
           },
           {
            "bin_start": 0.39192705770396263,
            "bin_end": 0.5135416461631701,
            "count": 1
           },
           {
            "bin_start": 0.5135416461631701,
            "bin_end": 0.6351562346223776,
            "count": 1
           },
           {
            "bin_start": 0.6351562346223776,
            "bin_end": 0.756770823081585,
            "count": 0
           },
           {
            "bin_start": 0.756770823081585,
            "bin_end": 0.8783854115407925,
            "count": 0
           },
           {
            "bin_start": 0.8783854115407925,
            "bin_end": 1,
            "count": 1
           }
          ]
         }
        },
        {
         "name": "B01[C-Br]",
         "dtype": "float64",
         "stats": {
          "unique_count": 42,
          "nan_count": 0,
          "min": "-0.1713901485174801",
          "max": "1.0",
          "histogram": [
           {
            "bin_start": -0.1713901485174801,
            "bin_end": -0.0542511336657321,
            "count": 11
           },
           {
            "bin_start": -0.0542511336657321,
            "bin_end": 0.0628878811860159,
            "count": 20
           },
           {
            "bin_start": 0.0628878811860159,
            "bin_end": 0.18002689603776392,
            "count": 3
           },
           {
            "bin_start": 0.18002689603776392,
            "bin_end": 0.29716591088951194,
            "count": 1
           },
           {
            "bin_start": 0.29716591088951194,
            "bin_end": 0.4143049257412599,
            "count": 3
           },
           {
            "bin_start": 0.4143049257412599,
            "bin_end": 0.5314439405930079,
            "count": 0
           },
           {
            "bin_start": 0.5314439405930079,
            "bin_end": 0.6485829554447559,
            "count": 2
           },
           {
            "bin_start": 0.6485829554447559,
            "bin_end": 0.7657219702965039,
            "count": 0
           },
           {
            "bin_start": 0.7657219702965039,
            "bin_end": 0.882860985148252,
            "count": 1
           },
           {
            "bin_start": 0.882860985148252,
            "bin_end": 1,
            "count": 1
           }
          ]
         }
        },
        {
         "name": "BO3[C-Cl]",
         "dtype": "float64",
         "stats": {
          "unique_count": 42,
          "nan_count": 0,
          "min": "-0.25191664657834395",
          "max": "1.0",
          "histogram": [
           {
            "bin_start": -0.25191664657834395,
            "bin_end": -0.12672498192050954,
            "count": 4
           },
           {
            "bin_start": -0.12672498192050954,
            "bin_end": -0.001533317262675138,
            "count": 12
           },
           {
            "bin_start": -0.001533317262675138,
            "bin_end": 0.1236583473951593,
            "count": 14
           },
           {
            "bin_start": 0.1236583473951593,
            "bin_end": 0.24885001205299367,
            "count": 5
           },
           {
            "bin_start": 0.24885001205299367,
            "bin_end": 0.37404167671082805,
            "count": 4
           },
           {
            "bin_start": 0.37404167671082805,
            "bin_end": 0.49923334136866254,
            "count": 1
           },
           {
            "bin_start": 0.49923334136866254,
            "bin_end": 0.6244250060264969,
            "count": 1
           },
           {
            "bin_start": 0.6244250060264969,
            "bin_end": 0.7496166706843312,
            "count": 0
           },
           {
            "bin_start": 0.7496166706843312,
            "bin_end": 0.8748083353421656,
            "count": 0
           },
           {
            "bin_start": 0.8748083353421656,
            "bin_end": 1,
            "count": 1
           }
          ]
         }
        },
        {
         "name": "N-073",
         "dtype": "float64",
         "stats": {
          "unique_count": 42,
          "nan_count": 0,
          "min": "-0.1425079103871773",
          "max": "1.0",
          "histogram": [
           {
            "bin_start": -0.1425079103871773,
            "bin_end": -0.028257119348459564,
            "count": 12
           },
           {
            "bin_start": -0.028257119348459564,
            "bin_end": 0.08599367169025818,
            "count": 16
           },
           {
            "bin_start": 0.08599367169025818,
            "bin_end": 0.20024446272897595,
            "count": 7
           },
           {
            "bin_start": 0.20024446272897595,
            "bin_end": 0.31449525376769366,
            "count": 2
           },
           {
            "bin_start": 0.31449525376769366,
            "bin_end": 0.4287460448064114,
            "count": 4
           },
           {
            "bin_start": 0.4287460448064114,
            "bin_end": 0.5429968358451291,
            "count": 0
           },
           {
            "bin_start": 0.5429968358451291,
            "bin_end": 0.657247626883847,
            "count": 0
           },
           {
            "bin_start": 0.657247626883847,
            "bin_end": 0.7714984179225646,
            "count": 0
           },
           {
            "bin_start": 0.7714984179225646,
            "bin_end": 0.8857492089612824,
            "count": 0
           },
           {
            "bin_start": 0.8857492089612824,
            "bin_end": 1,
            "count": 1
           }
          ]
         }
        },
        {
         "name": "SpMax_A",
         "dtype": "float64",
         "stats": {
          "unique_count": 42,
          "nan_count": 0,
          "min": "-0.3889351958285435",
          "max": "1.0",
          "histogram": [
           {
            "bin_start": -0.3889351958285435,
            "bin_end": -0.2500416762456892,
            "count": 2
           },
           {
            "bin_start": -0.2500416762456892,
            "bin_end": -0.11114815666283479,
            "count": 2
           },
           {
            "bin_start": -0.11114815666283479,
            "bin_end": 0.02774536292001961,
            "count": 7
           },
           {
            "bin_start": 0.02774536292001961,
            "bin_end": 0.16663888250287395,
            "count": 9
           },
           {
            "bin_start": 0.16663888250287395,
            "bin_end": 0.3055324020857283,
            "count": 11
           },
           {
            "bin_start": 0.3055324020857283,
            "bin_end": 0.44442592166858275,
            "count": 4
           },
           {
            "bin_start": 0.44442592166858275,
            "bin_end": 0.5833194412514371,
            "count": 3
           },
           {
            "bin_start": 0.5833194412514371,
            "bin_end": 0.7222129608342914,
            "count": 1
           },
           {
            "bin_start": 0.7222129608342914,
            "bin_end": 0.8611064804171459,
            "count": 0
           },
           {
            "bin_start": 0.8611064804171459,
            "bin_end": 1,
            "count": 3
           }
          ]
         }
        },
        {
         "name": "Psi_i_1d",
         "dtype": "float64",
         "stats": {
          "unique_count": 42,
          "nan_count": 0,
          "min": "-0.02792199779264211",
          "max": "1.0",
          "histogram": [
           {
            "bin_start": -0.02792199779264211,
            "bin_end": 0.0748702019866221,
            "count": 41
           },
           {
            "bin_start": 0.0748702019866221,
            "bin_end": 0.17766240176588632,
            "count": 0
           },
           {
            "bin_start": 0.17766240176588632,
            "bin_end": 0.2804546015451505,
            "count": 0
           },
           {
            "bin_start": 0.2804546015451505,
            "bin_end": 0.38324680132441474,
            "count": 0
           },
           {
            "bin_start": 0.38324680132441474,
            "bin_end": 0.486039001103679,
            "count": 0
           },
           {
            "bin_start": 0.486039001103679,
            "bin_end": 0.588831200882943,
            "count": 0
           },
           {
            "bin_start": 0.588831200882943,
            "bin_end": 0.6916234006622073,
            "count": 0
           },
           {
            "bin_start": 0.6916234006622073,
            "bin_end": 0.7944156004414715,
            "count": 0
           },
           {
            "bin_start": 0.7944156004414715,
            "bin_end": 0.8972078002207358,
            "count": 0
           },
           {
            "bin_start": 0.8972078002207358,
            "bin_end": 1,
            "count": 1
           }
          ]
         }
        },
        {
         "name": "BO4[C-Br]",
         "dtype": "float64",
         "stats": {
          "unique_count": 42,
          "nan_count": 0,
          "min": "-0.22308609754393474",
          "max": "1.0",
          "histogram": [
           {
            "bin_start": -0.22308609754393474,
            "bin_end": -0.10077748778954126,
            "count": 1
           },
           {
            "bin_start": -0.10077748778954126,
            "bin_end": 0.021531121964852212,
            "count": 25
           },
           {
            "bin_start": 0.021531121964852212,
            "bin_end": 0.14383973171924566,
            "count": 5
           },
           {
            "bin_start": 0.14383973171924566,
            "bin_end": 0.2661483414736392,
            "count": 4
           },
           {
            "bin_start": 0.2661483414736392,
            "bin_end": 0.3884569512280327,
            "count": 3
           },
           {
            "bin_start": 0.3884569512280327,
            "bin_end": 0.5107655609824261,
            "count": 2
           },
           {
            "bin_start": 0.5107655609824261,
            "bin_end": 0.6330741707368196,
            "count": 0
           },
           {
            "bin_start": 0.6330741707368196,
            "bin_end": 0.7553827804912131,
            "count": 0
           },
           {
            "bin_start": 0.7553827804912131,
            "bin_end": 0.8776913902456066,
            "count": 1
           },
           {
            "bin_start": 0.8776913902456066,
            "bin_end": 1,
            "count": 1
           }
          ]
         }
        },
        {
         "name": "SdO",
         "dtype": "float64",
         "stats": {
          "unique_count": 42,
          "nan_count": 0,
          "min": "-0.4777623347160019",
          "max": "1.0",
          "histogram": [
           {
            "bin_start": -0.4777623347160019,
            "bin_end": -0.3299861012444017,
            "count": 1
           },
           {
            "bin_start": -0.3299861012444017,
            "bin_end": -0.18220986777280151,
            "count": 0
           },
           {
            "bin_start": -0.18220986777280151,
            "bin_end": -0.03443363430120133,
            "count": 8
           },
           {
            "bin_start": -0.03443363430120133,
            "bin_end": 0.11334259917039885,
            "count": 12
           },
           {
            "bin_start": 0.11334259917039885,
            "bin_end": 0.26111883264199903,
            "count": 9
           },
           {
            "bin_start": 0.26111883264199903,
            "bin_end": 0.4088950661135992,
            "count": 8
           },
           {
            "bin_start": 0.4088950661135992,
            "bin_end": 0.5566712995851995,
            "count": 1
           },
           {
            "bin_start": 0.5566712995851995,
            "bin_end": 0.7044475330567996,
            "count": 1
           },
           {
            "bin_start": 0.7044475330567996,
            "bin_end": 0.8522237665283998,
            "count": 1
           },
           {
            "bin_start": 0.8522237665283998,
            "bin_end": 1,
            "count": 1
           }
          ]
         }
        },
        {
         "name": "TI2_L",
         "dtype": "float64",
         "stats": {
          "unique_count": 42,
          "nan_count": 0,
          "min": "-0.2127450674856091",
          "max": "1.0",
          "histogram": [
           {
            "bin_start": -0.2127450674856091,
            "bin_end": -0.09147056073704818,
            "count": 6
           },
           {
            "bin_start": -0.09147056073704818,
            "bin_end": 0.029803946011512733,
            "count": 19
           },
           {
            "bin_start": 0.029803946011512733,
            "bin_end": 0.15107845276007367,
            "count": 8
           },
           {
            "bin_start": 0.15107845276007367,
            "bin_end": 0.2723529595086346,
            "count": 4
           },
           {
            "bin_start": 0.2723529595086346,
            "bin_end": 0.39362746625719547,
            "count": 2
           },
           {
            "bin_start": 0.39362746625719547,
            "bin_end": 0.5149019730057565,
            "count": 1
           },
           {
            "bin_start": 0.5149019730057565,
            "bin_end": 0.6361764797543173,
            "count": 0
           },
           {
            "bin_start": 0.6361764797543173,
            "bin_end": 0.7574509865028782,
            "count": 1
           },
           {
            "bin_start": 0.7574509865028782,
            "bin_end": 0.8787254932514392,
            "count": 0
           },
           {
            "bin_start": 0.8787254932514392,
            "bin_end": 1,
            "count": 1
           }
          ]
         }
        },
        {
         "name": "nCrt",
         "dtype": "float64",
         "stats": {
          "unique_count": 42,
          "nan_count": 0,
          "min": "-0.20329997727873633",
          "max": "1.0",
          "histogram": [
           {
            "bin_start": -0.20329997727873633,
            "bin_end": -0.0829699795508627,
            "count": 5
           },
           {
            "bin_start": -0.0829699795508627,
            "bin_end": 0.03736001817701093,
            "count": 24
           },
           {
            "bin_start": 0.03736001817701093,
            "bin_end": 0.15769001590488457,
            "count": 6
           },
           {
            "bin_start": 0.15769001590488457,
            "bin_end": 0.2780200136327582,
            "count": 5
           },
           {
            "bin_start": 0.2780200136327582,
            "bin_end": 0.3983500113606318,
            "count": 1
           },
           {
            "bin_start": 0.3983500113606318,
            "bin_end": 0.5186800090885055,
            "count": 0
           },
           {
            "bin_start": 0.5186800090885055,
            "bin_end": 0.6390100068163791,
            "count": 0
           },
           {
            "bin_start": 0.6390100068163791,
            "bin_end": 0.7593400045442527,
            "count": 0
           },
           {
            "bin_start": 0.7593400045442527,
            "bin_end": 0.8796700022721264,
            "count": 0
           },
           {
            "bin_start": 0.8796700022721264,
            "bin_end": 1,
            "count": 1
           }
          ]
         }
        },
        {
         "name": "C-026",
         "dtype": "float64",
         "stats": {
          "unique_count": 42,
          "nan_count": 0,
          "min": "-0.35697517970802534",
          "max": "1.0",
          "histogram": [
           {
            "bin_start": -0.35697517970802534,
            "bin_end": -0.2212776617372228,
            "count": 2
           },
           {
            "bin_start": -0.2212776617372228,
            "bin_end": -0.08558014376642026,
            "count": 3
           },
           {
            "bin_start": -0.08558014376642026,
            "bin_end": 0.05011737420438228,
            "count": 9
           },
           {
            "bin_start": 0.05011737420438228,
            "bin_end": 0.18581489217518482,
            "count": 7
           },
           {
            "bin_start": 0.18581489217518482,
            "bin_end": 0.32151241014598736,
            "count": 9
           },
           {
            "bin_start": 0.32151241014598736,
            "bin_end": 0.4572099281167899,
            "count": 10
           },
           {
            "bin_start": 0.4572099281167899,
            "bin_end": 0.5929074460875925,
            "count": 0
           },
           {
            "bin_start": 0.5929074460875925,
            "bin_end": 0.7286049640583949,
            "count": 0
           },
           {
            "bin_start": 0.7286049640583949,
            "bin_end": 0.8643024820291976,
            "count": 1
           },
           {
            "bin_start": 0.8643024820291976,
            "bin_end": 1,
            "count": 1
           }
          ]
         }
        },
        {
         "name": "F02[C-N]",
         "dtype": "float64",
         "stats": {
          "unique_count": 42,
          "nan_count": 0,
          "min": "-0.2684194549641361",
          "max": "1.0",
          "histogram": [
           {
            "bin_start": -0.2684194549641361,
            "bin_end": -0.1415775094677225,
            "count": 2
           },
           {
            "bin_start": -0.1415775094677225,
            "bin_end": -0.014735563971308874,
            "count": 13
           },
           {
            "bin_start": -0.014735563971308874,
            "bin_end": 0.11210638152510477,
            "count": 11
           },
           {
            "bin_start": 0.11210638152510477,
            "bin_end": 0.23894832702151836,
            "count": 3
           },
           {
            "bin_start": 0.23894832702151836,
            "bin_end": 0.36579027251793195,
            "count": 6
           },
           {
            "bin_start": 0.36579027251793195,
            "bin_end": 0.49263221801434565,
            "count": 2
           },
           {
            "bin_start": 0.49263221801434565,
            "bin_end": 0.6194741635107592,
            "count": 1
           },
           {
            "bin_start": 0.6194741635107592,
            "bin_end": 0.7463161090071728,
            "count": 0
           },
           {
            "bin_start": 0.7463161090071728,
            "bin_end": 0.8731580545035864,
            "count": 3
           },
           {
            "bin_start": 0.8731580545035864,
            "bin_end": 1,
            "count": 1
           }
          ]
         }
        },
        {
         "name": "nHDon",
         "dtype": "float64",
         "stats": {
          "unique_count": 42,
          "nan_count": 0,
          "min": "-0.30583057657945",
          "max": "1.0",
          "histogram": [
           {
            "bin_start": -0.30583057657945,
            "bin_end": -0.175247518921505,
            "count": 3
           },
           {
            "bin_start": -0.175247518921505,
            "bin_end": -0.044664461263559996,
            "count": 12
           },
           {
            "bin_start": -0.044664461263559996,
            "bin_end": 0.08591859639438504,
            "count": 14
           },
           {
            "bin_start": 0.08591859639438504,
            "bin_end": 0.21650165405233002,
            "count": 8
           },
           {
            "bin_start": 0.21650165405233002,
            "bin_end": 0.347084711710275,
            "count": 3
           },
           {
            "bin_start": 0.347084711710275,
            "bin_end": 0.4776677693682201,
            "count": 1
           },
           {
            "bin_start": 0.4776677693682201,
            "bin_end": 0.6082508270261651,
            "count": 0
           },
           {
            "bin_start": 0.6082508270261651,
            "bin_end": 0.73883388468411,
            "count": 0
           },
           {
            "bin_start": 0.73883388468411,
            "bin_end": 0.869416942342055,
            "count": 0
           },
           {
            "bin_start": 0.869416942342055,
            "bin_end": 1,
            "count": 1
           }
          ]
         }
        },
        {
         "name": "SpMax_B(m)",
         "dtype": "float64",
         "stats": {
          "unique_count": 42,
          "nan_count": 0,
          "min": "-0.28872715401695126",
          "max": "1.0",
          "histogram": [
           {
            "bin_start": -0.28872715401695126,
            "bin_end": -0.1598544386152561,
            "count": 2
           },
           {
            "bin_start": -0.1598544386152561,
            "bin_end": -0.030981723213560963,
            "count": 7
           },
           {
            "bin_start": -0.030981723213560963,
            "bin_end": 0.09789099218813418,
            "count": 17
           },
           {
            "bin_start": 0.09789099218813418,
            "bin_end": 0.22676370758982933,
            "count": 4
           },
           {
            "bin_start": 0.22676370758982933,
            "bin_end": 0.3556364229915244,
            "count": 5
           },
           {
            "bin_start": 0.3556364229915244,
            "bin_end": 0.48450913839321963,
            "count": 1
           },
           {
            "bin_start": 0.48450913839321963,
            "bin_end": 0.6133818537949148,
            "count": 4
           },
           {
            "bin_start": 0.6133818537949148,
            "bin_end": 0.7422545691966099,
            "count": 0
           },
           {
            "bin_start": 0.7422545691966099,
            "bin_end": 0.871127284598305,
            "count": 0
           },
           {
            "bin_start": 0.871127284598305,
            "bin_end": 1,
            "count": 2
           }
          ]
         }
        },
        {
         "name": " Psi_i_A",
         "dtype": "float64",
         "stats": {
          "unique_count": 42,
          "nan_count": 0,
          "min": "-0.43750259709524947",
          "max": "1.0",
          "histogram": [
           {
            "bin_start": -0.43750259709524947,
            "bin_end": -0.2937523373857245,
            "count": 2
           },
           {
            "bin_start": -0.2937523373857245,
            "bin_end": -0.15000207767619955,
            "count": 3
           },
           {
            "bin_start": -0.15000207767619955,
            "bin_end": -0.006251817966674567,
            "count": 16
           },
           {
            "bin_start": -0.006251817966674567,
            "bin_end": 0.13749844174285036,
            "count": 9
           },
           {
            "bin_start": 0.13749844174285036,
            "bin_end": 0.2812487014523753,
            "count": 3
           },
           {
            "bin_start": 0.2812487014523753,
            "bin_end": 0.42499896116190033,
            "count": 5
           },
           {
            "bin_start": 0.42499896116190033,
            "bin_end": 0.5687492208714251,
            "count": 2
           },
           {
            "bin_start": 0.5687492208714251,
            "bin_end": 0.7124994805809501,
            "count": 0
           },
           {
            "bin_start": 0.7124994805809501,
            "bin_end": 0.8562497402904752,
            "count": 1
           },
           {
            "bin_start": 0.8562497402904752,
            "bin_end": 1,
            "count": 1
           }
          ]
         }
        },
        {
         "name": "nN",
         "dtype": "float64",
         "stats": {
          "unique_count": 42,
          "nan_count": 0,
          "min": "-0.2612059273171437",
          "max": "1.0",
          "histogram": [
           {
            "bin_start": -0.2612059273171437,
            "bin_end": -0.13508533458542935,
            "count": 1
           },
           {
            "bin_start": -0.13508533458542935,
            "bin_end": -0.008964741853714986,
            "count": 15
           },
           {
            "bin_start": -0.008964741853714986,
            "bin_end": 0.11715585087799935,
            "count": 10
           },
           {
            "bin_start": 0.11715585087799935,
            "bin_end": 0.24327644360971373,
            "count": 7
           },
           {
            "bin_start": 0.24327644360971373,
            "bin_end": 0.3693970363414281,
            "count": 3
           },
           {
            "bin_start": 0.3693970363414281,
            "bin_end": 0.4955176290731424,
            "count": 2
           },
           {
            "bin_start": 0.4955176290731424,
            "bin_end": 0.6216382218048568,
            "count": 0
           },
           {
            "bin_start": 0.6216382218048568,
            "bin_end": 0.7477588145365712,
            "count": 1
           },
           {
            "bin_start": 0.7477588145365712,
            "bin_end": 0.8738794072682856,
            "count": 2
           },
           {
            "bin_start": 0.8738794072682856,
            "bin_end": 1,
            "count": 1
           }
          ]
         }
        },
        {
         "name": "SM6_B(m)",
         "dtype": "float64",
         "stats": {
          "unique_count": 42,
          "nan_count": 0,
          "min": "-0.36587329732604273",
          "max": "1.0",
          "histogram": [
           {
            "bin_start": -0.36587329732604273,
            "bin_end": -0.22928596759343844,
            "count": 2
           },
           {
            "bin_start": -0.22928596759343844,
            "bin_end": -0.09269863786083415,
            "count": 1
           },
           {
            "bin_start": -0.09269863786083415,
            "bin_end": 0.043888691871770136,
            "count": 10
           },
           {
            "bin_start": 0.043888691871770136,
            "bin_end": 0.18047602160437443,
            "count": 12
           },
           {
            "bin_start": 0.18047602160437443,
            "bin_end": 0.31706335133697877,
            "count": 4
           },
           {
            "bin_start": 0.31706335133697877,
            "bin_end": 0.453650681069583,
            "count": 3
           },
           {
            "bin_start": 0.453650681069583,
            "bin_end": 0.5902380108021872,
            "count": 5
           },
           {
            "bin_start": 0.5902380108021872,
            "bin_end": 0.7268253405347915,
            "count": 2
           },
           {
            "bin_start": 0.7268253405347915,
            "bin_end": 0.8634126702673959,
            "count": 1
           },
           {
            "bin_start": 0.8634126702673959,
            "bin_end": 1,
            "count": 2
           }
          ]
         }
        },
        {
         "name": "nArCOOR",
         "dtype": "float64",
         "stats": {
          "unique_count": 42,
          "nan_count": 0,
          "min": "-0.2376700059893673",
          "max": "1.0",
          "histogram": [
           {
            "bin_start": -0.2376700059893673,
            "bin_end": -0.11390300539043058,
            "count": 1
           },
           {
            "bin_start": -0.11390300539043058,
            "bin_end": 0.009863995208506143,
            "count": 24
           },
           {
            "bin_start": 0.009863995208506143,
            "bin_end": 0.13363099580744284,
            "count": 12
           },
           {
            "bin_start": 0.13363099580744284,
            "bin_end": 0.2573979964063796,
            "count": 3
           },
           {
            "bin_start": 0.2573979964063796,
            "bin_end": 0.38116499700531636,
            "count": 1
           },
           {
            "bin_start": 0.38116499700531636,
            "bin_end": 0.504931997604253,
            "count": 0
           },
           {
            "bin_start": 0.504931997604253,
            "bin_end": 0.6286989982031898,
            "count": 0
           },
           {
            "bin_start": 0.6286989982031898,
            "bin_end": 0.7524659988021265,
            "count": 0
           },
           {
            "bin_start": 0.7524659988021265,
            "bin_end": 0.8762329994010631,
            "count": 0
           },
           {
            "bin_start": 0.8762329994010631,
            "bin_end": 1,
            "count": 1
           }
          ]
         }
        },
        {
         "name": "nX",
         "dtype": "float64",
         "stats": {
          "unique_count": 42,
          "nan_count": 0,
          "min": "-0.21425679603692208",
          "max": "1.0",
          "histogram": [
           {
            "bin_start": -0.21425679603692208,
            "bin_end": -0.09283111643322986,
            "count": 5
           },
           {
            "bin_start": -0.09283111643322986,
            "bin_end": 0.028594563170462356,
            "count": 15
           },
           {
            "bin_start": 0.028594563170462356,
            "bin_end": 0.15002024277415457,
            "count": 3
           },
           {
            "bin_start": 0.15002024277415457,
            "bin_end": 0.2714459223778468,
            "count": 6
           },
           {
            "bin_start": 0.2714459223778468,
            "bin_end": 0.39287160198153903,
            "count": 7
           },
           {
            "bin_start": 0.39287160198153903,
            "bin_end": 0.5142972815852312,
            "count": 1
           },
           {
            "bin_start": 0.5142972815852312,
            "bin_end": 0.6357229611889235,
            "count": 2
           },
           {
            "bin_start": 0.6357229611889235,
            "bin_end": 0.7571486407926157,
            "count": 2
           },
           {
            "bin_start": 0.7571486407926157,
            "bin_end": 0.878574320396308,
            "count": 0
           },
           {
            "bin_start": 0.878574320396308,
            "bin_end": 1,
            "count": 1
           }
          ]
         }
        },
        {
         "name": "experimental class",
         "dtype": "float64",
         "stats": {
          "unique_count": 42,
          "nan_count": 0,
          "min": "-0.3948730276132853",
          "max": "1.0",
          "histogram": [
           {
            "bin_start": -0.3948730276132853,
            "bin_end": -0.25538572485195676,
            "count": 12
           },
           {
            "bin_start": -0.25538572485195676,
            "bin_end": -0.11589842209062823,
            "count": 8
           },
           {
            "bin_start": -0.11589842209062823,
            "bin_end": 0.023588880670700307,
            "count": 14
           },
           {
            "bin_start": 0.023588880670700307,
            "bin_end": 0.16307618343202884,
            "count": 4
           },
           {
            "bin_start": 0.16307618343202884,
            "bin_end": 0.30256348619335743,
            "count": 3
           },
           {
            "bin_start": 0.30256348619335743,
            "bin_end": 0.4420507889546859,
            "count": 0
           },
           {
            "bin_start": 0.4420507889546859,
            "bin_end": 0.5815380917160144,
            "count": 0
           },
           {
            "bin_start": 0.5815380917160144,
            "bin_end": 0.721025394477343,
            "count": 0
           },
           {
            "bin_start": 0.721025394477343,
            "bin_end": 0.8605126972386716,
            "count": 0
           },
           {
            "bin_start": 0.8605126972386716,
            "bin_end": 1,
            "count": 1
           }
          ]
         }
        },
        {
         "name": "_deepnote_index_column",
         "dtype": "object"
        }
       ],
       "rows": [
        {
         "SpMax_L": 1,
         "J_Dz(e)": 0.23229820704081192,
         "nHM": 0.26142160957893906,
         "F01[N-N]": 0.02199565248674903,
         "F04[C-N]": 0.1851647195531614,
         "NssssC": 0.44692884118622606,
         "nCb-": 0.42272361437492284,
         "C%": 0.38105704965443893,
         "nCp": 0.20294086040277315,
         "nO": 0.2594440312167039,
         "F03[C-N]": 0.18331393713860508,
         "SdssC": -0.10489869730698846,
         "HyWi_B(m)": 0.6427903739732983,
         "LOC": -0.1111353357802097,
         "SM6_L": 0.911554694461532,
         "F03[C-O]": 0.4145696830632433,
         "Me": 0.2756174861419498,
         "Mi": -0.11793742316386033,
         "nN-N": -0.11448097868859584,
         "nArNO2": 0.11405025217723193,
         "nCRX3": 0.2346154923606316,
         "SpPosA_B(p)": 0.2301412046895325,
         "nCIR": 0.171563529957215,
         "B01[C-Br]": -0.010765686606347923,
         "BO3[C-Cl]": 0.1383200240125023,
         "N-073": 0.05412801958887196,
         "SpMax_A": 0.9188214220939845,
         "Psi_i_1d": 0.011282252074098805,
         "BO4[C-Br]": 0.036397881696477716,
         "SdO": 0.25876492582154975,
         "TI2_L": -0.033840458852032705,
         "nCrt": 0.23242464921109707,
         "C-026": 0.31132229959524294,
         "F02[C-N]": 0.13714850132953807,
         "nHDon": 0.032385708282102146,
         "SpMax_B(m)": 0.30468031896289616,
         " Psi_i_A": 0.0993902724838989,
         "nN": 0.05593481723364169,
         "SM6_B(m)": 0.4889674897531155,
         "nArCOOR": 0.08680094064573593,
         "nX": 0.33956131385597005,
         "experimental class": -0.3948730276132853,
         "_deepnote_index_column": "SpMax_L"
        },
        {
         "SpMax_L": 0.23229820704081192,
         "J_Dz(e)": 1,
         "nHM": 0.06745138522808584,
         "F01[N-N]": -0.09444835675857645,
         "F04[C-N]": -0.1863111430774727,
         "NssssC": 0.3511126825889889,
         "nCb-": -0.26089034370936426,
         "C%": -0.3004333315339432,
         "nCp": 0.15092555633966773,
         "nO": 0.19249970911034664,
         "F03[C-N]": -0.14203777210661367,
         "SdssC": -0.19229920556424054,
         "HyWi_B(m)": 0.04311629741292956,
         "LOC": 0.3119630314170141,
         "SM6_L": 0.11495623869219712,
         "F03[C-O]": 0.11934043409833384,
         "Me": 0.4909881392877406,
         "Mi": 0.44493157699769914,
         "nN-N": -0.033561173376280375,
         "nArNO2": 0.1259911446391927,
         "nCRX3": 0.3209376064743532,
         "SpPosA_B(p)": -0.25751383748611784,
         "nCIR": -0.2161458845920747,
         "B01[C-Br]": -0.0055553168787342184,
         "BO3[C-Cl]": -0.0061892056454487835,
         "N-073": -0.1425079103871773,
         "SpMax_A": 0.019858310218071034,
         "Psi_i_1d": -0.0012359102672828911,
         "BO4[C-Br]": -0.041386086001383035,
         "SdO": 0.11043258196563903,
         "TI2_L": -0.04198718301474444,
         "nCrt": -0.20329997727873633,
         "C-026": -0.11373774502868968,
         "F02[C-N]": -0.18184516363677364,
         "nHDon": 0.00934075693672823,
         "SpMax_B(m)": 0.08549416615360239,
         " Psi_i_A": 0.5133558118619092,
         "nN": -0.08929117124532883,
         "SM6_B(m)": 0.08748378463458055,
         "nArCOOR": -0.07193735650529025,
         "nX": 0.3899154090006737,
         "experimental class": -0.0012956289441384404,
         "_deepnote_index_column": "J_Dz(e)"
        },
        {
         "SpMax_L": 0.26142160957893906,
         "J_Dz(e)": 0.06745138522808584,
         "nHM": 1,
         "F01[N-N]": 0.022107478042871692,
         "F04[C-N]": 0.003155551524330719,
         "NssssC": 0.06799005002822396,
         "nCb-": 0.25819054412357173,
         "C%": 0.09770397672382922,
         "nCp": -0.12195047548031547,
         "nO": -0.10747909440412723,
         "F03[C-N]": -0.01652689260396511,
         "SdssC": 0.05975096434972458,
         "HyWi_B(m)": 0.48448265069674684,
         "LOC": -0.09498155114254352,
         "SM6_L": 0.22268385842029673,
         "F03[C-O]": -0.04690675155298904,
         "Me": 0.36846095964518805,
         "Mi": -0.32133185188567326,
         "nN-N": -0.0029025133176780148,
         "nArNO2": -0.04281024982981717,
         "nCRX3": 0.14513938723734768,
         "SpPosA_B(p)": 0.508212214327511,
         "nCIR": 0.08648906858164603,
         "B01[C-Br]": 0.32133911825159994,
         "BO3[C-Cl]": 0.5446762993459192,
         "N-073": -0.05095172742710004,
         "SpMax_A": 0.22254707361365783,
         "Psi_i_1d": 0.0046714251089688364,
         "BO4[C-Br]": 0.29419888065952693,
         "SdO": -0.07644960055848457,
         "TI2_L": -0.05992293080602384,
         "nCrt": 0.20323148184785322,
         "C-026": 0.43896189864524504,
         "F02[C-N]": -0.037019111415352,
         "nHDon": -0.13543212053187448,
         "SpMax_B(m)": 0.45876391038530284,
         " Psi_i_A": 0.05123998142564952,
         "nN": -0.04303047534423308,
         "SM6_B(m)": 0.5723687437632043,
         "nArCOOR": -0.044207011426292596,
         "nX": 0.5426416116656039,
         "experimental class": -0.2987678120949219,
         "_deepnote_index_column": "nHM"
        },
        {
         "SpMax_L": 0.02199565248674903,
         "J_Dz(e)": -0.09444835675857645,
         "nHM": 0.022107478042871692,
         "F01[N-N]": 1,
         "F04[C-N]": 0.44936549763570616,
         "NssssC": 0.006680367671720749,
         "nCb-": 0.19134496662324046,
         "C%": -0.039012820674059416,
         "nCp": 0.024713324651613678,
         "nO": 0.03289741120504459,
         "F03[C-N]": 0.424889719387308,
         "SdssC": -0.05196535932012888,
         "HyWi_B(m)": 0.0874804255086896,
         "LOC": -0.06849054979687007,
         "SM6_L": 0.07704416361025847,
         "F03[C-O]": 0.007884785086827021,
         "Me": 0.026010762785194503,
         "Mi": 0.07078408533835572,
         "nN-N": 0.386459945589344,
         "nArNO2": 0.01949310095009124,
         "nCRX3": -0.02250056914457819,
         "SpPosA_B(p)": -0.008349846344563148,
         "nCIR": 0.04077567335479135,
         "B01[C-Br]": -0.033974601355812685,
         "BO3[C-Cl]": 0.10790803967241229,
         "N-073": 0.30814106498579824,
         "SpMax_A": 0.05056535042638693,
         "Psi_i_1d": -0.0036895770598923414,
         "BO4[C-Br]": -0.027550235523673684,
         "SdO": 0.12045641404302779,
         "TI2_L": 0.07310911896619908,
         "nCrt": -0.03365765398343177,
         "C-026": 0.2125983606586663,
         "F02[C-N]": 0.5013434245354053,
         "nHDon": 0.13479641797309982,
         "SpMax_B(m)": -0.005753529734964214,
         " Psi_i_A": 0.023116269851561018,
         "nN": 0.4626274830965691,
         "SM6_B(m)": 0.04025030975461269,
         "nArCOOR": -0.015168427641127922,
         "nX": 0.0007019178096794235,
         "experimental class": -0.10316614866464678,
         "_deepnote_index_column": "F01[N-N]"
        },
        {
         "SpMax_L": 0.1851647195531614,
         "J_Dz(e)": -0.1863111430774727,
         "nHM": 0.003155551524330719,
         "F01[N-N]": 0.44936549763570616,
         "F04[C-N]": 1,
         "NssssC": 0.0018206120275249444,
         "nCb-": 0.37228577978574734,
         "C%": 0.14623079062628452,
         "nCp": 0.0075637451472793,
         "nO": 0.08574270358679328,
         "F03[C-N]": 0.8704946027763899,
         "SdssC": -0.09133194283309899,
         "HyWi_B(m)": 0.2815197410461641,
         "LOC": -0.10091474415792034,
         "SM6_L": 0.2981394416045623,
         "F03[C-O]": 0.09006051450790743,
         "Me": 0.0048409671703188275,
         "Mi": -0.03589432975014615,
         "nN-N": 0.03264369109290355,
         "nArNO2": 0.21328148894817833,
         "nCRX3": -0.011962432692348887,
         "SpPosA_B(p)": 0.08528743327265782,
         "nCIR": 0.5244214247193408,
         "B01[C-Br]": -0.06488018102934892,
         "BO3[C-Cl]": 0.10188849547930516,
         "N-073": 0.38242859172073224,
         "SpMax_A": 0.26914446067786835,
         "Psi_i_1d": 0.0015089916296472789,
         "BO4[C-Br]": -0.044181225769067814,
         "SdO": 0.28417081663839766,
         "TI2_L": 0.09144390301053885,
         "nCrt": -0.035616842954844644,
         "C-026": 0.32898481955583175,
         "F02[C-N]": 0.7893178201510106,
         "nHDon": 0.2094769584163866,
         "SpMax_B(m)": 0.040907772090940334,
         " Psi_i_A": -0.030829679769027937,
         "nN": 0.7456684062528591,
         "SM6_B(m)": 0.14674342596359174,
         "nArCOOR": -0.043321997709172486,
         "nX": -0.021164530503518627,
         "experimental class": -0.23429723878273398,
         "_deepnote_index_column": "F04[C-N]"
        },
        {
         "SpMax_L": 0.44692884118622606,
         "J_Dz(e)": 0.3511126825889889,
         "nHM": 0.06799005002822396,
         "F01[N-N]": 0.006680367671720749,
         "F04[C-N]": 0.0018206120275249444,
         "NssssC": 1,
         "nCb-": 0.07894042008243386,
         "C%": -0.06221749110301508,
         "nCp": 0.4509513238617233,
         "nO": 0.04258131456019366,
         "F03[C-N]": -0.020452141653810676,
         "SdssC": -0.163975203570717,
         "HyWi_B(m)": 0.269038672448642,
         "LOC": -0.004564707791368202,
         "SM6_L": 0.4044930015474435,
         "F03[C-O]": 0.13466177907425098,
         "Me": 0.38953709381564805,
         "Mi": 0.4859315611366217,
         "nN-N": -0.022679444605879305,
         "nArNO2": -0.04076226410217636,
         "nCRX3": 0.4945099131078991,
         "SpPosA_B(p)": -0.21327048875803126,
         "nCIR": 0.030346967650756788,
         "B01[C-Br]": -0.014426531938765787,
         "BO3[C-Cl]": -0.01316391377495568,
         "N-073": -0.006999459915452889,
         "SpMax_A": 0.33572233107446164,
         "Psi_i_1d": 0.0038111810910008296,
         "BO4[C-Br]": -0.028182925764075394,
         "SdO": -0.023651209132885695,
         "TI2_L": 0.04689897175754452,
         "nCrt": 0.22394195167840217,
         "C-026": -0.03056195494447269,
         "F02[C-N]": -0.037885327735547404,
         "nHDon": 0.017306383886423266,
         "SpMax_B(m)": 0.01456473759759152,
         " Psi_i_A": 0.29968935257856755,
         "nN": -0.0771561589441189,
         "SM6_B(m)": 0.1210259558066168,
         "nArCOOR": -0.03788978739551863,
         "nX": 0.6761680329516,
         "experimental class": -0.1702549557629985,
         "_deepnote_index_column": "NssssC"
        },
        {
         "SpMax_L": 0.42272361437492284,
         "J_Dz(e)": -0.26089034370936426,
         "nHM": 0.25819054412357173,
         "F01[N-N]": 0.19134496662324046,
         "F04[C-N]": 0.37228577978574734,
         "NssssC": 0.07894042008243386,
         "nCb-": 1,
         "C%": 0.5990742869545214,
         "nCp": 0.13586654721296612,
         "nO": 0.11534087155220735,
         "F03[C-N]": 0.3329794172855942,
         "SdssC": -0.09681419384044848,
         "HyWi_B(m)": 0.5179541648632751,
         "LOC": -0.3109779731289064,
         "SM6_L": 0.5087134219313096,
         "F03[C-O]": 0.28145846994513507,
         "Me": 0.060680058175665325,
         "Mi": -0.4520215872170669,
         "nN-N": -0.028626986366437478,
         "nArNO2": 0.18200144216588146,
         "nCRX3": -0.05104746915070516,
         "SpPosA_B(p)": 0.43385490253578707,
         "nCIR": 0.2654657280331123,
         "B01[C-Br]": 0.08893837813946198,
         "BO3[C-Cl]": 0.2797736912082839,
         "N-073": 0.183019830519416,
         "SpMax_A": 0.5147450867934942,
         "Psi_i_1d": 0.00682906118534466,
         "BO4[C-Br]": 0.1693812183637019,
         "SdO": 0.20422823777652185,
         "TI2_L": -0.014067007396231299,
         "nCrt": -0.1230418962522322,
         "C-026": 0.8002538116656218,
         "F02[C-N]": 0.33045928658595175,
         "nHDon": 0.1133445536566649,
         "SpMax_B(m)": 0.22381959833195883,
         " Psi_i_A": -0.07720582357100124,
         "nN": 0.18344437612243908,
         "SM6_B(m)": 0.4023007048656304,
         "nArCOOR": 0.11234425624884084,
         "nX": 0.1267893658789395,
         "experimental class": -0.33668475992271274,
         "_deepnote_index_column": "nCb-"
        },
        {
         "SpMax_L": 0.38105704965443893,
         "J_Dz(e)": -0.3004333315339432,
         "nHM": 0.09770397672382922,
         "F01[N-N]": -0.039012820674059416,
         "F04[C-N]": 0.14623079062628452,
         "NssssC": -0.06221749110301508,
         "nCb-": 0.5990742869545214,
         "C%": 1,
         "nCp": -0.22502241010140625,
         "nO": -0.14724579545411218,
         "F03[C-N]": 0.10851230726554487,
         "SdssC": 0.02603964857818174,
         "HyWi_B(m)": 0.3521744858035109,
         "LOC": -0.3839622591425361,
         "SM6_L": 0.42948317992209856,
         "F03[C-O]": 0.059131849774017135,
         "Me": -0.09056341021545061,
         "Mi": -0.6825360563295245,
         "nN-N": -0.13511480007360335,
         "nArNO2": 0.04149398698402691,
         "nCRX3": -0.08625204996137822,
         "SpPosA_B(p)": 0.6230369396956194,
         "nCIR": 0.2626494628325513,
         "B01[C-Br]": 0.03561824390375232,
         "BO3[C-Cl]": 0.25133935979893035,
         "N-073": 0.13832715939064255,
         "SpMax_A": 0.568632977115792,
         "Psi_i_1d": 0.0176388220910479,
         "BO4[C-Br]": 0.14460852605280994,
         "SdO": 0.027560226793121027,
         "TI2_L": -0.13367125769127466,
         "nCrt": 0.04985898276338243,
         "C-026": 0.40906357940493543,
         "F02[C-N]": 0.09516828455366522,
         "nHDon": -0.2381991684107978,
         "SpMax_B(m)": 0.14923766620794557,
         " Psi_i_A": -0.25106047417020994,
         "nN": -0.09233843846730803,
         "SM6_B(m)": 0.2800687663967166,
         "nArCOOR": 0.11728631516647471,
         "nX": 0.046462119318376065,
         "experimental class": -0.20100448465175183,
         "_deepnote_index_column": "C%"
        },
        {
         "SpMax_L": 0.20294086040277315,
         "J_Dz(e)": 0.15092555633966773,
         "nHM": -0.12195047548031547,
         "F01[N-N]": 0.024713324651613678,
         "F04[C-N]": 0.0075637451472793,
         "NssssC": 0.4509513238617233,
         "nCb-": 0.13586654721296612,
         "C%": -0.22502241010140625,
         "nCp": 1,
         "nO": 0.189528787568127,
         "F03[C-N]": -0.015286000620018872,
         "SdssC": 0.043428654490016795,
         "HyWi_B(m)": 0.18130191102632173,
         "LOC": 0.2626583132547742,
         "SM6_L": 0.25471476624433614,
         "F03[C-O]": 0.32404056346026916,
         "Me": -0.22430616755222885,
         "Mi": 0.17421979611257604,
         "nN-N": -0.05877070229748137,
         "nArNO2": -0.076570507176361,
         "nCRX3": 0.04954863974662157,
         "SpPosA_B(p)": -0.1276400037403862,
         "nCIR": -0.059255750807152445,
         "B01[C-Br]": -0.034042069961618564,
         "BO3[C-Cl]": -0.1437123009197803,
         "N-073": -0.022759868425877374,
         "SpMax_A": 0.08996593631625699,
         "Psi_i_1d": 0.0019612343960596496,
         "BO4[C-Br]": -0.06767051137358833,
         "SdO": 0.009835731308191776,
         "TI2_L": 0.20750422877107685,
         "nCrt": -0.01160883443831082,
         "C-026": -0.07570276551538242,
         "F02[C-N]": -0.030887419494474315,
         "nHDon": 0.012700293062179449,
         "SpMax_B(m)": -0.017559136925652804,
         " Psi_i_A": -0.17916348503744414,
         "nN": -0.10904528177633567,
         "SM6_B(m)": 0.03233853695292772,
         "nArCOOR": -0.02164632907126883,
         "nX": -0.04611007725978458,
         "experimental class": -0.056619583333051275,
         "_deepnote_index_column": "nCp"
        },
        {
         "SpMax_L": 0.2594440312167039,
         "J_Dz(e)": 0.19249970911034664,
         "nHM": -0.10747909440412723,
         "F01[N-N]": 0.03289741120504459,
         "F04[C-N]": 0.08574270358679328,
         "NssssC": 0.04258131456019366,
         "nCb-": 0.11534087155220735,
         "C%": -0.14724579545411218,
         "nCp": 0.189528787568127,
         "nO": 1,
         "F03[C-N]": 0.09347957402676048,
         "SdssC": -0.5022497409693487,
         "HyWi_B(m)": 0.3256697885520293,
         "LOC": 0.3322374097451281,
         "SM6_L": 0.3640612753874383,
         "F03[C-O]": 0.8400277573324685,
         "Me": 0.21830325188450347,
         "Mi": 0.08850715023263984,
         "nN-N": -0.0538291859811834,
         "nArNO2": 0.23606227079315578,
         "nCRX3": -0.07840987393556656,
         "SpPosA_B(p)": -0.37017685196369926,
         "nCIR": -0.02295209083860002,
         "B01[C-Br]": -0.09793857391107874,
         "BO3[C-Cl]": -0.12746123263104153,
         "N-073": -0.09801616954358468,
         "SpMax_A": 0.22851614450753,
         "Psi_i_1d": -0.007937698846396743,
         "BO4[C-Br]": -0.08496026303765965,
         "SdO": 0.7482275528646838,
         "TI2_L": 0.3511486737443316,
         "nCrt": -0.028518554767111313,
         "C-026": 0.10419570803915035,
         "F02[C-N]": 0.05798744486592407,
         "nHDon": 0.20005510967144607,
         "SpMax_B(m)": -0.03447395038962892,
         " Psi_i_A": 0.3411976348252392,
         "nN": 0.02541156519608003,
         "SM6_B(m)": 0.10937100478026535,
         "nArCOOR": 0.21707123473424256,
         "nX": -0.12191559204294407,
         "experimental class": 0.17878883275971583,
         "_deepnote_index_column": "nO"
        }
       ]
      },
      "text/plain": "                     SpMax_L   J_Dz(e)       nHM  F01[N-N]  F04[C-N]  \\\nSpMax_L             1.000000  0.232298  0.261422  0.021996  0.185165   \nJ_Dz(e)             0.232298  1.000000  0.067451 -0.094448 -0.186311   \nnHM                 0.261422  0.067451  1.000000  0.022107  0.003156   \nF01[N-N]            0.021996 -0.094448  0.022107  1.000000  0.449365   \nF04[C-N]            0.185165 -0.186311  0.003156  0.449365  1.000000   \nNssssC              0.446929  0.351113  0.067990  0.006680  0.001821   \nnCb-                0.422724 -0.260890  0.258191  0.191345  0.372286   \nC%                  0.381057 -0.300433  0.097704 -0.039013  0.146231   \nnCp                 0.202941  0.150926 -0.121950  0.024713  0.007564   \nnO                  0.259444  0.192500 -0.107479  0.032897  0.085743   \nF03[C-N]            0.183314 -0.142038 -0.016527  0.424890  0.870495   \nSdssC              -0.104899 -0.192299  0.059751 -0.051965 -0.091332   \nHyWi_B(m)           0.642790  0.043116  0.484483  0.087480  0.281520   \nLOC                -0.111135  0.311963 -0.094982 -0.068491 -0.100915   \nSM6_L               0.911555  0.114956  0.222684  0.077044  0.298139   \nF03[C-O]            0.414570  0.119340 -0.046907  0.007885  0.090061   \nMe                  0.275617  0.490988  0.368461  0.026011  0.004841   \nMi                 -0.117937  0.444932 -0.321332  0.070784 -0.035894   \nnN-N               -0.114481 -0.033561 -0.002903  0.386460  0.032644   \nnArNO2              0.114050  0.125991 -0.042810  0.019493  0.213281   \nnCRX3               0.234615  0.320938  0.145139 -0.022501 -0.011962   \nSpPosA_B(p)         0.230141 -0.257514  0.508212 -0.008350  0.085287   \nnCIR                0.171564 -0.216146  0.086489  0.040776  0.524421   \nB01[C-Br]          -0.010766 -0.005555  0.321339 -0.033975 -0.064880   \nBO3[C-Cl]           0.138320 -0.006189  0.544676  0.107908  0.101888   \nN-073               0.054128 -0.142508 -0.050952  0.308141  0.382429   \nSpMax_A             0.918821  0.019858  0.222547  0.050565  0.269144   \nPsi_i_1d            0.011282 -0.001236  0.004671 -0.003690  0.001509   \nBO4[C-Br]           0.036398 -0.041386  0.294199 -0.027550 -0.044181   \nSdO                 0.258765  0.110433 -0.076450  0.120456  0.284171   \nTI2_L              -0.033840 -0.041987 -0.059923  0.073109  0.091444   \nnCrt                0.232425 -0.203300  0.203231 -0.033658 -0.035617   \nC-026               0.311322 -0.113738  0.438962  0.212598  0.328985   \nF02[C-N]            0.137149 -0.181845 -0.037019  0.501343  0.789318   \nnHDon               0.032386  0.009341 -0.135432  0.134796  0.209477   \nSpMax_B(m)          0.304680  0.085494  0.458764 -0.005754  0.040908   \n Psi_i_A            0.099390  0.513356  0.051240  0.023116 -0.030830   \nnN                  0.055935 -0.089291 -0.043030  0.462627  0.745668   \nSM6_B(m)            0.488967  0.087484  0.572369  0.040250  0.146743   \nnArCOOR             0.086801 -0.071937 -0.044207 -0.015168 -0.043322   \nnX                  0.339561  0.389915  0.542642  0.000702 -0.021165   \nexperimental class -0.394873 -0.001296 -0.298768 -0.103166 -0.234297   \n\n                      NssssC      nCb-        C%       nCp        nO  ...  \\\nSpMax_L             0.446929  0.422724  0.381057  0.202941  0.259444  ...   \nJ_Dz(e)             0.351113 -0.260890 -0.300433  0.150926  0.192500  ...   \nnHM                 0.067990  0.258191  0.097704 -0.121950 -0.107479  ...   \nF01[N-N]            0.006680  0.191345 -0.039013  0.024713  0.032897  ...   \nF04[C-N]            0.001821  0.372286  0.146231  0.007564  0.085743  ...   \nNssssC              1.000000  0.078940 -0.062217  0.450951  0.042581  ...   \nnCb-                0.078940  1.000000  0.599074  0.135867  0.115341  ...   \nC%                 -0.062217  0.599074  1.000000 -0.225022 -0.147246  ...   \nnCp                 0.450951  0.135867 -0.225022  1.000000  0.189529  ...   \nnO                  0.042581  0.115341 -0.147246  0.189529  1.000000  ...   \nF03[C-N]           -0.020452  0.332979  0.108512 -0.015286  0.093480  ...   \nSdssC              -0.163975 -0.096814  0.026040  0.043429 -0.502250  ...   \nHyWi_B(m)           0.269039  0.517954  0.352174  0.181302  0.325670  ...   \nLOC                -0.004565 -0.310978 -0.383962  0.262658  0.332237  ...   \nSM6_L               0.404493  0.508713  0.429483  0.254715  0.364061  ...   \nF03[C-O]            0.134662  0.281458  0.059132  0.324041  0.840028  ...   \nMe                  0.389537  0.060680 -0.090563 -0.224306  0.218303  ...   \nMi                  0.485932 -0.452022 -0.682536  0.174220  0.088507  ...   \nnN-N               -0.022679 -0.028627 -0.135115 -0.058771 -0.053829  ...   \nnArNO2             -0.040762  0.182001  0.041494 -0.076571  0.236062  ...   \nnCRX3               0.494510 -0.051047 -0.086252  0.049549 -0.078410  ...   \nSpPosA_B(p)        -0.213270  0.433855  0.623037 -0.127640 -0.370177  ...   \nnCIR                0.030347  0.265466  0.262649 -0.059256 -0.022952  ...   \nB01[C-Br]          -0.014427  0.088938  0.035618 -0.034042 -0.097939  ...   \nBO3[C-Cl]          -0.013164  0.279774  0.251339 -0.143712 -0.127461  ...   \nN-073              -0.006999  0.183020  0.138327 -0.022760 -0.098016  ...   \nSpMax_A             0.335722  0.514745  0.568633  0.089966  0.228516  ...   \nPsi_i_1d            0.003811  0.006829  0.017639  0.001961 -0.007938  ...   \nBO4[C-Br]          -0.028183  0.169381  0.144609 -0.067671 -0.084960  ...   \nSdO                -0.023651  0.204228  0.027560  0.009836  0.748228  ...   \nTI2_L               0.046899 -0.014067 -0.133671  0.207504  0.351149  ...   \nnCrt                0.223942 -0.123042  0.049859 -0.011609 -0.028519  ...   \nC-026              -0.030562  0.800254  0.409064 -0.075703  0.104196  ...   \nF02[C-N]           -0.037885  0.330459  0.095168 -0.030887  0.057987  ...   \nnHDon               0.017306  0.113345 -0.238199  0.012700  0.200055  ...   \nSpMax_B(m)          0.014565  0.223820  0.149238 -0.017559 -0.034474  ...   \n Psi_i_A            0.299689 -0.077206 -0.251060 -0.179163  0.341198  ...   \nnN                 -0.077156  0.183444 -0.092338 -0.109045  0.025412  ...   \nSM6_B(m)            0.121026  0.402301  0.280069  0.032339  0.109371  ...   \nnArCOOR            -0.037890  0.112344  0.117286 -0.021646  0.217071  ...   \nnX                  0.676168  0.126789  0.046462 -0.046110 -0.121916  ...   \nexperimental class -0.170255 -0.336685 -0.201004 -0.056620  0.178789  ...   \n\n                       C-026  F02[C-N]     nHDon  SpMax_B(m)   Psi_i_A  \\\nSpMax_L             0.311322  0.137149  0.032386    0.304680  0.099390   \nJ_Dz(e)            -0.113738 -0.181845  0.009341    0.085494  0.513356   \nnHM                 0.438962 -0.037019 -0.135432    0.458764  0.051240   \nF01[N-N]            0.212598  0.501343  0.134796   -0.005754  0.023116   \nF04[C-N]            0.328985  0.789318  0.209477    0.040908 -0.030830   \nNssssC             -0.030562 -0.037885  0.017306    0.014565  0.299689   \nnCb-                0.800254  0.330459  0.113345    0.223820 -0.077206   \nC%                  0.409064  0.095168 -0.238199    0.149238 -0.251060   \nnCp                -0.075703 -0.030887  0.012700   -0.017559 -0.179163   \nnO                  0.104196  0.057987  0.200055   -0.034474  0.341198   \nF03[C-N]            0.319527  0.803899  0.201701    0.024993 -0.018834   \nSdssC              -0.025367 -0.048095 -0.217259    0.031415 -0.413547   \nHyWi_B(m)           0.450718  0.204360 -0.053049    0.565327 -0.108036   \nLOC                -0.216416 -0.141083 -0.005871   -0.061773 -0.077409   \nSM6_L               0.365809  0.247146  0.035917    0.251775 -0.049214   \nF03[C-O]            0.180866  0.020375  0.093081    0.053944  0.138454   \nMe                  0.209209 -0.001641  0.066848    0.142241  0.853565   \nMi                 -0.356975  0.015660  0.219746   -0.262887  0.484712   \nnN-N                0.000256  0.055399  0.180524   -0.047594  0.054272   \nnArNO2              0.273311  0.289785 -0.045280    0.016704  0.251358   \nnCRX3              -0.041259 -0.027869 -0.068655    0.051143  0.386732   \nSpPosA_B(p)         0.370122  0.045316 -0.305831    0.527671 -0.437503   \nnCIR                0.088584  0.274734 -0.036063    0.096518 -0.094000   \nB01[C-Br]           0.155899 -0.088738 -0.067184    0.610533 -0.052353   \nBO3[C-Cl]           0.432442  0.080999 -0.087339    0.123214  0.054826   \nN-073               0.118287  0.376190  0.046358    0.018244 -0.104104   \nSpMax_A             0.367801  0.222729  0.004094    0.258537 -0.053459   \nPsi_i_1d            0.005696  0.009287 -0.027922    0.036910 -0.015633   \nBO4[C-Br]           0.237674 -0.071958 -0.056045    0.494729 -0.091543   \nSdO                 0.185277  0.278794  0.080666    0.016511  0.360832   \nTI2_L              -0.010681  0.076347  0.012476   -0.068214 -0.212745   \nnCrt               -0.102855 -0.044592 -0.056035   -0.008023 -0.066350   \nC-026               1.000000  0.374867  0.149669    0.253031  0.043997   \nF02[C-N]            0.374867  1.000000  0.261345   -0.019549 -0.023986   \nnHDon               0.149669  0.261345  1.000000   -0.105676  0.243334   \nSpMax_B(m)          0.253031 -0.019549 -0.105676    1.000000 -0.031737   \n Psi_i_A            0.043997 -0.023986  0.243334   -0.031737  1.000000   \nnN                  0.236889  0.802706  0.408232   -0.034325  0.049341   \nSM6_B(m)            0.405749  0.078456 -0.102788    0.917367 -0.027885   \nnArCOOR            -0.030816 -0.050903 -0.089829   -0.010249  0.017761   \nnX                  0.250655 -0.050812 -0.103527    0.240133  0.410327   \nexperimental class -0.318121 -0.268419 -0.026402   -0.288727  0.117133   \n\n                          nN  SM6_B(m)   nArCOOR        nX  experimental class  \nSpMax_L             0.055935  0.488967  0.086801  0.339561           -0.394873  \nJ_Dz(e)            -0.089291  0.087484 -0.071937  0.389915           -0.001296  \nnHM                -0.043030  0.572369 -0.044207  0.542642           -0.298768  \nF01[N-N]            0.462627  0.040250 -0.015168  0.000702           -0.103166  \nF04[C-N]            0.745668  0.146743 -0.043322 -0.021165           -0.234297  \nNssssC             -0.077156  0.121026 -0.037890  0.676168           -0.170255  \nnCb-                0.183444  0.402301  0.112344  0.126789           -0.336685  \nC%                 -0.092338  0.280069  0.117286  0.046462           -0.201004  \nnCp                -0.109045  0.032339 -0.021646 -0.046110           -0.056620  \nnO                  0.025412  0.109371  0.217071 -0.121916            0.178789  \nF03[C-N]            0.837156  0.131002 -0.044547 -0.038132           -0.241962  \nSdssC              -0.045990 -0.055523 -0.237670 -0.146234           -0.112875  \nHyWi_B(m)           0.107019  0.821112  0.121603  0.387315           -0.343320  \nLOC                -0.093300 -0.006232  0.059955 -0.058549            0.273849  \nSM6_L               0.138537  0.514416  0.118183  0.283325           -0.342521  \nF03[C-O]           -0.004659  0.222160  0.294241 -0.097713           -0.001798  \nMe                  0.042169  0.224924  0.041350  0.669872           -0.090135  \nMi                  0.153308 -0.326665 -0.077584  0.330550            0.131205  \nnN-N                0.143773 -0.071766 -0.013473 -0.006306           -0.059776  \nnArNO2              0.261581  0.066926 -0.028073 -0.024644           -0.153477  \nnCRX3              -0.049081  0.095940 -0.021671  0.562808           -0.096150  \nSpPosA_B(p)        -0.033466  0.590595 -0.015455  0.033679           -0.372107  \nnCIR                0.238150  0.143247  0.031694  0.023666           -0.116336  \nB01[C-Br]          -0.101665  0.608553 -0.032722  0.215744           -0.114392  \nBO3[C-Cl]           0.038826  0.206730 -0.033442  0.334178           -0.251805  \nN-073               0.254410  0.049877 -0.010296 -0.042233           -0.091698  \nSpMax_A             0.123386  0.470988  0.123698  0.271408           -0.388935  \nPsi_i_1d           -0.001143  0.035739  0.001286  0.007440           -0.025147  \nBO4[C-Br]          -0.087853  0.503027 -0.026535  0.191636           -0.092761  \nSdO                 0.246926  0.162396  0.232803 -0.090565            0.054683  \nTI2_L               0.024040  0.101907  0.079479 -0.020426            0.172639  \nnCrt               -0.073112  0.032105 -0.023180  0.151858           -0.106423  \nC-026               0.236889  0.405749 -0.030816  0.250655           -0.318121  \nF02[C-N]            0.802706  0.078456 -0.050903 -0.050812           -0.268419  \nnHDon               0.408232 -0.102788 -0.089829 -0.103527           -0.026402  \nSpMax_B(m)         -0.034325  0.917367 -0.010249  0.240133           -0.288727  \n Psi_i_A            0.049341 -0.027885  0.017761  0.410327            0.117133  \nnN                  1.000000  0.027609 -0.071193 -0.084771           -0.261206  \nSM6_B(m)            0.027609  1.000000  0.038715  0.361553           -0.365873  \nnArCOOR            -0.071193  0.038715  1.000000 -0.029346            0.149865  \nnX                 -0.084771  0.361553 -0.029346  1.000000           -0.214257  \nexperimental class -0.261206 -0.365873  0.149865 -0.214257            1.000000  \n\n[42 rows x 42 columns]",
      "text/html": "<div>\n<style scoped>\n    .dataframe tbody tr th:only-of-type {\n        vertical-align: middle;\n    }\n\n    .dataframe tbody tr th {\n        vertical-align: top;\n    }\n\n    .dataframe thead th {\n        text-align: right;\n    }\n</style>\n<table border=\"1\" class=\"dataframe\">\n  <thead>\n    <tr style=\"text-align: right;\">\n      <th></th>\n      <th>SpMax_L</th>\n      <th>J_Dz(e)</th>\n      <th>nHM</th>\n      <th>F01[N-N]</th>\n      <th>F04[C-N]</th>\n      <th>NssssC</th>\n      <th>nCb-</th>\n      <th>C%</th>\n      <th>nCp</th>\n      <th>nO</th>\n      <th>...</th>\n      <th>C-026</th>\n      <th>F02[C-N]</th>\n      <th>nHDon</th>\n      <th>SpMax_B(m)</th>\n      <th>Psi_i_A</th>\n      <th>nN</th>\n      <th>SM6_B(m)</th>\n      <th>nArCOOR</th>\n      <th>nX</th>\n      <th>experimental class</th>\n    </tr>\n  </thead>\n  <tbody>\n    <tr>\n      <th>SpMax_L</th>\n      <td>1.000000</td>\n      <td>0.232298</td>\n      <td>0.261422</td>\n      <td>0.021996</td>\n      <td>0.185165</td>\n      <td>0.446929</td>\n      <td>0.422724</td>\n      <td>0.381057</td>\n      <td>0.202941</td>\n      <td>0.259444</td>\n      <td>...</td>\n      <td>0.311322</td>\n      <td>0.137149</td>\n      <td>0.032386</td>\n      <td>0.304680</td>\n      <td>0.099390</td>\n      <td>0.055935</td>\n      <td>0.488967</td>\n      <td>0.086801</td>\n      <td>0.339561</td>\n      <td>-0.394873</td>\n    </tr>\n    <tr>\n      <th>J_Dz(e)</th>\n      <td>0.232298</td>\n      <td>1.000000</td>\n      <td>0.067451</td>\n      <td>-0.094448</td>\n      <td>-0.186311</td>\n      <td>0.351113</td>\n      <td>-0.260890</td>\n      <td>-0.300433</td>\n      <td>0.150926</td>\n      <td>0.192500</td>\n      <td>...</td>\n      <td>-0.113738</td>\n      <td>-0.181845</td>\n      <td>0.009341</td>\n      <td>0.085494</td>\n      <td>0.513356</td>\n      <td>-0.089291</td>\n      <td>0.087484</td>\n      <td>-0.071937</td>\n      <td>0.389915</td>\n      <td>-0.001296</td>\n    </tr>\n    <tr>\n      <th>nHM</th>\n      <td>0.261422</td>\n      <td>0.067451</td>\n      <td>1.000000</td>\n      <td>0.022107</td>\n      <td>0.003156</td>\n      <td>0.067990</td>\n      <td>0.258191</td>\n      <td>0.097704</td>\n      <td>-0.121950</td>\n      <td>-0.107479</td>\n      <td>...</td>\n      <td>0.438962</td>\n      <td>-0.037019</td>\n      <td>-0.135432</td>\n      <td>0.458764</td>\n      <td>0.051240</td>\n      <td>-0.043030</td>\n      <td>0.572369</td>\n      <td>-0.044207</td>\n      <td>0.542642</td>\n      <td>-0.298768</td>\n    </tr>\n    <tr>\n      <th>F01[N-N]</th>\n      <td>0.021996</td>\n      <td>-0.094448</td>\n      <td>0.022107</td>\n      <td>1.000000</td>\n      <td>0.449365</td>\n      <td>0.006680</td>\n      <td>0.191345</td>\n      <td>-0.039013</td>\n      <td>0.024713</td>\n      <td>0.032897</td>\n      <td>...</td>\n      <td>0.212598</td>\n      <td>0.501343</td>\n      <td>0.134796</td>\n      <td>-0.005754</td>\n      <td>0.023116</td>\n      <td>0.462627</td>\n      <td>0.040250</td>\n      <td>-0.015168</td>\n      <td>0.000702</td>\n      <td>-0.103166</td>\n    </tr>\n    <tr>\n      <th>F04[C-N]</th>\n      <td>0.185165</td>\n      <td>-0.186311</td>\n      <td>0.003156</td>\n      <td>0.449365</td>\n      <td>1.000000</td>\n      <td>0.001821</td>\n      <td>0.372286</td>\n      <td>0.146231</td>\n      <td>0.007564</td>\n      <td>0.085743</td>\n      <td>...</td>\n      <td>0.328985</td>\n      <td>0.789318</td>\n      <td>0.209477</td>\n      <td>0.040908</td>\n      <td>-0.030830</td>\n      <td>0.745668</td>\n      <td>0.146743</td>\n      <td>-0.043322</td>\n      <td>-0.021165</td>\n      <td>-0.234297</td>\n    </tr>\n    <tr>\n      <th>NssssC</th>\n      <td>0.446929</td>\n      <td>0.351113</td>\n      <td>0.067990</td>\n      <td>0.006680</td>\n      <td>0.001821</td>\n      <td>1.000000</td>\n      <td>0.078940</td>\n      <td>-0.062217</td>\n      <td>0.450951</td>\n      <td>0.042581</td>\n      <td>...</td>\n      <td>-0.030562</td>\n      <td>-0.037885</td>\n      <td>0.017306</td>\n      <td>0.014565</td>\n      <td>0.299689</td>\n      <td>-0.077156</td>\n      <td>0.121026</td>\n      <td>-0.037890</td>\n      <td>0.676168</td>\n      <td>-0.170255</td>\n    </tr>\n    <tr>\n      <th>nCb-</th>\n      <td>0.422724</td>\n      <td>-0.260890</td>\n      <td>0.258191</td>\n      <td>0.191345</td>\n      <td>0.372286</td>\n      <td>0.078940</td>\n      <td>1.000000</td>\n      <td>0.599074</td>\n      <td>0.135867</td>\n      <td>0.115341</td>\n      <td>...</td>\n      <td>0.800254</td>\n      <td>0.330459</td>\n      <td>0.113345</td>\n      <td>0.223820</td>\n      <td>-0.077206</td>\n      <td>0.183444</td>\n      <td>0.402301</td>\n      <td>0.112344</td>\n      <td>0.126789</td>\n      <td>-0.336685</td>\n    </tr>\n    <tr>\n      <th>C%</th>\n      <td>0.381057</td>\n      <td>-0.300433</td>\n      <td>0.097704</td>\n      <td>-0.039013</td>\n      <td>0.146231</td>\n      <td>-0.062217</td>\n      <td>0.599074</td>\n      <td>1.000000</td>\n      <td>-0.225022</td>\n      <td>-0.147246</td>\n      <td>...</td>\n      <td>0.409064</td>\n      <td>0.095168</td>\n      <td>-0.238199</td>\n      <td>0.149238</td>\n      <td>-0.251060</td>\n      <td>-0.092338</td>\n      <td>0.280069</td>\n      <td>0.117286</td>\n      <td>0.046462</td>\n      <td>-0.201004</td>\n    </tr>\n    <tr>\n      <th>nCp</th>\n      <td>0.202941</td>\n      <td>0.150926</td>\n      <td>-0.121950</td>\n      <td>0.024713</td>\n      <td>0.007564</td>\n      <td>0.450951</td>\n      <td>0.135867</td>\n      <td>-0.225022</td>\n      <td>1.000000</td>\n      <td>0.189529</td>\n      <td>...</td>\n      <td>-0.075703</td>\n      <td>-0.030887</td>\n      <td>0.012700</td>\n      <td>-0.017559</td>\n      <td>-0.179163</td>\n      <td>-0.109045</td>\n      <td>0.032339</td>\n      <td>-0.021646</td>\n      <td>-0.046110</td>\n      <td>-0.056620</td>\n    </tr>\n    <tr>\n      <th>nO</th>\n      <td>0.259444</td>\n      <td>0.192500</td>\n      <td>-0.107479</td>\n      <td>0.032897</td>\n      <td>0.085743</td>\n      <td>0.042581</td>\n      <td>0.115341</td>\n      <td>-0.147246</td>\n      <td>0.189529</td>\n      <td>1.000000</td>\n      <td>...</td>\n      <td>0.104196</td>\n      <td>0.057987</td>\n      <td>0.200055</td>\n      <td>-0.034474</td>\n      <td>0.341198</td>\n      <td>0.025412</td>\n      <td>0.109371</td>\n      <td>0.217071</td>\n      <td>-0.121916</td>\n      <td>0.178789</td>\n    </tr>\n    <tr>\n      <th>F03[C-N]</th>\n      <td>0.183314</td>\n      <td>-0.142038</td>\n      <td>-0.016527</td>\n      <td>0.424890</td>\n      <td>0.870495</td>\n      <td>-0.020452</td>\n      <td>0.332979</td>\n      <td>0.108512</td>\n      <td>-0.015286</td>\n      <td>0.093480</td>\n      <td>...</td>\n      <td>0.319527</td>\n      <td>0.803899</td>\n      <td>0.201701</td>\n      <td>0.024993</td>\n      <td>-0.018834</td>\n      <td>0.837156</td>\n      <td>0.131002</td>\n      <td>-0.044547</td>\n      <td>-0.038132</td>\n      <td>-0.241962</td>\n    </tr>\n    <tr>\n      <th>SdssC</th>\n      <td>-0.104899</td>\n      <td>-0.192299</td>\n      <td>0.059751</td>\n      <td>-0.051965</td>\n      <td>-0.091332</td>\n      <td>-0.163975</td>\n      <td>-0.096814</td>\n      <td>0.026040</td>\n      <td>0.043429</td>\n      <td>-0.502250</td>\n      <td>...</td>\n      <td>-0.025367</td>\n      <td>-0.048095</td>\n      <td>-0.217259</td>\n      <td>0.031415</td>\n      <td>-0.413547</td>\n      <td>-0.045990</td>\n      <td>-0.055523</td>\n      <td>-0.237670</td>\n      <td>-0.146234</td>\n      <td>-0.112875</td>\n    </tr>\n    <tr>\n      <th>HyWi_B(m)</th>\n      <td>0.642790</td>\n      <td>0.043116</td>\n      <td>0.484483</td>\n      <td>0.087480</td>\n      <td>0.281520</td>\n      <td>0.269039</td>\n      <td>0.517954</td>\n      <td>0.352174</td>\n      <td>0.181302</td>\n      <td>0.325670</td>\n      <td>...</td>\n      <td>0.450718</td>\n      <td>0.204360</td>\n      <td>-0.053049</td>\n      <td>0.565327</td>\n      <td>-0.108036</td>\n      <td>0.107019</td>\n      <td>0.821112</td>\n      <td>0.121603</td>\n      <td>0.387315</td>\n      <td>-0.343320</td>\n    </tr>\n    <tr>\n      <th>LOC</th>\n      <td>-0.111135</td>\n      <td>0.311963</td>\n      <td>-0.094982</td>\n      <td>-0.068491</td>\n      <td>-0.100915</td>\n      <td>-0.004565</td>\n      <td>-0.310978</td>\n      <td>-0.383962</td>\n      <td>0.262658</td>\n      <td>0.332237</td>\n      <td>...</td>\n      <td>-0.216416</td>\n      <td>-0.141083</td>\n      <td>-0.005871</td>\n      <td>-0.061773</td>\n      <td>-0.077409</td>\n      <td>-0.093300</td>\n      <td>-0.006232</td>\n      <td>0.059955</td>\n      <td>-0.058549</td>\n      <td>0.273849</td>\n    </tr>\n    <tr>\n      <th>SM6_L</th>\n      <td>0.911555</td>\n      <td>0.114956</td>\n      <td>0.222684</td>\n      <td>0.077044</td>\n      <td>0.298139</td>\n      <td>0.404493</td>\n      <td>0.508713</td>\n      <td>0.429483</td>\n      <td>0.254715</td>\n      <td>0.364061</td>\n      <td>...</td>\n      <td>0.365809</td>\n      <td>0.247146</td>\n      <td>0.035917</td>\n      <td>0.251775</td>\n      <td>-0.049214</td>\n      <td>0.138537</td>\n      <td>0.514416</td>\n      <td>0.118183</td>\n      <td>0.283325</td>\n      <td>-0.342521</td>\n    </tr>\n    <tr>\n      <th>F03[C-O]</th>\n      <td>0.414570</td>\n      <td>0.119340</td>\n      <td>-0.046907</td>\n      <td>0.007885</td>\n      <td>0.090061</td>\n      <td>0.134662</td>\n      <td>0.281458</td>\n      <td>0.059132</td>\n      <td>0.324041</td>\n      <td>0.840028</td>\n      <td>...</td>\n      <td>0.180866</td>\n      <td>0.020375</td>\n      <td>0.093081</td>\n      <td>0.053944</td>\n      <td>0.138454</td>\n      <td>-0.004659</td>\n      <td>0.222160</td>\n      <td>0.294241</td>\n      <td>-0.097713</td>\n      <td>-0.001798</td>\n    </tr>\n    <tr>\n      <th>Me</th>\n      <td>0.275617</td>\n      <td>0.490988</td>\n      <td>0.368461</td>\n      <td>0.026011</td>\n      <td>0.004841</td>\n      <td>0.389537</td>\n      <td>0.060680</td>\n      <td>-0.090563</td>\n      <td>-0.224306</td>\n      <td>0.218303</td>\n      <td>...</td>\n      <td>0.209209</td>\n      <td>-0.001641</td>\n      <td>0.066848</td>\n      <td>0.142241</td>\n      <td>0.853565</td>\n      <td>0.042169</td>\n      <td>0.224924</td>\n      <td>0.041350</td>\n      <td>0.669872</td>\n      <td>-0.090135</td>\n    </tr>\n    <tr>\n      <th>Mi</th>\n      <td>-0.117937</td>\n      <td>0.444932</td>\n      <td>-0.321332</td>\n      <td>0.070784</td>\n      <td>-0.035894</td>\n      <td>0.485932</td>\n      <td>-0.452022</td>\n      <td>-0.682536</td>\n      <td>0.174220</td>\n      <td>0.088507</td>\n      <td>...</td>\n      <td>-0.356975</td>\n      <td>0.015660</td>\n      <td>0.219746</td>\n      <td>-0.262887</td>\n      <td>0.484712</td>\n      <td>0.153308</td>\n      <td>-0.326665</td>\n      <td>-0.077584</td>\n      <td>0.330550</td>\n      <td>0.131205</td>\n    </tr>\n    <tr>\n      <th>nN-N</th>\n      <td>-0.114481</td>\n      <td>-0.033561</td>\n      <td>-0.002903</td>\n      <td>0.386460</td>\n      <td>0.032644</td>\n      <td>-0.022679</td>\n      <td>-0.028627</td>\n      <td>-0.135115</td>\n      <td>-0.058771</td>\n      <td>-0.053829</td>\n      <td>...</td>\n      <td>0.000256</td>\n      <td>0.055399</td>\n      <td>0.180524</td>\n      <td>-0.047594</td>\n      <td>0.054272</td>\n      <td>0.143773</td>\n      <td>-0.071766</td>\n      <td>-0.013473</td>\n      <td>-0.006306</td>\n      <td>-0.059776</td>\n    </tr>\n    <tr>\n      <th>nArNO2</th>\n      <td>0.114050</td>\n      <td>0.125991</td>\n      <td>-0.042810</td>\n      <td>0.019493</td>\n      <td>0.213281</td>\n      <td>-0.040762</td>\n      <td>0.182001</td>\n      <td>0.041494</td>\n      <td>-0.076571</td>\n      <td>0.236062</td>\n      <td>...</td>\n      <td>0.273311</td>\n      <td>0.289785</td>\n      <td>-0.045280</td>\n      <td>0.016704</td>\n      <td>0.251358</td>\n      <td>0.261581</td>\n      <td>0.066926</td>\n      <td>-0.028073</td>\n      <td>-0.024644</td>\n      <td>-0.153477</td>\n    </tr>\n    <tr>\n      <th>nCRX3</th>\n      <td>0.234615</td>\n      <td>0.320938</td>\n      <td>0.145139</td>\n      <td>-0.022501</td>\n      <td>-0.011962</td>\n      <td>0.494510</td>\n      <td>-0.051047</td>\n      <td>-0.086252</td>\n      <td>0.049549</td>\n      <td>-0.078410</td>\n      <td>...</td>\n      <td>-0.041259</td>\n      <td>-0.027869</td>\n      <td>-0.068655</td>\n      <td>0.051143</td>\n      <td>0.386732</td>\n      <td>-0.049081</td>\n      <td>0.095940</td>\n      <td>-0.021671</td>\n      <td>0.562808</td>\n      <td>-0.096150</td>\n    </tr>\n    <tr>\n      <th>SpPosA_B(p)</th>\n      <td>0.230141</td>\n      <td>-0.257514</td>\n      <td>0.508212</td>\n      <td>-0.008350</td>\n      <td>0.085287</td>\n      <td>-0.213270</td>\n      <td>0.433855</td>\n      <td>0.623037</td>\n      <td>-0.127640</td>\n      <td>-0.370177</td>\n      <td>...</td>\n      <td>0.370122</td>\n      <td>0.045316</td>\n      <td>-0.305831</td>\n      <td>0.527671</td>\n      <td>-0.437503</td>\n      <td>-0.033466</td>\n      <td>0.590595</td>\n      <td>-0.015455</td>\n      <td>0.033679</td>\n      <td>-0.372107</td>\n    </tr>\n    <tr>\n      <th>nCIR</th>\n      <td>0.171564</td>\n      <td>-0.216146</td>\n      <td>0.086489</td>\n      <td>0.040776</td>\n      <td>0.524421</td>\n      <td>0.030347</td>\n      <td>0.265466</td>\n      <td>0.262649</td>\n      <td>-0.059256</td>\n      <td>-0.022952</td>\n      <td>...</td>\n      <td>0.088584</td>\n      <td>0.274734</td>\n      <td>-0.036063</td>\n      <td>0.096518</td>\n      <td>-0.094000</td>\n      <td>0.238150</td>\n      <td>0.143247</td>\n      <td>0.031694</td>\n      <td>0.023666</td>\n      <td>-0.116336</td>\n    </tr>\n    <tr>\n      <th>B01[C-Br]</th>\n      <td>-0.010766</td>\n      <td>-0.005555</td>\n      <td>0.321339</td>\n      <td>-0.033975</td>\n      <td>-0.064880</td>\n      <td>-0.014427</td>\n      <td>0.088938</td>\n      <td>0.035618</td>\n      <td>-0.034042</td>\n      <td>-0.097939</td>\n      <td>...</td>\n      <td>0.155899</td>\n      <td>-0.088738</td>\n      <td>-0.067184</td>\n      <td>0.610533</td>\n      <td>-0.052353</td>\n      <td>-0.101665</td>\n      <td>0.608553</td>\n      <td>-0.032722</td>\n      <td>0.215744</td>\n      <td>-0.114392</td>\n    </tr>\n    <tr>\n      <th>BO3[C-Cl]</th>\n      <td>0.138320</td>\n      <td>-0.006189</td>\n      <td>0.544676</td>\n      <td>0.107908</td>\n      <td>0.101888</td>\n      <td>-0.013164</td>\n      <td>0.279774</td>\n      <td>0.251339</td>\n      <td>-0.143712</td>\n      <td>-0.127461</td>\n      <td>...</td>\n      <td>0.432442</td>\n      <td>0.080999</td>\n      <td>-0.087339</td>\n      <td>0.123214</td>\n      <td>0.054826</td>\n      <td>0.038826</td>\n      <td>0.206730</td>\n      <td>-0.033442</td>\n      <td>0.334178</td>\n      <td>-0.251805</td>\n    </tr>\n    <tr>\n      <th>N-073</th>\n      <td>0.054128</td>\n      <td>-0.142508</td>\n      <td>-0.050952</td>\n      <td>0.308141</td>\n      <td>0.382429</td>\n      <td>-0.006999</td>\n      <td>0.183020</td>\n      <td>0.138327</td>\n      <td>-0.022760</td>\n      <td>-0.098016</td>\n      <td>...</td>\n      <td>0.118287</td>\n      <td>0.376190</td>\n      <td>0.046358</td>\n      <td>0.018244</td>\n      <td>-0.104104</td>\n      <td>0.254410</td>\n      <td>0.049877</td>\n      <td>-0.010296</td>\n      <td>-0.042233</td>\n      <td>-0.091698</td>\n    </tr>\n    <tr>\n      <th>SpMax_A</th>\n      <td>0.918821</td>\n      <td>0.019858</td>\n      <td>0.222547</td>\n      <td>0.050565</td>\n      <td>0.269144</td>\n      <td>0.335722</td>\n      <td>0.514745</td>\n      <td>0.568633</td>\n      <td>0.089966</td>\n      <td>0.228516</td>\n      <td>...</td>\n      <td>0.367801</td>\n      <td>0.222729</td>\n      <td>0.004094</td>\n      <td>0.258537</td>\n      <td>-0.053459</td>\n      <td>0.123386</td>\n      <td>0.470988</td>\n      <td>0.123698</td>\n      <td>0.271408</td>\n      <td>-0.388935</td>\n    </tr>\n    <tr>\n      <th>Psi_i_1d</th>\n      <td>0.011282</td>\n      <td>-0.001236</td>\n      <td>0.004671</td>\n      <td>-0.003690</td>\n      <td>0.001509</td>\n      <td>0.003811</td>\n      <td>0.006829</td>\n      <td>0.017639</td>\n      <td>0.001961</td>\n      <td>-0.007938</td>\n      <td>...</td>\n      <td>0.005696</td>\n      <td>0.009287</td>\n      <td>-0.027922</td>\n      <td>0.036910</td>\n      <td>-0.015633</td>\n      <td>-0.001143</td>\n      <td>0.035739</td>\n      <td>0.001286</td>\n      <td>0.007440</td>\n      <td>-0.025147</td>\n    </tr>\n    <tr>\n      <th>BO4[C-Br]</th>\n      <td>0.036398</td>\n      <td>-0.041386</td>\n      <td>0.294199</td>\n      <td>-0.027550</td>\n      <td>-0.044181</td>\n      <td>-0.028183</td>\n      <td>0.169381</td>\n      <td>0.144609</td>\n      <td>-0.067671</td>\n      <td>-0.084960</td>\n      <td>...</td>\n      <td>0.237674</td>\n      <td>-0.071958</td>\n      <td>-0.056045</td>\n      <td>0.494729</td>\n      <td>-0.091543</td>\n      <td>-0.087853</td>\n      <td>0.503027</td>\n      <td>-0.026535</td>\n      <td>0.191636</td>\n      <td>-0.092761</td>\n    </tr>\n    <tr>\n      <th>SdO</th>\n      <td>0.258765</td>\n      <td>0.110433</td>\n      <td>-0.076450</td>\n      <td>0.120456</td>\n      <td>0.284171</td>\n      <td>-0.023651</td>\n      <td>0.204228</td>\n      <td>0.027560</td>\n      <td>0.009836</td>\n      <td>0.748228</td>\n      <td>...</td>\n      <td>0.185277</td>\n      <td>0.278794</td>\n      <td>0.080666</td>\n      <td>0.016511</td>\n      <td>0.360832</td>\n      <td>0.246926</td>\n      <td>0.162396</td>\n      <td>0.232803</td>\n      <td>-0.090565</td>\n      <td>0.054683</td>\n    </tr>\n    <tr>\n      <th>TI2_L</th>\n      <td>-0.033840</td>\n      <td>-0.041987</td>\n      <td>-0.059923</td>\n      <td>0.073109</td>\n      <td>0.091444</td>\n      <td>0.046899</td>\n      <td>-0.014067</td>\n      <td>-0.133671</td>\n      <td>0.207504</td>\n      <td>0.351149</td>\n      <td>...</td>\n      <td>-0.010681</td>\n      <td>0.076347</td>\n      <td>0.012476</td>\n      <td>-0.068214</td>\n      <td>-0.212745</td>\n      <td>0.024040</td>\n      <td>0.101907</td>\n      <td>0.079479</td>\n      <td>-0.020426</td>\n      <td>0.172639</td>\n    </tr>\n    <tr>\n      <th>nCrt</th>\n      <td>0.232425</td>\n      <td>-0.203300</td>\n      <td>0.203231</td>\n      <td>-0.033658</td>\n      <td>-0.035617</td>\n      <td>0.223942</td>\n      <td>-0.123042</td>\n      <td>0.049859</td>\n      <td>-0.011609</td>\n      <td>-0.028519</td>\n      <td>...</td>\n      <td>-0.102855</td>\n      <td>-0.044592</td>\n      <td>-0.056035</td>\n      <td>-0.008023</td>\n      <td>-0.066350</td>\n      <td>-0.073112</td>\n      <td>0.032105</td>\n      <td>-0.023180</td>\n      <td>0.151858</td>\n      <td>-0.106423</td>\n    </tr>\n    <tr>\n      <th>C-026</th>\n      <td>0.311322</td>\n      <td>-0.113738</td>\n      <td>0.438962</td>\n      <td>0.212598</td>\n      <td>0.328985</td>\n      <td>-0.030562</td>\n      <td>0.800254</td>\n      <td>0.409064</td>\n      <td>-0.075703</td>\n      <td>0.104196</td>\n      <td>...</td>\n      <td>1.000000</td>\n      <td>0.374867</td>\n      <td>0.149669</td>\n      <td>0.253031</td>\n      <td>0.043997</td>\n      <td>0.236889</td>\n      <td>0.405749</td>\n      <td>-0.030816</td>\n      <td>0.250655</td>\n      <td>-0.318121</td>\n    </tr>\n    <tr>\n      <th>F02[C-N]</th>\n      <td>0.137149</td>\n      <td>-0.181845</td>\n      <td>-0.037019</td>\n      <td>0.501343</td>\n      <td>0.789318</td>\n      <td>-0.037885</td>\n      <td>0.330459</td>\n      <td>0.095168</td>\n      <td>-0.030887</td>\n      <td>0.057987</td>\n      <td>...</td>\n      <td>0.374867</td>\n      <td>1.000000</td>\n      <td>0.261345</td>\n      <td>-0.019549</td>\n      <td>-0.023986</td>\n      <td>0.802706</td>\n      <td>0.078456</td>\n      <td>-0.050903</td>\n      <td>-0.050812</td>\n      <td>-0.268419</td>\n    </tr>\n    <tr>\n      <th>nHDon</th>\n      <td>0.032386</td>\n      <td>0.009341</td>\n      <td>-0.135432</td>\n      <td>0.134796</td>\n      <td>0.209477</td>\n      <td>0.017306</td>\n      <td>0.113345</td>\n      <td>-0.238199</td>\n      <td>0.012700</td>\n      <td>0.200055</td>\n      <td>...</td>\n      <td>0.149669</td>\n      <td>0.261345</td>\n      <td>1.000000</td>\n      <td>-0.105676</td>\n      <td>0.243334</td>\n      <td>0.408232</td>\n      <td>-0.102788</td>\n      <td>-0.089829</td>\n      <td>-0.103527</td>\n      <td>-0.026402</td>\n    </tr>\n    <tr>\n      <th>SpMax_B(m)</th>\n      <td>0.304680</td>\n      <td>0.085494</td>\n      <td>0.458764</td>\n      <td>-0.005754</td>\n      <td>0.040908</td>\n      <td>0.014565</td>\n      <td>0.223820</td>\n      <td>0.149238</td>\n      <td>-0.017559</td>\n      <td>-0.034474</td>\n      <td>...</td>\n      <td>0.253031</td>\n      <td>-0.019549</td>\n      <td>-0.105676</td>\n      <td>1.000000</td>\n      <td>-0.031737</td>\n      <td>-0.034325</td>\n      <td>0.917367</td>\n      <td>-0.010249</td>\n      <td>0.240133</td>\n      <td>-0.288727</td>\n    </tr>\n    <tr>\n      <th>Psi_i_A</th>\n      <td>0.099390</td>\n      <td>0.513356</td>\n      <td>0.051240</td>\n      <td>0.023116</td>\n      <td>-0.030830</td>\n      <td>0.299689</td>\n      <td>-0.077206</td>\n      <td>-0.251060</td>\n      <td>-0.179163</td>\n      <td>0.341198</td>\n      <td>...</td>\n      <td>0.043997</td>\n      <td>-0.023986</td>\n      <td>0.243334</td>\n      <td>-0.031737</td>\n      <td>1.000000</td>\n      <td>0.049341</td>\n      <td>-0.027885</td>\n      <td>0.017761</td>\n      <td>0.410327</td>\n      <td>0.117133</td>\n    </tr>\n    <tr>\n      <th>nN</th>\n      <td>0.055935</td>\n      <td>-0.089291</td>\n      <td>-0.043030</td>\n      <td>0.462627</td>\n      <td>0.745668</td>\n      <td>-0.077156</td>\n      <td>0.183444</td>\n      <td>-0.092338</td>\n      <td>-0.109045</td>\n      <td>0.025412</td>\n      <td>...</td>\n      <td>0.236889</td>\n      <td>0.802706</td>\n      <td>0.408232</td>\n      <td>-0.034325</td>\n      <td>0.049341</td>\n      <td>1.000000</td>\n      <td>0.027609</td>\n      <td>-0.071193</td>\n      <td>-0.084771</td>\n      <td>-0.261206</td>\n    </tr>\n    <tr>\n      <th>SM6_B(m)</th>\n      <td>0.488967</td>\n      <td>0.087484</td>\n      <td>0.572369</td>\n      <td>0.040250</td>\n      <td>0.146743</td>\n      <td>0.121026</td>\n      <td>0.402301</td>\n      <td>0.280069</td>\n      <td>0.032339</td>\n      <td>0.109371</td>\n      <td>...</td>\n      <td>0.405749</td>\n      <td>0.078456</td>\n      <td>-0.102788</td>\n      <td>0.917367</td>\n      <td>-0.027885</td>\n      <td>0.027609</td>\n      <td>1.000000</td>\n      <td>0.038715</td>\n      <td>0.361553</td>\n      <td>-0.365873</td>\n    </tr>\n    <tr>\n      <th>nArCOOR</th>\n      <td>0.086801</td>\n      <td>-0.071937</td>\n      <td>-0.044207</td>\n      <td>-0.015168</td>\n      <td>-0.043322</td>\n      <td>-0.037890</td>\n      <td>0.112344</td>\n      <td>0.117286</td>\n      <td>-0.021646</td>\n      <td>0.217071</td>\n      <td>...</td>\n      <td>-0.030816</td>\n      <td>-0.050903</td>\n      <td>-0.089829</td>\n      <td>-0.010249</td>\n      <td>0.017761</td>\n      <td>-0.071193</td>\n      <td>0.038715</td>\n      <td>1.000000</td>\n      <td>-0.029346</td>\n      <td>0.149865</td>\n    </tr>\n    <tr>\n      <th>nX</th>\n      <td>0.339561</td>\n      <td>0.389915</td>\n      <td>0.542642</td>\n      <td>0.000702</td>\n      <td>-0.021165</td>\n      <td>0.676168</td>\n      <td>0.126789</td>\n      <td>0.046462</td>\n      <td>-0.046110</td>\n      <td>-0.121916</td>\n      <td>...</td>\n      <td>0.250655</td>\n      <td>-0.050812</td>\n      <td>-0.103527</td>\n      <td>0.240133</td>\n      <td>0.410327</td>\n      <td>-0.084771</td>\n      <td>0.361553</td>\n      <td>-0.029346</td>\n      <td>1.000000</td>\n      <td>-0.214257</td>\n    </tr>\n    <tr>\n      <th>experimental class</th>\n      <td>-0.394873</td>\n      <td>-0.001296</td>\n      <td>-0.298768</td>\n      <td>-0.103166</td>\n      <td>-0.234297</td>\n      <td>-0.170255</td>\n      <td>-0.336685</td>\n      <td>-0.201004</td>\n      <td>-0.056620</td>\n      <td>0.178789</td>\n      <td>...</td>\n      <td>-0.318121</td>\n      <td>-0.268419</td>\n      <td>-0.026402</td>\n      <td>-0.288727</td>\n      <td>0.117133</td>\n      <td>-0.261206</td>\n      <td>-0.365873</td>\n      <td>0.149865</td>\n      <td>-0.214257</td>\n      <td>1.000000</td>\n    </tr>\n  </tbody>\n</table>\n<p>42 rows × 42 columns</p>\n</div>"
     },
     "metadata": {}
    }
   ]
  },
  {
   "cell_type": "markdown",
   "source": "# Correlation matrix",
   "metadata": {
    "tags": [],
    "is_collapsed": false,
    "cell_id": "00005-4bd3d6d9-762d-4513-ab7b-6c888030e81f",
    "deepnote_cell_type": "text-cell-h1"
   }
  },
  {
   "cell_type": "code",
   "metadata": {
    "tags": [],
    "cell_id": "00008-6ee669a3-696b-41ec-a7a3-b69a54f83da5",
    "deepnote_to_be_reexecuted": false,
    "source_hash": "a17c4308",
    "execution_start": 1641412739682,
    "execution_millis": 1932,
    "deepnote_output_heights": [
     611
    ],
    "is_code_hidden": false,
    "is_output_hidden": false,
    "deepnote_cell_type": "code"
   },
   "source": "ax = plt.subplots(figsize=(12,12))\nax = sns.heatmap(\n    corr, \n    vmin=-1, vmax=1, center=0,\n    cmap=sns.diverging_palette(20, 220, n=200),\n    square=True\n)",
   "execution_count": null,
   "outputs": [
    {
     "data": {
      "text/plain": "<Figure size 864x864 with 2 Axes>",
      "image/png": "[encoded data removed]"
     },
     "metadata": {
      "needs_background": "light",
      "image/png": {
       "width": 755,
       "height": 713
      }
     },
     "output_type": "display_data"
    }
   ]
  },
  {
   "cell_type": "code",
   "metadata": {
    "tags": [],
    "cell_id": "00009-9de163f8-3517-419b-863a-712c41ce9a43",
    "deepnote_to_be_reexecuted": false,
    "source_hash": "fee38fd1",
    "execution_start": 1641412741428,
    "execution_millis": 218,
    "deepnote_output_heights": [
     59
    ],
    "is_output_hidden": false,
    "deepnote_cell_type": "code"
   },
   "source": "ordered_corr = corr['experimental class'].abs().sort_values(ascending=False)\nsubdata = Dataset[ordered_corr[1:11].index]\nDataset = Dataset[ordered_corr.index]\nsubdata",
   "execution_count": null,
   "outputs": [
    {
     "output_type": "execute_result",
     "execution_count": 6,
     "data": {
      "application/vnd.deepnote.dataframe.v3+json": {
       "column_count": 10,
       "row_count": 1054,
       "columns": [
        {
         "name": "SpMax_L",
         "dtype": "float64",
         "stats": {
          "unique_count": 440,
          "nan_count": 0,
          "min": "2.0",
          "max": "6.496",
          "histogram": [
           {
            "bin_start": 2,
            "bin_end": 2.4496,
            "count": 2
           },
           {
            "bin_start": 2.4496,
            "bin_end": 2.8992,
            "count": 0
           },
           {
            "bin_start": 2.8992,
            "bin_end": 3.3488,
            "count": 11
           },
           {
            "bin_start": 3.3488,
            "bin_end": 3.7984,
            "count": 34
           },
           {
            "bin_start": 3.7984,
            "bin_end": 4.248,
            "count": 113
           },
           {
            "bin_start": 4.248,
            "bin_end": 4.6976,
            "count": 239
           },
           {
            "bin_start": 4.6976,
            "bin_end": 5.1472,
            "count": 398
           },
           {
            "bin_start": 5.1472,
            "bin_end": 5.5968,
            "count": 217
           },
           {
            "bin_start": 5.5968,
            "bin_end": 6.0464,
            "count": 32
           },
           {
            "bin_start": 6.0464,
            "bin_end": 6.496,
            "count": 8
           }
          ]
         }
        },
        {
         "name": "SpMax_A",
         "dtype": "float64",
         "stats": {
          "unique_count": 329,
          "nan_count": 0,
          "min": "1.0",
          "max": "2.859",
          "histogram": [
           {
            "bin_start": 1,
            "bin_end": 1.1859,
            "count": 2
           },
           {
            "bin_start": 1.1859,
            "bin_end": 1.3718,
            "count": 0
           },
           {
            "bin_start": 1.3718,
            "bin_end": 1.5577,
            "count": 10
           },
           {
            "bin_start": 1.5577,
            "bin_end": 1.7436,
            "count": 30
           },
           {
            "bin_start": 1.7436,
            "bin_end": 1.9295,
            "count": 62
           },
           {
            "bin_start": 1.9295,
            "bin_end": 2.1154,
            "count": 184
           },
           {
            "bin_start": 2.1154,
            "bin_end": 2.3013000000000003,
            "count": 359
           },
           {
            "bin_start": 2.3013000000000003,
            "bin_end": 2.4872,
            "count": 329
           },
           {
            "bin_start": 2.4872,
            "bin_end": 2.6731,
            "count": 64
           },
           {
            "bin_start": 2.6731,
            "bin_end": 2.859,
            "count": 14
           }
          ]
         }
        },
        {
         "name": "SpPosA_B(p)",
         "dtype": "float64",
         "stats": {
          "unique_count": 352,
          "nan_count": 0,
          "min": "0.863",
          "max": "1.641",
          "histogram": [
           {
            "bin_start": 0.863,
            "bin_end": 0.9408,
            "count": 10
           },
           {
            "bin_start": 0.9408,
            "bin_end": 1.0186,
            "count": 9
           },
           {
            "bin_start": 1.0186,
            "bin_end": 1.0964,
            "count": 44
           },
           {
            "bin_start": 1.0964,
            "bin_end": 1.1742,
            "count": 172
           },
           {
            "bin_start": 1.1742,
            "bin_end": 1.252,
            "count": 331
           },
           {
            "bin_start": 1.252,
            "bin_end": 1.3298,
            "count": 338
           },
           {
            "bin_start": 1.3298,
            "bin_end": 1.4076,
            "count": 111
           },
           {
            "bin_start": 1.4076,
            "bin_end": 1.4854,
            "count": 29
           },
           {
            "bin_start": 1.4854,
            "bin_end": 1.5632000000000001,
            "count": 6
           },
           {
            "bin_start": 1.5632000000000001,
            "bin_end": 1.641,
            "count": 4
           }
          ]
         }
        },
        {
         "name": "SM6_B(m)",
         "dtype": "float64",
         "stats": {
          "unique_count": 861,
          "nan_count": 0,
          "min": "4.917",
          "max": "14.7",
          "histogram": [
           {
            "bin_start": 4.917,
            "bin_end": 5.8953,
            "count": 4
           },
           {
            "bin_start": 5.8953,
            "bin_end": 6.8736,
            "count": 34
           },
           {
            "bin_start": 6.8736,
            "bin_end": 7.8519,
            "count": 164
           },
           {
            "bin_start": 7.8519,
            "bin_end": 8.8302,
            "count": 504
           },
           {
            "bin_start": 8.8302,
            "bin_end": 9.808499999999999,
            "count": 258
           },
           {
            "bin_start": 9.808499999999999,
            "bin_end": 10.7868,
            "count": 36
           },
           {
            "bin_start": 10.7868,
            "bin_end": 11.7651,
            "count": 18
           },
           {
            "bin_start": 11.7651,
            "bin_end": 12.7434,
            "count": 11
           },
           {
            "bin_start": 12.7434,
            "bin_end": 13.7217,
            "count": 12
           },
           {
            "bin_start": 13.7217,
            "bin_end": 14.7,
            "count": 13
           }
          ]
         }
        },
        {
         "name": "HyWi_B(m)",
         "dtype": "float64",
         "stats": {
          "unique_count": 755,
          "nan_count": 0,
          "min": "1.544",
          "max": "5.701",
          "histogram": [
           {
            "bin_start": 1.544,
            "bin_end": 1.9597,
            "count": 6
           },
           {
            "bin_start": 1.9597,
            "bin_end": 2.3754,
            "count": 20
           },
           {
            "bin_start": 2.3754,
            "bin_end": 2.7911,
            "count": 85
           },
           {
            "bin_start": 2.7911,
            "bin_end": 3.2068000000000003,
            "count": 234
           },
           {
            "bin_start": 3.2068000000000003,
            "bin_end": 3.6225,
            "count": 317
           },
           {
            "bin_start": 3.6225,
            "bin_end": 4.0382,
            "count": 220
           },
           {
            "bin_start": 4.0382,
            "bin_end": 4.4539,
            "count": 120
           },
           {
            "bin_start": 4.4539,
            "bin_end": 4.8696,
            "count": 32
           },
           {
            "bin_start": 4.8696,
            "bin_end": 5.2853,
            "count": 16
           },
           {
            "bin_start": 5.2853,
            "bin_end": 5.701,
            "count": 4
           }
          ]
         }
        },
        {
         "name": "SM6_L",
         "dtype": "float64",
         "stats": {
          "unique_count": 510,
          "nan_count": 0,
          "min": "4.174",
          "max": "12.609",
          "histogram": [
           {
            "bin_start": 4.174,
            "bin_end": 5.0175,
            "count": 2
           },
           {
            "bin_start": 5.0175,
            "bin_end": 5.861000000000001,
            "count": 0
           },
           {
            "bin_start": 5.861000000000001,
            "bin_end": 6.7045,
            "count": 10
           },
           {
            "bin_start": 6.7045,
            "bin_end": 7.548,
            "count": 12
           },
           {
            "bin_start": 7.548,
            "bin_end": 8.3915,
            "count": 30
           },
           {
            "bin_start": 8.3915,
            "bin_end": 9.235,
            "count": 140
           },
           {
            "bin_start": 9.235,
            "bin_end": 10.0785,
            "count": 362
           },
           {
            "bin_start": 10.0785,
            "bin_end": 10.922,
            "count": 389
           },
           {
            "bin_start": 10.922,
            "bin_end": 11.7655,
            "count": 95
           },
           {
            "bin_start": 11.7655,
            "bin_end": 12.609,
            "count": 14
           }
          ]
         }
        },
        {
         "name": "nCb-",
         "dtype": "int64",
         "stats": {
          "unique_count": 15,
          "nan_count": 0,
          "min": "0",
          "max": "18",
          "histogram": [
           {
            "bin_start": 0,
            "bin_end": 1.8,
            "count": 574
           },
           {
            "bin_start": 1.8,
            "bin_end": 3.6,
            "count": 308
           },
           {
            "bin_start": 3.6,
            "bin_end": 5.4,
            "count": 109
           },
           {
            "bin_start": 5.4,
            "bin_end": 7.2,
            "count": 37
           },
           {
            "bin_start": 7.2,
            "bin_end": 9,
            "count": 10
           },
           {
            "bin_start": 9,
            "bin_end": 10.8,
            "count": 8
           },
           {
            "bin_start": 10.8,
            "bin_end": 12.6,
            "count": 5
           },
           {
            "bin_start": 12.6,
            "bin_end": 14.4,
            "count": 1
           },
           {
            "bin_start": 14.4,
            "bin_end": 16.2,
            "count": 1
           },
           {
            "bin_start": 16.2,
            "bin_end": 18,
            "count": 1
           }
          ]
         }
        },
        {
         "name": "C-026",
         "dtype": "int64",
         "stats": {
          "unique_count": 11,
          "nan_count": 0,
          "min": "0",
          "max": "12",
          "histogram": [
           {
            "bin_start": 0,
            "bin_end": 1.2,
            "count": 795
           },
           {
            "bin_start": 1.2,
            "bin_end": 2.4,
            "count": 133
           },
           {
            "bin_start": 2.4,
            "bin_end": 3.5999999999999996,
            "count": 56
           },
           {
            "bin_start": 3.5999999999999996,
            "bin_end": 4.8,
            "count": 39
           },
           {
            "bin_start": 4.8,
            "bin_end": 6,
            "count": 9
           },
           {
            "bin_start": 6,
            "bin_end": 7.199999999999999,
            "count": 15
           },
           {
            "bin_start": 7.199999999999999,
            "bin_end": 8.4,
            "count": 2
           },
           {
            "bin_start": 8.4,
            "bin_end": 9.6,
            "count": 1
           },
           {
            "bin_start": 9.6,
            "bin_end": 10.799999999999999,
            "count": 2
           },
           {
            "bin_start": 10.799999999999999,
            "bin_end": 12,
            "count": 2
           }
          ]
         }
        },
        {
         "name": "nHM",
         "dtype": "int64",
         "stats": {
          "unique_count": 11,
          "nan_count": 0,
          "min": "0",
          "max": "12",
          "histogram": [
           {
            "bin_start": 0,
            "bin_end": 1.2,
            "count": 868
           },
           {
            "bin_start": 1.2,
            "bin_end": 2.4,
            "count": 93
           },
           {
            "bin_start": 2.4,
            "bin_end": 3.5999999999999996,
            "count": 31
           },
           {
            "bin_start": 3.5999999999999996,
            "bin_end": 4.8,
            "count": 26
           },
           {
            "bin_start": 4.8,
            "bin_end": 6,
            "count": 12
           },
           {
            "bin_start": 6,
            "bin_end": 7.199999999999999,
            "count": 17
           },
           {
            "bin_start": 7.199999999999999,
            "bin_end": 8.4,
            "count": 3
           },
           {
            "bin_start": 8.4,
            "bin_end": 9.6,
            "count": 0
           },
           {
            "bin_start": 9.6,
            "bin_end": 10.799999999999999,
            "count": 3
           },
           {
            "bin_start": 10.799999999999999,
            "bin_end": 12,
            "count": 1
           }
          ]
         }
        },
        {
         "name": "SpMax_B(m)",
         "dtype": "float64",
         "stats": {
          "unique_count": 704,
          "nan_count": 0,
          "min": "2.267",
          "max": "10.695",
          "histogram": [
           {
            "bin_start": 2.267,
            "bin_end": 3.1098,
            "count": 72
           },
           {
            "bin_start": 3.1098,
            "bin_end": 3.9526000000000003,
            "count": 690
           },
           {
            "bin_start": 3.9526000000000003,
            "bin_end": 4.795400000000001,
            "count": 233
           },
           {
            "bin_start": 4.795400000000001,
            "bin_end": 5.6382,
            "count": 5
           },
           {
            "bin_start": 5.6382,
            "bin_end": 6.481,
            "count": 1
           },
           {
            "bin_start": 6.481,
            "bin_end": 7.3238,
            "count": 42
           },
           {
            "bin_start": 7.3238,
            "bin_end": 8.1666,
            "count": 0
           },
           {
            "bin_start": 8.1666,
            "bin_end": 9.009400000000001,
            "count": 0
           },
           {
            "bin_start": 9.009400000000001,
            "bin_end": 9.852200000000002,
            "count": 0
           },
           {
            "bin_start": 9.852200000000002,
            "bin_end": 10.695,
            "count": 11
           }
          ]
         }
        },
        {
         "name": "_deepnote_index_column",
         "dtype": "int64"
        }
       ],
       "rows": [
        {
         "SpMax_L": 4.17,
         "SpMax_A": 2.214,
         "SpPosA_B(p)": 1.104,
         "SM6_B(m)": 7.257,
         "HyWi_B(m)": 2.461,
         "SM6_L": 8.723,
         "nCb-": 0,
         "C-026": 0,
         "nHM": 0,
         "SpMax_B(m)": 3.315,
         "_deepnote_index_column": 0
        },
        {
         "SpMax_L": 3.932,
         "SpMax_A": 1.942,
         "SpPosA_B(p)": 1.092,
         "SM6_B(m)": 7.601,
         "HyWi_B(m)": 3.279,
         "SM6_L": 9.11,
         "nCb-": 0,
         "C-026": 0,
         "nHM": 0,
         "SpMax_B(m)": 3.076,
         "_deepnote_index_column": 1
        },
        {
         "SpMax_L": 3,
         "SpMax_A": 1.414,
         "SpPosA_B(p)": 1.024,
         "SM6_B(m)": 6.69,
         "HyWi_B(m)": 2.1,
         "SM6_L": 6.594,
         "nCb-": 0,
         "C-026": 0,
         "nHM": 0,
         "SpMax_B(m)": 3.046,
         "_deepnote_index_column": 2
        },
        {
         "SpMax_L": 4.236,
         "SpMax_A": 1.985,
         "SpPosA_B(p)": 1.137,
         "SM6_B(m)": 8.003,
         "HyWi_B(m)": 3.449,
         "SM6_L": 9.528,
         "nCb-": 0,
         "C-026": 0,
         "nHM": 0,
         "SpMax_B(m)": 3.351,
         "_deepnote_index_column": 3
        },
        {
         "SpMax_L": 4.236,
         "SpMax_A": 1.98,
         "SpPosA_B(p)": 1.119,
         "SM6_B(m)": 7.904,
         "HyWi_B(m)": 3.313,
         "SM6_L": 9.383,
         "nCb-": 0,
         "C-026": 0,
         "nHM": 0,
         "SpMax_B(m)": 3.351,
         "_deepnote_index_column": 4
        },
        {
         "SpMax_L": 5,
         "SpMax_A": 2,
         "SpPosA_B(p)": 1.125,
         "SM6_B(m)": 9.303,
         "HyWi_B(m)": 2.872,
         "SM6_L": 9.657,
         "nCb-": 0,
         "C-026": 0,
         "nHM": 1,
         "SpMax_B(m)": 4.712,
         "_deepnote_index_column": 5
        },
        {
         "SpMax_L": 4.525,
         "SpMax_A": 2.119,
         "SpPosA_B(p)": 1.179,
         "SM6_B(m)": 7.95,
         "HyWi_B(m)": 3.418,
         "SM6_L": 9.786,
         "nCb-": 0,
         "C-026": 0,
         "nHM": 0,
         "SpMax_B(m)": 3.379,
         "_deepnote_index_column": 6
        },
        {
         "SpMax_L": 4.596,
         "SpMax_A": 2.175,
         "SpPosA_B(p)": 1.328,
         "SM6_B(m)": 7.939,
         "HyWi_B(m)": 2.97,
         "SM6_L": 9.54,
         "nCb-": 2,
         "C-026": 0,
         "nHM": 0,
         "SpMax_B(m)": 3.626,
         "_deepnote_index_column": 7
        },
        {
         "SpMax_L": 5.04,
         "SpMax_A": 2.323,
         "SpPosA_B(p)": 1.199,
         "SM6_B(m)": 8.706,
         "HyWi_B(m)": 3.483,
         "SM6_L": 10.159,
         "nCb-": 2,
         "C-026": 1,
         "nHM": 0,
         "SpMax_B(m)": 3.888,
         "_deepnote_index_column": 8
        },
        {
         "SpMax_L": 4.91,
         "SpMax_A": 2.333,
         "SpPosA_B(p)": 1.279,
         "SM6_B(m)": 8.427,
         "HyWi_B(m)": 3.364,
         "SM6_L": 10.06,
         "nCb-": 2,
         "C-026": 1,
         "nHM": 0,
         "SpMax_B(m)": 3.767,
         "_deepnote_index_column": 9
        }
       ]
      },
      "text/plain": "      SpMax_L  SpMax_A  SpPosA_B(p)  SM6_B(m)  HyWi_B(m)   SM6_L  nCb-  C-026  \\\n0       4.170    2.214        1.104     7.257      2.461   8.723     0      0   \n1       3.932    1.942        1.092     7.601      3.279   9.110     0      0   \n2       3.000    1.414        1.024     6.690      2.100   6.594     0      0   \n3       4.236    1.985        1.137     8.003      3.449   9.528     0      0   \n4       4.236    1.980        1.119     7.904      3.313   9.383     0      0   \n...       ...      ...          ...       ...        ...     ...   ...    ...   \n1049    5.431    2.394        1.232     8.088      3.233  10.681     0      0   \n1050    5.287    2.462        1.178     9.278      4.319  11.029     0      0   \n1051    4.869    2.314        1.261     9.537      4.435  11.072     5      4   \n1052    5.158    2.622        1.410    11.055      4.902  11.817     9      1   \n1053    5.076    2.363        1.364     9.130      3.792  10.327     4      2   \n\n      nHM  SpMax_B(m)  \n0       0       3.315  \n1       0       3.076  \n2       0       3.046  \n3       0       3.351  \n4       0       3.351  \n...   ...         ...  \n1049    0       3.573  \n1050    0       3.787  \n1051    0       3.848  \n1052    2       5.808  \n1053    2       4.009  \n\n[1054 rows x 10 columns]",
      "text/html": "<div>\n<style scoped>\n    .dataframe tbody tr th:only-of-type {\n        vertical-align: middle;\n    }\n\n    .dataframe tbody tr th {\n        vertical-align: top;\n    }\n\n    .dataframe thead th {\n        text-align: right;\n    }\n</style>\n<table border=\"1\" class=\"dataframe\">\n  <thead>\n    <tr style=\"text-align: right;\">\n      <th></th>\n      <th>SpMax_L</th>\n      <th>SpMax_A</th>\n      <th>SpPosA_B(p)</th>\n      <th>SM6_B(m)</th>\n      <th>HyWi_B(m)</th>\n      <th>SM6_L</th>\n      <th>nCb-</th>\n      <th>C-026</th>\n      <th>nHM</th>\n      <th>SpMax_B(m)</th>\n    </tr>\n  </thead>\n  <tbody>\n    <tr>\n      <th>0</th>\n      <td>4.170</td>\n      <td>2.214</td>\n      <td>1.104</td>\n      <td>7.257</td>\n      <td>2.461</td>\n      <td>8.723</td>\n      <td>0</td>\n      <td>0</td>\n      <td>0</td>\n      <td>3.315</td>\n    </tr>\n    <tr>\n      <th>1</th>\n      <td>3.932</td>\n      <td>1.942</td>\n      <td>1.092</td>\n      <td>7.601</td>\n      <td>3.279</td>\n      <td>9.110</td>\n      <td>0</td>\n      <td>0</td>\n      <td>0</td>\n      <td>3.076</td>\n    </tr>\n    <tr>\n      <th>2</th>\n      <td>3.000</td>\n      <td>1.414</td>\n      <td>1.024</td>\n      <td>6.690</td>\n      <td>2.100</td>\n      <td>6.594</td>\n      <td>0</td>\n      <td>0</td>\n      <td>0</td>\n      <td>3.046</td>\n    </tr>\n    <tr>\n      <th>3</th>\n      <td>4.236</td>\n      <td>1.985</td>\n      <td>1.137</td>\n      <td>8.003</td>\n      <td>3.449</td>\n      <td>9.528</td>\n      <td>0</td>\n      <td>0</td>\n      <td>0</td>\n      <td>3.351</td>\n    </tr>\n    <tr>\n      <th>4</th>\n      <td>4.236</td>\n      <td>1.980</td>\n      <td>1.119</td>\n      <td>7.904</td>\n      <td>3.313</td>\n      <td>9.383</td>\n      <td>0</td>\n      <td>0</td>\n      <td>0</td>\n      <td>3.351</td>\n    </tr>\n    <tr>\n      <th>...</th>\n      <td>...</td>\n      <td>...</td>\n      <td>...</td>\n      <td>...</td>\n      <td>...</td>\n      <td>...</td>\n      <td>...</td>\n      <td>...</td>\n      <td>...</td>\n      <td>...</td>\n    </tr>\n    <tr>\n      <th>1049</th>\n      <td>5.431</td>\n      <td>2.394</td>\n      <td>1.232</td>\n      <td>8.088</td>\n      <td>3.233</td>\n      <td>10.681</td>\n      <td>0</td>\n      <td>0</td>\n      <td>0</td>\n      <td>3.573</td>\n    </tr>\n    <tr>\n      <th>1050</th>\n      <td>5.287</td>\n      <td>2.462</td>\n      <td>1.178</td>\n      <td>9.278</td>\n      <td>4.319</td>\n      <td>11.029</td>\n      <td>0</td>\n      <td>0</td>\n      <td>0</td>\n      <td>3.787</td>\n    </tr>\n    <tr>\n      <th>1051</th>\n      <td>4.869</td>\n      <td>2.314</td>\n      <td>1.261</td>\n      <td>9.537</td>\n      <td>4.435</td>\n      <td>11.072</td>\n      <td>5</td>\n      <td>4</td>\n      <td>0</td>\n      <td>3.848</td>\n    </tr>\n    <tr>\n      <th>1052</th>\n      <td>5.158</td>\n      <td>2.622</td>\n      <td>1.410</td>\n      <td>11.055</td>\n      <td>4.902</td>\n      <td>11.817</td>\n      <td>9</td>\n      <td>1</td>\n      <td>2</td>\n      <td>5.808</td>\n    </tr>\n    <tr>\n      <th>1053</th>\n      <td>5.076</td>\n      <td>2.363</td>\n      <td>1.364</td>\n      <td>9.130</td>\n      <td>3.792</td>\n      <td>10.327</td>\n      <td>4</td>\n      <td>2</td>\n      <td>2</td>\n      <td>4.009</td>\n    </tr>\n  </tbody>\n</table>\n<p>1054 rows × 10 columns</p>\n</div>"
     },
     "metadata": {}
    }
   ]
  },
  {
   "cell_type": "markdown",
   "source": "Here we sort the explanatory variables according to their impact on the \"experimental class\" variable.",
   "metadata": {
    "tags": [],
    "cell_id": "00008-279bdaff-d912-4f3a-a13c-72a6cc13d71d",
    "deepnote_cell_type": "markdown"
   }
  },
  {
   "cell_type": "code",
   "metadata": {
    "tags": [],
    "cell_id": "00007-0d04b141-2e40-4b45-846d-8a627c924c03",
    "deepnote_to_be_reexecuted": false,
    "source_hash": "cdcfda70",
    "execution_start": 1641412741624,
    "execution_millis": 1723,
    "deepnote_output_heights": [
     611
    ],
    "is_output_hidden": false,
    "deepnote_cell_type": "code"
   },
   "source": "corr = Dataset.corr()\ncorr\n\nax = plt.subplots(figsize=(12,12))\nax = sns.heatmap(\n    corr, \n    vmin=-1, vmax=1, center=0,\n    cmap=sns.diverging_palette(20, 220, n=200),\n    square=True\n)",
   "execution_count": null,
   "outputs": [
    {
     "data": {
      "text/plain": "<Figure size 864x864 with 2 Axes>",
      "image/png": "[encoded data removed]"
     },
     "metadata": {
      "needs_background": "light",
      "image/png": {
       "width": 755,
       "height": 713
      }
     },
     "output_type": "display_data"
    }
   ]
  },
  {
   "cell_type": "markdown",
   "source": "Here we can understand many things : \n- The features SpMax_A and SpMax_L are highly correlated, and they are the two most correlated features to our target. It is easyly explainable : they are both Leading Eigenvalue from different matrix (Laplace and Adjacency matrix). Therefor, they are calculated in a similar way and their values are quite the same.\n\n- The features F03[C-N], F04[C-N], F02[C-N] and nN are highly correlated. They are all related to the Nitrogen atoms : F02, F03, F04 are the Frequency of C-N at topological distance 2,3,4, and nN is the number of nitrogen atoms. They affect the ability of the molecule to be biodegradable negtively, therefore we can guess that the presence of Nitrogen in a molecule is bad for it's decomposition. \n\n- Also, we can see that nCB- and nHM have a bad influence on the biodegrability of the molecule. They are respectively the number of substituted benzene C and the number of heavy atoms. We already know that having a great number of nitrogen (N) is bad. We can then guess that the presence of too many non organic atoms, or complex structures can prevent the molecule for being biodegradable. Hoever, a big number of oxygen atoms helps the molecule to be biodegradable (as seen with the variance between nO and experimental class)\n\n- The feature 'Psi_i_1d' isn't correlated to any other feature. It is definded as \"Intrinsic state pseudoconnectivity index\", we don't have the skills in chemestry to analyse this information...",
   "metadata": {
    "tags": [],
    "cell_id": "00007-39a41e35-4d32-4e60-a8e9-90581c645362",
    "deepnote_cell_type": "markdown"
   }
  },
  {
   "cell_type": "code",
   "metadata": {
    "tags": [],
    "cell_id": "00010-8cec0956-f427-4b6b-85b9-9dd63715872f",
    "deepnote_to_be_reexecuted": false,
    "source_hash": "9721040c",
    "execution_start": 1641418292905,
    "execution_millis": 588,
    "deepnote_output_heights": [
     21,
     213,
     21
    ],
    "deepnote_cell_type": "code"
   },
   "source": "fig = plt.figure()\n\nx = ['SpMax_L',\n'SpMax_A',\n'SpPosA_B(p)',\n'SM6_B(m)',\n'HyWi_B(m)',\n'SM6_L',\n'nCb-',\n'C-026',\n'nHM',\n'SpMax_B(m)']\nheight = []\nfor i in range (10):\n    height.append(abs(corr.iloc[1:11,0][i]))\nwidth = 0.1\nf = plt.figure()\nf.set_figwidth(13)\nf.set_figheight(3)\nplt.title('Correlation of the 10 first most explicative features')\nplt.bar(x, height, width, color='b')\nfigure(figsize=(1, 1), dpi=150)\nplt.show()\nprint('Max is reached on the', index0+1,'th bar :',round(abs(corr.iloc[1:11,0][0]),2) ,', by SpMax_L')",
   "execution_count": null,
   "outputs": [
    {
     "data": {
      "text/plain": "<Figure size 432x288 with 0 Axes>"
     },
     "metadata": {},
     "output_type": "display_data"
    },
    {
     "data": {
      "text/plain": "<Figure size 936x216 with 1 Axes>",
      "image/png": "[encoded data removed]"
     },
     "metadata": {
      "needs_background": "light",
      "image/png": {
       "width": 762,
       "height": 211
      }
     },
     "output_type": "display_data"
    },
    {
     "data": {
      "text/plain": "<Figure size 150x150 with 0 Axes>"
     },
     "metadata": {},
     "output_type": "display_data"
    },
    {
     "name": "stdout",
     "text": "Max is reached on the 1 th bar : 0.39 , by SpMax_L\n",
     "output_type": "stream",
     "data": {}
    }
   ]
  },
  {
   "cell_type": "markdown",
   "source": "## ACP",
   "metadata": {
    "tags": [],
    "is_collapsed": false,
    "cell_id": "00007-78dbd663-c788-4e04-9b93-0bb1a778add9",
    "deepnote_cell_type": "text-cell-h2"
   }
  },
  {
   "cell_type": "code",
   "metadata": {
    "tags": [],
    "cell_id": "00007-bfb86a94-2f4d-43f4-a56c-194cbe0609ae",
    "deepnote_to_be_reexecuted": false,
    "source_hash": "4e7a854a",
    "execution_start": 1641412743368,
    "execution_millis": 4,
    "deepnote_output_heights": [
     21.1875
    ],
    "deepnote_cell_type": "code"
   },
   "source": "features = ['SpMax_L',\n    'J_Dz(e)',\n    'nHM',\n    'F01[N-N]',\n    'F04[C-N]',\n    'NssssC',\n    'nCb-',\n    'C%',\n    'nCp',\n    'nO',\n    'F03[C-N]',\n    'SdssC',\n    'HyWi_B(m)',\n    'LOC',\n    'SM6_L',\n    'F03[C-O]',\n    'Me','Mi',\n    'nN-N',\n    'nArNO2',\n    'nCRX3',\n    'SpPosA_B(p)',\n    'nCIR',\n    'B01[C-Br]',\n    'BO3[C-Cl]',\n    'N-073',\n    'SpMax_A',\n    'Psi_i_1d',\n    'BO4[C-Br]',\n    'SdO',\n    'TI2_L',\n    'nCrt',\n    'C-026',\n    'F02[C-N]',\n    'nHDon',\n    'SpMax_B(m)',\n    ' Psi_i_A',\n    'nN',\n    'SM6_B(m)',\n    'nArCOOR',\n    'nX']\n\nx = Dataset.loc[:, features].values\ny = Dataset.loc[:, ['experimental class']].values\n\nx = StandardScaler().fit_transform(x)\n\n\npca = PCA(n_components=2)\nprincipalComponents = pca.fit_transform(x)\n\nprincipalDf = pd.DataFrame(data = principalComponents\n             , columns = ['principal component 1', 'principal component 2'])\n\nfinalDf = pd.concat([principalDf, Dataset[['experimental class']]], axis = 1)\n",
   "execution_count": null,
   "outputs": []
  },
  {
   "cell_type": "code",
   "metadata": {
    "tags": [],
    "cell_id": "00009-6c5c2ef5-537a-470f-9b4a-3f215184aa5d",
    "deepnote_to_be_reexecuted": false,
    "source_hash": "e1bd05f4",
    "execution_start": 1641412743382,
    "execution_millis": 19,
    "deepnote_output_heights": [
     21
    ],
    "deepnote_cell_type": "code"
   },
   "source": "pca.explained_variance_ratio_",
   "execution_count": null,
   "outputs": [
    {
     "output_type": "execute_result",
     "execution_count": 9,
     "data": {
      "text/plain": "array([0.18031265, 0.12271405])"
     },
     "metadata": {}
    }
   ]
  },
  {
   "cell_type": "markdown",
   "source": "Ici, on remarque que la variance expliquée par les deux dimensions de l'ACP ne représente qu'à peine 30% de la variation de \"experimental class\". Il n'est donc pas pertinent de visualiser notre système en deux dimensions grâce à l'ACP.",
   "metadata": {
    "tags": [],
    "is_collapsed": false,
    "cell_id": "00010-7bf0a81a-7aac-4cf2-9a56-50ba20866ea8",
    "deepnote_cell_type": "text-cell-p"
   }
  },
  {
   "cell_type": "markdown",
   "source": "# Normalization",
   "metadata": {
    "tags": [],
    "is_collapsed": false,
    "cell_id": "00013-cadad3f6-0214-4dee-80de-66021da9a803",
    "deepnote_cell_type": "text-cell-h1"
   }
  },
  {
   "cell_type": "code",
   "metadata": {
    "tags": [],
    "cell_id": "00012-0e57cfde-5da1-4289-9e09-a44c5d2f8dfd",
    "deepnote_to_be_reexecuted": false,
    "source_hash": "1aa134b0",
    "execution_start": 1641412743408,
    "execution_millis": 27,
    "deepnote_output_heights": [
     251.4375
    ],
    "is_output_hidden": false,
    "deepnote_cell_type": "code"
   },
   "source": "sc = StandardScaler()\nsubdatanormalized = sc.fit_transform(Dataset)\nprint(np.mean(subdatanormalized,axis=0))",
   "execution_count": null,
   "outputs": [
    {
     "name": "stdout",
     "text": "[-1.34827844e-16 -1.22693338e-15  7.14587571e-16  1.34827844e-15\n -1.17300224e-15  3.77517962e-16 -1.21345059e-15 -1.34827844e-17\n -4.04483531e-17  0.00000000e+00 -5.99983904e-16 -2.02241765e-17\n -4.04483531e-17  0.00000000e+00 -6.74139218e-18 -1.34827844e-17\n -5.39311374e-17  2.69655687e-17 -1.55052020e-16  4.88750933e-17\n -1.23030407e-16  3.37069609e-17  1.01120883e-17  2.02241765e-17\n -7.84866585e-15  4.92121629e-16  4.04483531e-17  3.70776570e-17\n  2.69655687e-17  6.74139218e-18  0.00000000e+00  2.86509168e-17\n  4.38190492e-17 -3.03362648e-17 -3.37069609e-17  2.52802207e-17\n -2.69655687e-17 -2.42690118e-16  2.35948726e-17  3.37069609e-18\n  2.02241765e-17 -2.69655687e-17]\n",
     "output_type": "stream",
     "data": {}
    }
   ]
  },
  {
   "cell_type": "markdown",
   "source": "\n\nWe check that the average of each feature is zero (or very close to 0)",
   "metadata": {
    "tags": [],
    "cell_id": "00018-c3e1a2df-bb12-4727-aeae-246e033e44a4",
    "deepnote_cell_type": "markdown"
   }
  },
  {
   "cell_type": "code",
   "metadata": {
    "tags": [],
    "cell_id": "00015-b7380f25-cdfc-46ab-ba2d-cbd3f7c2ec7e",
    "deepnote_to_be_reexecuted": false,
    "source_hash": "7054e2b2",
    "execution_start": 1641412743441,
    "execution_millis": 274,
    "deepnote_cell_type": "code"
   },
   "source": "print(np.std(subdatanormalized,axis=0,ddof=0))",
   "execution_count": null,
   "outputs": [
    {
     "name": "stdout",
     "text": "[1. 1. 1. 1. 1. 1. 1. 1. 1. 1. 1. 1. 1. 1. 1. 1. 1. 1. 1. 1. 1. 1. 1. 1.\n 1. 1. 1. 1. 1. 1. 1. 1. 1. 1. 1. 1. 1. 1. 1. 1. 1. 1.]\n",
     "output_type": "stream",
     "data": {}
    }
   ]
  },
  {
   "cell_type": "markdown",
   "source": "\nThe standard deviation is 1 for each feature",
   "metadata": {
    "tags": [],
    "cell_id": "00020-d8a34bef-3465-49fe-b964-cea9c388eca0",
    "deepnote_cell_type": "markdown"
   }
  },
  {
   "cell_type": "code",
   "metadata": {
    "tags": [],
    "cell_id": "00016-c1e3e6e2-5fa6-4c50-bbdc-05c83a85c267",
    "deepnote_to_be_reexecuted": false,
    "source_hash": "34035e80",
    "execution_start": 1641412743461,
    "execution_millis": 339,
    "deepnote_cell_type": "code"
   },
   "source": "pca = PCA(svd_solver='full')\ncoord = pca.fit_transform(subdatanormalized)\nprint(pca.n_components_) ",
   "execution_count": null,
   "outputs": [
    {
     "name": "stdout",
     "text": "42\n",
     "output_type": "stream",
     "data": {}
    }
   ]
  },
  {
   "cell_type": "code",
   "metadata": {
    "tags": [],
    "cell_id": "00017-f47c7682-b94f-4a07-9c81-6086f2701085",
    "deepnote_to_be_reexecuted": false,
    "source_hash": "2c15aabf",
    "execution_start": 1641412743489,
    "execution_millis": 315,
    "deepnote_cell_type": "code"
   },
   "source": "print(pca.explained_variance_ratio_)",
   "execution_count": null,
   "outputs": [
    {
     "name": "stdout",
     "text": "[1.81550851e-01 1.20287802e-01 1.08525240e-01 8.24771823e-02\n 5.95509551e-02 5.59851161e-02 3.67190323e-02 3.40457299e-02\n 3.24420908e-02 2.98842894e-02 2.50490618e-02 2.37610910e-02\n 2.26299763e-02 2.16500380e-02 1.91408538e-02 1.70836414e-02\n 1.59382295e-02 1.45343793e-02 1.40247212e-02 1.11023627e-02\n 9.31852501e-03 9.04678108e-03 7.17917542e-03 6.56187695e-03\n 6.12500928e-03 5.17776897e-03 4.32468313e-03 4.07818095e-03\n 3.66864350e-03 3.51192645e-03 2.56055542e-03 2.38338723e-03\n 2.03598370e-03 1.64696032e-03 1.60694898e-03 1.33296851e-03\n 1.01658934e-03 7.38849573e-04 5.39169238e-04 4.39751606e-04\n 2.39279912e-04 8.43418879e-05]\n",
     "output_type": "stream",
     "data": {}
    }
   ]
  },
  {
   "cell_type": "markdown",
   "source": "We look at the proportion of the explained variance of each feature",
   "metadata": {
    "tags": [],
    "cell_id": "00023-a6aa91f7-26dc-4bbb-9ecd-3711243e0f66",
    "deepnote_cell_type": "markdown"
   }
  },
  {
   "cell_type": "code",
   "metadata": {
    "tags": [],
    "cell_id": "00018-108219f9-8a14-4a16-8bd6-3d3c228b5e5d",
    "deepnote_to_be_reexecuted": false,
    "source_hash": "fa8c81ae",
    "execution_start": 1641412743569,
    "execution_millis": 0,
    "is_output_hidden": false,
    "deepnote_cell_type": "code"
   },
   "source": "eigval = (pca.n_components_-1)/pca.n_components_*pca.explained_variance_\nprint(len(eigval))\n",
   "execution_count": null,
   "outputs": [
    {
     "name": "stdout",
     "text": "42\n",
     "output_type": "stream",
     "data": {}
    }
   ]
  },
  {
   "cell_type": "code",
   "metadata": {
    "tags": [],
    "cell_id": "00018-ef6ea790-82c3-4644-ab19-207afc273e51",
    "deepnote_to_be_reexecuted": false,
    "source_hash": "d1789189",
    "execution_start": 1641412743628,
    "execution_millis": 225,
    "deepnote_output_heights": [
     280
    ],
    "deepnote_cell_type": "code"
   },
   "source": "plt.plot(np.arange(1,43),eigval)\nplt.title(\"Scree plot\")\nplt.ylabel(\"Eigen values\")\nplt.xlabel(\"Factor number\")\nplt.show()",
   "execution_count": null,
   "outputs": [
    {
     "data": {
      "text/plain": "<Figure size 432x288 with 1 Axes>",
      "image/png": "[encoded data removed]"
     },
     "metadata": {
      "needs_background": "light",
      "image/png": {
       "width": 376,
       "height": 278
      }
     },
     "output_type": "display_data"
    }
   ]
  },
  {
   "cell_type": "code",
   "metadata": {
    "tags": [],
    "cell_id": "00020-a027f54e-bb43-4b1d-962a-3c44305311b3",
    "deepnote_to_be_reexecuted": false,
    "source_hash": "4dc3c32e",
    "execution_start": 1641412743940,
    "execution_millis": 204,
    "deepnote_output_heights": [
     280
    ],
    "deepnote_cell_type": "code"
   },
   "source": "plt.plot(np.arange(1,43),np.cumsum(pca.explained_variance_ratio_))\nplt.title(\"Explained variance vs. # of factors\")\nplt.ylabel(\"Cumsum explained variance ratio\")\nplt.xlabel(\"Factor number\")\nplt.show()\n",
   "execution_count": null,
   "outputs": [
    {
     "data": {
      "text/plain": "<Figure size 432x288 with 1 Axes>",
      "image/png": "[encoded data removed]"
     },
     "metadata": {
      "needs_background": "light",
      "image/png": {
       "width": 386,
       "height": 278
      }
     },
     "output_type": "display_data"
    }
   ]
  },
  {
   "cell_type": "code",
   "metadata": {
    "tags": [],
    "cell_id": "00021-be261d8a-0280-42cf-9f4f-46a7b4ebfdf0",
    "deepnote_to_be_reexecuted": false,
    "source_hash": "5a3379f",
    "execution_start": 1641412744149,
    "execution_millis": 9,
    "deepnote_output_heights": [
     21
    ],
    "deepnote_cell_type": "code"
   },
   "source": "bs = 1/np.arange(42,0,-1)\nbs = np.cumsum(bs)\nbs = bs[::-1]",
   "execution_count": null,
   "outputs": []
  },
  {
   "cell_type": "code",
   "metadata": {
    "tags": [],
    "cell_id": "00022-d7025a57-1cb4-4ed4-a3cd-2fc7381e5dba",
    "deepnote_to_be_reexecuted": false,
    "source_hash": "e50771a4",
    "execution_start": 1641412744168,
    "execution_millis": 7,
    "is_output_hidden": false,
    "deepnote_cell_type": "code"
   },
   "source": "print(pd.DataFrame({'Val.Propre':eigval,'Seuils':bs}))",
   "execution_count": null,
   "outputs": [
    {
     "name": "stdout",
     "text": "    Val.Propre    Seuils\n0     7.450654  4.326743\n1     4.936483  3.326743\n2     4.453760  2.826743\n3     3.384776  2.493409\n4     2.443908  2.243409\n5     2.297570  2.043409\n6     1.506910  1.876743\n7     1.397201  1.733886\n8     1.331389  1.608886\n9     1.226419  1.497775\n10    1.027987  1.397775\n11    0.975130  1.306865\n12    0.928710  1.223532\n13    0.888495  1.146609\n14    0.785520  1.075180\n15    0.701094  1.008514\n16    0.654088  0.946014\n17    0.596475  0.887190\n18    0.575560  0.831635\n19    0.455629  0.779003\n20    0.382422  0.729003\n21    0.371270  0.681384\n22    0.294626  0.635930\n23    0.269292  0.592451\n24    0.251364  0.550785\n25    0.212490  0.510785\n26    0.177480  0.472323\n27    0.167364  0.435286\n28    0.150557  0.399572\n29    0.144126  0.365089\n30    0.105082  0.331756\n31    0.097812  0.299498\n32    0.083555  0.268248\n33    0.067589  0.237945\n34    0.065947  0.208533\n35    0.054704  0.179961\n36    0.041720  0.152184\n37    0.030322  0.125157\n38    0.022127  0.098841\n39    0.018047  0.073200\n40    0.009820  0.048200\n41    0.003461  0.023810\n",
     "output_type": "stream",
     "data": {}
    }
   ]
  },
  {
   "cell_type": "code",
   "metadata": {
    "tags": [],
    "cell_id": "00023-3911cd33-fe0e-43e6-89fb-af6ebe774e3d",
    "deepnote_to_be_reexecuted": false,
    "source_hash": "df4bdc55",
    "execution_start": 1641412744191,
    "execution_millis": 11863,
    "deepnote_output_heights": [
     611
    ],
    "is_output_hidden": false,
    "deepnote_cell_type": "code"
   },
   "source": "fig, axes = plt.subplots(figsize=(12,12))\naxes.set_xlim(-20,20) #même limites en abscisse\naxes.set_ylim(-20,20) #et en ordonnée\n\n#placement des étiquettes des observations\nn = len(Dataset)\nfor i in range(n):\n plt.annotate(Dataset.index[i],(coord[i,0],coord[i,1]))\n\n#ajouter les axes\nplt.plot([-20,20],[0,0],color='silver',linestyle='-',linewidth=1)\nplt.plot([0,0],[-20,20],color='silver',linestyle='-',linewidth=1)\n\n#affichage\nplt.show()\n",
   "execution_count": null,
   "outputs": [
    {
     "data": {
      "text/plain": "<Figure size 864x864 with 1 Axes>",
      "image/png": "[encoded data removed]"
     },
     "metadata": {
      "needs_background": "light",
      "image/png": {
       "width": 718,
       "height": 687
      }
     },
     "output_type": "display_data"
    }
   ]
  },
  {
   "cell_type": "code",
   "metadata": {
    "tags": [],
    "cell_id": "00024-675fc71e-b8a6-408c-afcf-b10b7e58d1f5",
    "deepnote_to_be_reexecuted": false,
    "source_hash": "23f7b9b2",
    "execution_start": 1641412755958,
    "execution_millis": 97,
    "is_output_hidden": false,
    "deepnote_cell_type": "code"
   },
   "source": "di = np.sum(subdatanormalized**2,axis=1)\nprint(pd.DataFrame({'ID':Dataset.index,'d_i':di}))",
   "execution_count": null,
   "outputs": [
    {
     "name": "stdout",
     "text": "        ID          d_i\n0        0    21.178182\n1        1    21.811662\n2        2   126.179974\n3        3    17.587603\n4        4    16.845362\n...    ...          ...\n1049  1049    25.837341\n1050  1050   137.700036\n1051  1051   129.509326\n1052  1052  1578.195102\n1053  1053    23.893754\n\n[1054 rows x 2 columns]\n",
     "output_type": "stream",
     "data": {}
    }
   ]
  },
  {
   "cell_type": "code",
   "metadata": {
    "tags": [],
    "cell_id": "00025-aeef1492-78f4-43be-9365-348e2a33dd73",
    "deepnote_to_be_reexecuted": false,
    "source_hash": "c0c45020",
    "execution_start": 1641412755962,
    "execution_millis": 95,
    "is_output_hidden": false,
    "deepnote_cell_type": "code"
   },
   "source": "cos2 = coord**2\np = 42\nfor j in range(p):\n cos2[:,j] = cos2[:,j]/di\nprint(pd.DataFrame({'id':Dataset.index,'COS2_1':cos2[:,0],'COS2_2':cos2[:,1]}))",
   "execution_count": null,
   "outputs": [
    {
     "name": "stdout",
     "text": "        id    COS2_1    COS2_2\n0        0  0.621039  0.032785\n1        1  0.596024  0.055870\n2        2  0.317196  0.020871\n3        3  0.417039  0.097153\n4        4  0.504301  0.110059\n...    ...       ...       ...\n1049  1049  0.001652  0.002993\n1050  1050  0.110796  0.319073\n1051  1051  0.284544  0.033174\n1052  1052  0.177245  0.007189\n1053  1053  0.168396  0.394393\n\n[1054 rows x 3 columns]\n",
     "output_type": "stream",
     "data": {}
    }
   ]
  },
  {
   "cell_type": "code",
   "metadata": {
    "tags": [],
    "cell_id": "00026-f0849837-48d9-4d3e-a298-a60db7025d05",
    "deepnote_to_be_reexecuted": false,
    "source_hash": "caa2e41c",
    "execution_start": 1641412755971,
    "execution_millis": 94,
    "is_output_hidden": false,
    "deepnote_cell_type": "code"
   },
   "source": "ctr = coord**2\nfor j in range(p):\n ctr[:,j] = ctr[:,j]/(n*eigval[j])\n\nprint(pd.DataFrame({'id':Dataset.index,'CTR_1':ctr[:,0],'CTR_2':ctr[:,1]}))\n",
   "execution_count": null,
   "outputs": [
    {
     "name": "stdout",
     "text": "        id     CTR_1     CTR_2\n0        0  0.001675  0.000133\n1        1  0.001655  0.000234\n2        2  0.005097  0.000506\n3        3  0.000934  0.000328\n4        4  0.001082  0.000356\n...    ...       ...       ...\n1049  1049  0.000005  0.000015\n1050  1050  0.001943  0.008444\n1051  1051  0.004693  0.000826\n1052  1052  0.035621  0.002181\n1053  1053  0.000512  0.001811\n\n[1054 rows x 3 columns]\n",
     "output_type": "stream",
     "data": {}
    }
   ]
  },
  {
   "cell_type": "code",
   "metadata": {
    "tags": [],
    "cell_id": "00027-769e555e-a7d1-44d2-939b-dc94b2a25092",
    "deepnote_to_be_reexecuted": false,
    "source_hash": "5b132c86",
    "execution_start": 1641412756012,
    "execution_millis": 1,
    "deepnote_cell_type": "code"
   },
   "source": "sqrt_eigval = np.sqrt(eigval)\ncorvar = np.zeros((p,p))\nfor k in range(p):\n corvar[:,k] = pca.components_[k,:] * sqrt_eigval[k]\n",
   "execution_count": null,
   "outputs": []
  },
  {
   "cell_type": "code",
   "metadata": {
    "tags": [],
    "cell_id": "00028-60eca46a-f173-4433-9012-ad110d227417",
    "deepnote_to_be_reexecuted": false,
    "source_hash": "cd7072da",
    "execution_start": 1641412756036,
    "execution_millis": 893,
    "deepnote_output_heights": [
     472
    ],
    "deepnote_cell_type": "code"
   },
   "source": "#cercle des corrélations\nfig, axes = plt.subplots(figsize=(8,8))\naxes.set_xlim(-1,1)\naxes.set_ylim(-1,1)\n\n#affichage des étiquettes (noms des variables)\nfor j in range(p):\n plt.annotate(Dataset.columns[j],(corvar[j,0],corvar[j,1]))\n\n#ajouter les axes\nplt.plot([-1,1],[0,0],color='silver',linestyle='-',linewidth=1)\nplt.plot([0,0],[-1,1],color='silver',linestyle='-',linewidth=1)\n\n#ajouter un cercle\ncercle = plt.Circle((0,0),1,color='blue',fill=False)\naxes.add_artist(cercle)\n\n#affichage\nplt.show()\n",
   "execution_count": null,
   "outputs": [
    {
     "data": {
      "text/plain": "<Figure size 576x576 with 1 Axes>",
      "image/png": "[encoded data removed]"
     },
     "metadata": {
      "needs_background": "light",
      "image/png": {
       "width": 517,
       "height": 470
      }
     },
     "output_type": "display_data"
    }
   ]
  },
  {
   "cell_type": "code",
   "metadata": {
    "tags": [],
    "cell_id": "00029-15e62bbf-2f1f-4f38-9467-73436f31ce37",
    "deepnote_to_be_reexecuted": false,
    "source_hash": "1812bf06",
    "execution_start": 1641412756953,
    "execution_millis": 5538250,
    "is_output_hidden": false,
    "deepnote_cell_type": "code"
   },
   "source": "cos2var = corvar**2\nprint(pd.DataFrame({'id':Dataset.columns,'COS2_1':cos2var[:,0],'COS2_2':cos2var[:,1]}))",
   "execution_count": null,
   "outputs": [
    {
     "name": "stdout",
     "text": "                    id    COS2_1    COS2_2\n0   experimental class  0.256117  0.022468\n1              SpMax_L  0.533432  0.057984\n2              SpMax_A  0.615755  0.010850\n3          SpPosA_B(p)  0.277723  0.500599\n4             SM6_B(m)  0.563860  0.019245\n5            HyWi_B(m)  0.702489  0.010074\n6                SM6_L  0.624472  0.067079\n7                 nCb-  0.526232  0.020595\n8                C-026  0.445455  0.012348\n9                  nHM  0.249562  0.044840\n10          SpMax_B(m)  0.279088  0.057972\n11                 LOC  0.035832  0.138119\n12            F02[C-N]  0.184334  0.013025\n13                  nN  0.094980  0.031054\n14           BO3[C-Cl]  0.122557  0.029362\n15            F03[C-N]  0.226645  0.015336\n16            F04[C-N]  0.245161  0.011566\n17                  nX  0.135754  0.072790\n18                  C%  0.285855  0.193385\n19                  nO  0.043279  0.422152\n20               TI2_L  0.003340  0.079113\n21              NssssC  0.052580  0.231017\n22              nArNO2  0.051786  0.051337\n23             nArCOOR  0.007032  0.014709\n24                  Mi  0.139563  0.493951\n25             Psi_i_A  0.000008  0.435329\n26                nCIR  0.129151  0.014752\n27           B01[C-Br]  0.067065  0.080851\n28               SdssC  0.018058  0.271174\n29                nCrt  0.015514  0.001305\n30            F01[N-N]  0.048180  0.009588\n31               nCRX3  0.011446  0.139939\n32           BO4[C-Br]  0.080588  0.088342\n33               N-073  0.048037  0.008022\n34                  Me  0.070464  0.279185\n35                nN-N  0.004888  0.001941\n36                 nCp  0.002500  0.057649\n37                 SdO  0.113573  0.301958\n38               nHDon  0.000264  0.089947\n39            Psi_i_1d  0.000653  0.000411\n40            F03[C-O]  0.136468  0.240855\n41             J_Dz(e)  0.000914  0.294264\n",
     "output_type": "stream",
     "data": {}
    }
   ]
  },
  {
   "cell_type": "code",
   "metadata": {
    "tags": [],
    "cell_id": "00030-a46e0c79-cb67-4e5d-af52-c49bd561b7b1",
    "deepnote_to_be_reexecuted": false,
    "source_hash": "35a395e1",
    "execution_start": 1641412756968,
    "execution_millis": 13,
    "is_output_hidden": false,
    "deepnote_cell_type": "code"
   },
   "source": "#contributions\nctrvar = cos2var\nfor k in range(p):\n ctrvar[:,k] = ctrvar[:,k]/eigval[k]\n#on n'affiche que pour les deux premiers axes\nprint(pd.DataFrame({'id':Dataset.columns,'CTR_1':ctrvar[:,0],'CTR_2':ctrvar[:,1]}))",
   "execution_count": null,
   "outputs": [
    {
     "name": "stdout",
     "text": "                    id     CTR_1     CTR_2\n0   experimental class  0.034375  0.004551\n1              SpMax_L  0.071595  0.011746\n2              SpMax_A  0.082644  0.002198\n3          SpPosA_B(p)  0.037275  0.101408\n4             SM6_B(m)  0.075679  0.003898\n5            HyWi_B(m)  0.094286  0.002041\n6                SM6_L  0.083814  0.013588\n7                 nCb-  0.070629  0.004172\n8                C-026  0.059787  0.002501\n9                  nHM  0.033495  0.009083\n10          SpMax_B(m)  0.037458  0.011744\n11                 LOC  0.004809  0.027979\n12            F02[C-N]  0.024741  0.002638\n13                  nN  0.012748  0.006291\n14           BO3[C-Cl]  0.016449  0.005948\n15            F03[C-N]  0.030419  0.003107\n16            F04[C-N]  0.032905  0.002343\n17                  nX  0.018220  0.014745\n18                  C%  0.038366  0.039175\n19                  nO  0.005809  0.085517\n20               TI2_L  0.000448  0.016026\n21              NssssC  0.007057  0.046798\n22              nArNO2  0.006951  0.010400\n23             nArCOOR  0.000944  0.002980\n24                  Mi  0.018732  0.100061\n25             Psi_i_A  0.000001  0.088186\n26                nCIR  0.017334  0.002988\n27           B01[C-Br]  0.009001  0.016378\n28               SdssC  0.002424  0.054933\n29                nCrt  0.002082  0.000264\n30            F01[N-N]  0.006467  0.001942\n31               nCRX3  0.001536  0.028348\n32           BO4[C-Br]  0.010816  0.017896\n33               N-073  0.006447  0.001625\n34                  Me  0.009457  0.056555\n35                nN-N  0.000656  0.000393\n36                 nCp  0.000336  0.011678\n37                 SdO  0.015243  0.061169\n38               nHDon  0.000035  0.018221\n39            Psi_i_1d  0.000088  0.000083\n40            F03[C-O]  0.018316  0.048791\n41             J_Dz(e)  0.000123  0.059610\n",
     "output_type": "stream",
     "data": {}
    }
   ]
  },
  {
   "cell_type": "markdown",
   "source": "# ACP with 10 first most explicative features",
   "metadata": {
    "tags": [],
    "is_collapsed": false,
    "cell_id": "00015-7e44c9ae-0d75-44c8-86dc-d892310c62dc",
    "deepnote_cell_type": "text-cell-h1"
   }
  },
  {
   "cell_type": "code",
   "metadata": {
    "tags": [],
    "cell_id": "00008-110eb37b-0fab-46d9-bda8-bf7226b536b9",
    "deepnote_to_be_reexecuted": false,
    "source_hash": "9ecd294f",
    "execution_start": 1641412757013,
    "execution_millis": 9,
    "deepnote_output_heights": [
     21
    ],
    "deepnote_cell_type": "code"
   },
   "source": "features = ['SpMax_L', 'SpMax_A', 'SpPosA_B(p)', 'SM6_B(m)', 'HyWi_B(m)', 'SM6_L', 'nCb-',\n 'C-026', 'nHM', 'SpMax_B(m)']\n\nx10 = Dataset.loc[:, features].values\ny10 = Dataset.loc[:, ['experimental class']].values\n\nx10 = StandardScaler().fit_transform(x10)\n\n\npca = PCA(n_components=2)\nprincipalComponents = pca.fit_transform(x10)\n\nprincipalDf = pd.DataFrame(data = principalComponents\n             , columns = ['principal component 1', 'principal component 2'])\n\nfinalDf = pd.concat([principalDf, Dataset[['experimental class']]], axis = 1)\n\npca.explained_variance_ratio_",
   "execution_count": null,
   "outputs": [
    {
     "output_type": "execute_result",
     "execution_count": 27,
     "data": {
      "text/plain": "array([0.54052003, 0.17517231])"
     },
     "metadata": {}
    }
   ]
  },
  {
   "cell_type": "markdown",
   "source": "# Machine Learning",
   "metadata": {
    "tags": [],
    "is_collapsed": false,
    "cell_id": "00021-8b918680-d849-4874-b420-abc1b2294d26",
    "deepnote_cell_type": "text-cell-h1"
   }
  },
  {
   "cell_type": "code",
   "metadata": {
    "tags": [],
    "cell_id": "00009-f89be2ac-9fee-4832-9bca-173fde1383a9",
    "deepnote_to_be_reexecuted": false,
    "source_hash": "37d16868",
    "execution_start": 1641412757077,
    "execution_millis": 0,
    "deepnote_output_heights": [
     null,
     611
    ],
    "is_output_hidden": false,
    "deepnote_cell_type": "code"
   },
   "source": "count1 = np.count_nonzero(y == 1)\ncount0 = np.count_nonzero(y == 0)\ny_train_count0 = 0\ny_train_count1 = 0\n\nwhile (y_train_count0 < 3*count0/4 or y_train_count1 < count1/4):\n    x_train, x_test, y_train, y_test = train_test_split(x, y, test_size=0.25)\n    y_train_count1 = np.count_nonzero(y_train == 1)\n    y_train_count0 = np.count_nonzero(y_train == 0)\n    print(y_train_count0,y_train_count1)\n\nprint(x_train.shape)\nprint(x_test.shape)\nprint(y_train.shape)\nprint(y_test.shape)",
   "execution_count": null,
   "outputs": [
    {
     "name": "stdout",
     "text": "527 263\n(790, 41)\n(264, 41)\n(790, 1)\n(264, 1)\n",
     "output_type": "stream",
     "data": {}
    }
   ]
  },
  {
   "cell_type": "code",
   "metadata": {
    "tags": [],
    "cell_id": "00035-f3cf6d6c-d47a-4ad0-b8e2-6b90cff6e1e8",
    "deepnote_to_be_reexecuted": false,
    "source_hash": "844c6cc6",
    "execution_start": 1641412757081,
    "execution_millis": 5538252,
    "deepnote_cell_type": "code"
   },
   "source": "def test_hyperparametres(algo, hyperparametres):\n    grid       = grid_search.GridSearchCV(algo, hyperparametres, n_jobs=-1)\n    grid.fit(X_train, y_train)\n    print (grid.best_score_, grid.best_estimator_)    \n    return grid.best_score_, grid.best_estimator_",
   "execution_count": null,
   "outputs": []
  },
  {
   "cell_type": "markdown",
   "source": "# PLS",
   "metadata": {
    "tags": [],
    "is_collapsed": false,
    "cell_id": "00012-d5abd788-0222-445d-8e39-17b120b4298b",
    "deepnote_cell_type": "text-cell-h1"
   }
  },
  {
   "cell_type": "code",
   "metadata": {
    "tags": [],
    "cell_id": "00011-5b7318a0-2a14-4fe0-885a-209226941086",
    "deepnote_to_be_reexecuted": false,
    "source_hash": "dabc1418",
    "execution_start": 1641412757133,
    "execution_millis": 3,
    "deepnote_output_heights": [
     611
    ],
    "is_output_hidden": false,
    "is_code_hidden": false,
    "deepnote_cell_type": "code"
   },
   "source": "from sklearn.cross_decomposition import PLSRegression\n\n\nPLS = PLSRegression(n_components=2)\nPLS.fit(x_train, y_train)\ny_pred_PLS = PLS.predict(x_test)\n\ny_proba_PLS = y_pred_PLS.copy()\ny_proba_PLS_2 = 1 - y_proba_PLS  \ny_proba_PLS = np.concatenate((y_proba_PLS,y_proba_PLS_2),axis=1)\ny_proba_PLS = np.fliplr(y_proba_PLS)\ny_proba_PLS[y_proba_PLS>1]=1\ny_proba_PLS[y_proba_PLS<0]=0\n\ny_pred_PLS[y_pred_PLS>=0.5]=1\ny_pred_PLS[y_pred_PLS<0.5]=0\ny_pred_PLS = y_pred_PLS.flatten().astype(int)\n\nprint(\"Accuracy:\",metrics.accuracy_score(y_test, y_pred_PLS)*100,\"%\")\n#Les valeurs prédites sont parfois négatives",
   "execution_count": null,
   "outputs": [
    {
     "name": "stdout",
     "text": "Accuracy: 85.60606060606061 %\n",
     "output_type": "stream",
     "data": {}
    }
   ]
  },
  {
   "cell_type": "code",
   "metadata": {
    "tags": [],
    "cell_id": "00037-cd635b68-a70f-4700-8c30-a9fa0e5a63cd",
    "deepnote_to_be_reexecuted": false,
    "source_hash": "c3abb83c",
    "execution_start": 1641412757134,
    "execution_millis": 1749,
    "deepnote_output_heights": [
     null,
     611
    ],
    "deepnote_cell_type": "code"
   },
   "source": "grid_param = {\n    'n_components' : [2]\n}\ngs = GridSearchCV(PLSRegression(n_components=2),grid_param,\nverbose=1,cv=3, n_jobs = -1)\n\ngs_results = gs.fit(x_train, y_train)",
   "execution_count": null,
   "outputs": [
    {
     "name": "stdout",
     "text": "Fitting 3 folds for each of 1 candidates, totalling 3 fits\n",
     "output_type": "stream",
     "data": {}
    }
   ]
  },
  {
   "cell_type": "code",
   "metadata": {
    "tags": [],
    "cell_id": "00014-0358a3c0-0f88-4016-a119-f461018f9f36",
    "deepnote_to_be_reexecuted": false,
    "source_hash": "228929dc",
    "execution_start": 1641412758900,
    "execution_millis": 334,
    "deepnote_output_heights": [
     264
    ],
    "deepnote_cell_type": "code"
   },
   "source": "cm_PLS = confusion_matrix(y_test, y_pred_PLS)\ndisp = ConfusionMatrixDisplay(confusion_matrix=cm_PLS)\ndisp.plot()\nplt.show()",
   "execution_count": null,
   "outputs": [
    {
     "data": {
      "text/plain": "<Figure size 432x288 with 2 Axes>",
      "image/png": "[encoded data removed]"
     },
     "metadata": {
      "needs_background": "light",
      "image/png": {
       "width": 312,
       "height": 262
      }
     },
     "output_type": "display_data"
    }
   ]
  },
  {
   "cell_type": "code",
   "metadata": {
    "tags": [],
    "cell_id": "00040-605391ec-ac2f-48ab-93df-40e4631d39a3",
    "deepnote_to_be_reexecuted": false,
    "source_hash": "310219b6",
    "execution_start": 1641412759246,
    "execution_millis": 9,
    "deepnote_output_heights": [
     21.1875
    ],
    "deepnote_cell_type": "code"
   },
   "source": "f1_PLS = f1_score(y_test, y_pred_PLS, average=None)\nscore_PLS = metrics.accuracy_score(y_test, y_pred_PLS)\ncr_PLS = classification_report(y_test, y_pred_PLS)",
   "execution_count": null,
   "outputs": []
  },
  {
   "cell_type": "markdown",
   "source": "# KNN :",
   "metadata": {
    "tags": [],
    "is_collapsed": false,
    "cell_id": "00010-98d281a2-b55b-462f-b5f0-b0400250ee29",
    "deepnote_cell_type": "text-cell-h1"
   }
  },
  {
   "cell_type": "code",
   "metadata": {
    "tags": [],
    "cell_id": "00047-616ffd6b-bfa7-44a2-acd6-f9f995de120e",
    "deepnote_to_be_reexecuted": false,
    "source_hash": "f477e05f",
    "execution_start": 1641412759264,
    "execution_millis": 3714,
    "deepnote_cell_type": "code"
   },
   "source": "grid_param = {\n    'n_neighbors': [2,3,4,5,6,7,8,9,10,11,12,13,14,15,16,17,18,19,20],\n    'weights':['uniform', 'distance'],\n    'metric':['euclidean', 'manhattan']\n}\n\ngs = GridSearchCV(KNeighborsClassifier(),\ngrid_param, verbose=1,cv=3, n_jobs = -1)\n\ngs_results = gs.fit(x_train, y_train)",
   "execution_count": null,
   "outputs": [
    {
     "name": "stdout",
     "text": "Fitting 3 folds for each of 76 candidates, totalling 228 fits\n/shared-libs/python3.7/py/lib/python3.7/site-packages/sklearn/neighbors/_classification.py:198: DataConversionWarning: A column-vector y was passed when a 1d array was expected. Please change the shape of y to (n_samples,), for example using ravel().\n  return self._fit(X, y)\n",
     "output_type": "stream",
     "data": {}
    }
   ]
  },
  {
   "cell_type": "code",
   "metadata": {
    "tags": [],
    "cell_id": "00014-30017e32-935e-469a-bc78-77f08d444044",
    "deepnote_to_be_reexecuted": false,
    "source_hash": "fb44e82a",
    "execution_start": 1641412762828,
    "execution_millis": 151,
    "deepnote_output_heights": [
     null,
     136.3125
    ],
    "is_code_hidden": false,
    "is_output_hidden": false,
    "deepnote_cell_type": "code"
   },
   "source": "model = KNeighborsClassifier(n_neighbors = gs_results.best_params_['n_neighbors'])\nmodel.fit(x_train,y_train)\ny_pred_KNN = model.predict(x_test)\nprint(\"Accuracy:\",metrics.accuracy_score(y_test, y_pred_KNN)*100,\"%\")\nprint(model.get_params(deep=True))",
   "execution_count": null,
   "outputs": [
    {
     "name": "stdout",
     "text": "Accuracy: 87.5 %\n{'algorithm': 'auto', 'leaf_size': 30, 'metric': 'minkowski', 'metric_params': None, 'n_jobs': None, 'n_neighbors': 6, 'p': 2, 'weights': 'uniform'}\n/shared-libs/python3.7/py/lib/python3.7/site-packages/sklearn/neighbors/_classification.py:198: DataConversionWarning: A column-vector y was passed when a 1d array was expected. Please change the shape of y to (n_samples,), for example using ravel().\n  return self._fit(X, y)\n",
     "output_type": "stream",
     "data": {}
    }
   ]
  },
  {
   "cell_type": "markdown",
   "source": "print(\"\\nOn cherche notre meilleur k:\\n\")  \nmaxi=0\nmeilleur_k=0\n\nfor k in range (3,40):\n    model = KNeighborsClassifier(n_neighbors = k)\n    model.fit(x_train[:,0:15],np.ravel(y_train,order='C'))\n    y_pred = model.predict(x_test[:,0:15])\n    precision = metrics.accuracy_score(y_test, y_pred)\n    #precision = model.score(x_test, y_test)\n    round(precision,2)\n    print(round(precision,3)*100,\"% de précision avec k=\",k,\".\\n\")\n    if(precision>maxi):\n        meilleur_k=k\n        maxi=precision\nprint(\"Le k le plus précis est\", meilleur_k)\nprint(model.predict_proba(x_train[:,0:15]))",
   "metadata": {
    "tags": [],
    "cell_id": "00050-03c45e86-41dd-4ed6-a7e3-58041a24b2a7",
    "deepnote_cell_type": "markdown"
   }
  },
  {
   "cell_type": "code",
   "metadata": {
    "tags": [],
    "cell_id": "00048-9f4838cf-1d07-4c99-a360-3d029f5e6c8e",
    "deepnote_to_be_reexecuted": false,
    "source_hash": "20cdf409",
    "execution_start": 1641412762894,
    "execution_millis": 294,
    "deepnote_output_heights": [
     264
    ],
    "deepnote_cell_type": "code"
   },
   "source": "cm_KNN = confusion_matrix(y_test, y_pred_KNN)\ndisp = ConfusionMatrixDisplay(confusion_matrix=cm_KNN)\ndisp.plot()\nplt.show()",
   "execution_count": null,
   "outputs": [
    {
     "data": {
      "text/plain": "<Figure size 432x288 with 2 Axes>",
      "image/png": "[encoded data removed]"
     },
     "metadata": {
      "needs_background": "light",
      "image/png": {
       "width": 312,
       "height": 262
      }
     },
     "output_type": "display_data"
    }
   ]
  },
  {
   "cell_type": "code",
   "metadata": {
    "tags": [],
    "cell_id": "00048-00a19e81-cd2c-4de7-83dd-52b0a3d23316",
    "deepnote_to_be_reexecuted": false,
    "source_hash": "bdf63579",
    "execution_start": 1641412763200,
    "execution_millis": 57,
    "deepnote_output_heights": [
     232.25
    ],
    "deepnote_cell_type": "code"
   },
   "source": "f1_KNN = f1_score(y_test, y_pred_KNN, average=None)\ny_proba_KNN = model.predict_proba(x_test)\nscore_KNN = model.score(x_test, y_test)\ncr_KNN = classification_report(y_test, y_pred_KNN)",
   "execution_count": null,
   "outputs": []
  },
  {
   "cell_type": "markdown",
   "source": "# SVC",
   "metadata": {
    "tags": [],
    "is_collapsed": false,
    "cell_id": "00037-9c99b980-e6c1-4be5-8290-22e814b225db",
    "deepnote_cell_type": "text-cell-h1"
   }
  },
  {
   "cell_type": "code",
   "metadata": {
    "tags": [],
    "cell_id": "00049-715774cb-563c-4a87-8fb5-16fcd4bdc974",
    "is_code_hidden": false,
    "deepnote_to_be_reexecuted": false,
    "source_hash": "30f364cc",
    "execution_start": 1641412763316,
    "execution_millis": 3189,
    "deepnote_output_heights": [
     59.5625
    ],
    "is_output_hidden": false,
    "deepnote_cell_type": "code"
   },
   "source": "\n\nparam = {\n    'C'      : [0.5,1,1.5,1.65,1.7,1.75,1.9,2],\n    'gamma'  : [0.5, 0.1, 0.15]     \n}\ngs = GridSearchCV(svm.SVC(),\nparam, verbose=1,cv=3, n_jobs = -1)\ngs_results = gs.fit(x_train, y_train)",
   "execution_count": null,
   "outputs": [
    {
     "name": "stdout",
     "text": "Fitting 3 folds for each of 24 candidates, totalling 72 fits\n/shared-libs/python3.7/py/lib/python3.7/site-packages/sklearn/utils/validation.py:985: DataConversionWarning: A column-vector y was passed when a 1d array was expected. Please change the shape of y to (n_samples, ), for example using ravel().\n  y = column_or_1d(y, warn=True)\n",
     "output_type": "stream",
     "data": {}
    }
   ]
  },
  {
   "cell_type": "code",
   "metadata": {
    "tags": [],
    "cell_id": "00051-5ed16d9a-d639-4655-80fc-0e88e1f8500b",
    "deepnote_to_be_reexecuted": false,
    "source_hash": "eb797eda",
    "execution_start": 1641412766514,
    "execution_millis": 14,
    "deepnote_output_heights": [
     21
    ],
    "deepnote_cell_type": "code"
   },
   "source": "gs_results.best_params_",
   "execution_count": null,
   "outputs": [
    {
     "output_type": "execute_result",
     "execution_count": 39,
     "data": {
      "text/plain": "{'C': 1.7, 'gamma': 0.1}"
     },
     "metadata": {}
    }
   ]
  },
  {
   "cell_type": "code",
   "metadata": {
    "tags": [],
    "cell_id": "00050-ca372cbf-3441-4c79-8070-52c12a6c89ba",
    "deepnote_to_be_reexecuted": false,
    "source_hash": "b31ca5b3",
    "execution_start": 1641412766541,
    "execution_millis": 297,
    "deepnote_output_heights": [
     611,
     232.25
    ],
    "deepnote_cell_type": "code"
   },
   "source": "model = svm.SVC(probability=True,\n        C= gs_results.best_params_['C'],\n        gamma = gs_results.best_params_['gamma'])\n\nmodel.fit(x_train,y_train)\ny_proba_SVC = model.predict_proba(x_test)\n\ny_pred_SVC = model.predict(x_test)\n\n#y_pred_SVC[y_pred_SVC>=0.5]=1\n#y_pred_SVC[y_pred_SVC<0.5]=0\n\n#print(\"Accuracy:\",metrics.accuracy_score(y_test, y_pred_SVC)*100,\"%\")\n",
   "execution_count": null,
   "outputs": [
    {
     "name": "stderr",
     "text": "/shared-libs/python3.7/py/lib/python3.7/site-packages/sklearn/utils/validation.py:985: DataConversionWarning: A column-vector y was passed when a 1d array was expected. Please change the shape of y to (n_samples, ), for example using ravel().\n  y = column_or_1d(y, warn=True)\n",
     "output_type": "stream",
     "data": {}
    }
   ]
  },
  {
   "cell_type": "code",
   "metadata": {
    "tags": [],
    "cell_id": "00053-98a0df93-3ce5-456b-a6e6-c16b465469af",
    "deepnote_to_be_reexecuted": false,
    "source_hash": "450c3f07",
    "execution_start": 1641412766934,
    "execution_millis": 292,
    "deepnote_output_heights": [
     268
    ],
    "deepnote_cell_type": "code"
   },
   "source": "cm_SVC = confusion_matrix(y_test, y_pred_SVC)\ndisp = ConfusionMatrixDisplay(confusion_matrix=cm_SVC)\ndisp.plot()\nplt.show()",
   "execution_count": null,
   "outputs": [
    {
     "data": {
      "text/plain": "<Figure size 432x288 with 2 Axes>",
      "image/png": "[encoded data removed]"
     },
     "metadata": {
      "needs_background": "light",
      "image/png": {
       "width": 312,
       "height": 266
      }
     },
     "output_type": "display_data"
    }
   ]
  },
  {
   "cell_type": "code",
   "metadata": {
    "tags": [],
    "cell_id": "00052-a7344213-9bd4-4654-b5b4-6dd58eff0839",
    "deepnote_to_be_reexecuted": false,
    "source_hash": "7f8cb13f",
    "execution_start": 1641412767222,
    "execution_millis": 0,
    "deepnote_cell_type": "code"
   },
   "source": "f1_SVC = f1_score(y_test, y_pred_SVC, average=None)\nscore_SVC = model.score(x_test, y_test)\ncr_SVC = classification_report(y_test, y_pred_SVC)",
   "execution_count": null,
   "outputs": []
  },
  {
   "cell_type": "markdown",
   "source": "# SGDClassifier",
   "metadata": {
    "tags": [],
    "is_collapsed": false,
    "cell_id": "00053-662a739f-18a5-42f1-b4be-d49271a16496",
    "deepnote_cell_type": "text-cell-h1"
   }
  },
  {
   "cell_type": "code",
   "metadata": {
    "tags": [],
    "cell_id": "00054-12878278-d77b-4a80-8ed4-424df1c6e43b",
    "deepnote_to_be_reexecuted": false,
    "source_hash": "b2fe4c41",
    "execution_start": 1641412767223,
    "execution_millis": 23,
    "deepnote_cell_type": "code"
   },
   "source": "sgdc = SGDClassifier(max_iter=1000, tol=0.01, loss=\"modified_huber\")\nsgdc.fit(x_train, y_train)\ny_pred_SGDC = sgdc.predict(x_test)\nscore = sgdc.score(x_train, y_train)\nprint(\"Training score: \", score) \nscore_SGDC = sgdc.score(x_test, y_test)\nprint(\"Test score: \", score_SGDC) ",
   "execution_count": null,
   "outputs": [
    {
     "name": "stdout",
     "text": "Training score:  0.8455696202531645\nTest score:  0.875\n/shared-libs/python3.7/py/lib/python3.7/site-packages/sklearn/utils/validation.py:985: DataConversionWarning: A column-vector y was passed when a 1d array was expected. Please change the shape of y to (n_samples, ), for example using ravel().\n  y = column_or_1d(y, warn=True)\n",
     "output_type": "stream",
     "data": {}
    }
   ]
  },
  {
   "cell_type": "code",
   "metadata": {
    "tags": [],
    "cell_id": "00055-a8056d5c-04d1-4149-84d0-54ca9f6031a0",
    "deepnote_to_be_reexecuted": false,
    "source_hash": "94038e3f",
    "execution_start": 1641412767259,
    "execution_millis": 543,
    "deepnote_output_heights": [
     264
    ],
    "deepnote_cell_type": "code"
   },
   "source": "cm_SGDC = confusion_matrix(y_test, y_pred_SGDC)\ndisp = ConfusionMatrixDisplay(confusion_matrix=cm_SGDC)\ndisp.plot()\nplt.show()",
   "execution_count": null,
   "outputs": [
    {
     "data": {
      "text/plain": "<Figure size 432x288 with 2 Axes>",
      "image/png": "[encoded data removed]"
     },
     "metadata": {
      "needs_background": "light",
      "image/png": {
       "width": 312,
       "height": 262
      }
     },
     "output_type": "display_data"
    }
   ]
  },
  {
   "cell_type": "code",
   "metadata": {
    "tags": [],
    "cell_id": "00056-8868695f-f37f-445d-98a1-54a0e6af8086",
    "deepnote_to_be_reexecuted": false,
    "source_hash": "7659ab89",
    "execution_start": 1641412767571,
    "execution_millis": 3,
    "deepnote_cell_type": "code"
   },
   "source": "f1_SGDC = f1_score(y_test, y_pred_SGDC, average=None)\ny_proba_SGDC = sgdc.predict_proba(x_test)\nscore_SGDC = sgdc.score(x_test, y_test)\ncr_SGDC = classification_report(y_test, y_pred_SGDC)",
   "execution_count": null,
   "outputs": []
  },
  {
   "cell_type": "markdown",
   "source": "# Comparaison between our algos",
   "metadata": {
    "tags": [],
    "is_collapsed": false,
    "cell_id": "00053-51cb8354-e21a-4ba0-99be-e512b65a7eb2",
    "deepnote_cell_type": "text-cell-h1"
   }
  },
  {
   "cell_type": "code",
   "metadata": {
    "tags": [],
    "cell_id": "00053-2c7e5b0a-bb08-472d-9200-c64055832371",
    "deepnote_to_be_reexecuted": false,
    "source_hash": "b126374e",
    "execution_start": 1641412767594,
    "execution_millis": 2,
    "deepnote_output_heights": [
     21.1875
    ],
    "deepnote_cell_type": "code"
   },
   "source": "print('classification report for PLS : ')\nprint(cr_PLS)\nprint('classification report for KNN : ')\nprint(cr_KNN)\nprint('classification report for SVC : ')\nprint(cr_SVC)\nprint('classification report for SGDClassifier : ')\nprint(cr_SGDC)\n\nprint()\nprint('PLS score :', score_PLS,', KNN score :', score_KNN,', SVC score :', score_SVC,', SGDClassifier score :', score_SGDC)",
   "execution_count": null,
   "outputs": [
    {
     "name": "stdout",
     "text": "classification report for PLS : \n              precision    recall  f1-score   support\n\n           0       0.85      0.95      0.90       172\n           1       0.89      0.67      0.77        92\n\n    accuracy                           0.86       264\n   macro avg       0.87      0.81      0.83       264\nweighted avg       0.86      0.86      0.85       264\n\nclassification report for KNN : \n              precision    recall  f1-score   support\n\n           0       0.87      0.95      0.91       172\n           1       0.89      0.73      0.80        92\n\n    accuracy                           0.88       264\n   macro avg       0.88      0.84      0.86       264\nweighted avg       0.88      0.88      0.87       264\n\nclassification report for SVC : \n              precision    recall  f1-score   support\n\n           0       0.85      0.93      0.89       172\n           1       0.84      0.70      0.76        92\n\n    accuracy                           0.85       264\n   macro avg       0.85      0.81      0.83       264\nweighted avg       0.85      0.85      0.84       264\n\nclassification report for SGDClassifier : \n              precision    recall  f1-score   support\n\n           0       0.89      0.92      0.91       172\n           1       0.84      0.79      0.82        92\n\n    accuracy                           0.88       264\n   macro avg       0.87      0.86      0.86       264\nweighted avg       0.87      0.88      0.87       264\n\n\nPLS score : 0.8560606060606061 , KNN score : 0.875 , SVC score : 0.8484848484848485 , SGDClassifier score : 0.875\n",
     "output_type": "stream",
     "data": {}
    }
   ]
  },
  {
   "cell_type": "code",
   "metadata": {
    "tags": [],
    "cell_id": "00059-bfb3ea04-7ffb-4ddf-8494-f5e407a53a84",
    "deepnote_to_be_reexecuted": false,
    "source_hash": "1ad5902f",
    "execution_start": 1641412767626,
    "execution_millis": 255,
    "deepnote_output_heights": [
     null,
     21.1875
    ],
    "deepnote_cell_type": "code"
   },
   "source": "f1 = {'Knn': f1_KNN,'PLS': f1_PLS,'SGDC':f1_SGDC,'SVC': f1_SVC}\nf1_0 = (f1_KNN[0],f1_PLS[0],f1_SGDC[0],f1_SVC[0])\nf1_1 = (f1_KNN[1],f1_PLS[1],f1_SGDC[1],f1_SVC[1])\nkeys = []\nfor key in f1:\n    keys.append(key)\nkeys\nmaxvalue0=max(f1_0)\nindex0 = (f1_0).index(maxvalue0)\nname0 = keys[index0]\nprint('Maximum value for the classification of the non biodegradable molecules (0) is:', maxvalue0, \", reached by:\", name0)\n\nmaxvalue1=max(f1_1)\nindex1 = (f1_1).index(maxvalue1)\nname1 = keys[index1]\nprint('Maximum value for the classification of the biodegradable molecules (1) is:', maxvalue1, \", reached by:\", name1)",
   "execution_count": null,
   "outputs": [
    {
     "name": "stdout",
     "text": "Maximum value for the classification of the non biodegradable molecules (0) is: 0.9085872576177285 , reached by: Knn\nMaximum value for the classification of the biodegradable molecules (1) is: 0.8156424581005586 , reached by: SGDC\n",
     "output_type": "stream",
     "data": {}
    }
   ]
  },
  {
   "cell_type": "code",
   "metadata": {
    "tags": [],
    "cell_id": "00060-facdc124-d6b3-42b5-b2fb-01d7d9947843",
    "deepnote_to_be_reexecuted": false,
    "source_hash": "3a0ac0d3",
    "execution_start": 1641412767685,
    "execution_millis": 224,
    "deepnote_output_heights": [
     267
    ],
    "deepnote_cell_type": "code"
   },
   "source": "fig = plt.figure()\n\nx = ['f1_KNN','f1_PLS','f1_SGDC','f1_SVC']\nheight = [f1_KNN[0],f1_PLS[0],f1_SGDC[0],f1_SVC[0]]\nwidth = 0.05\nplt.title('f1 for non biodegradable mol (0)')\nplt.bar(x, height, width, color='b' )\nplt.show()\nprint('Max is reached on the', index0+1,'th bar (',round(maxvalue0,2) ,'%) by the', name0 )",
   "execution_count": null,
   "outputs": [
    {
     "data": {
      "text/plain": "<Figure size 432x288 with 1 Axes>",
      "image/png": "[encoded data removed]"
     },
     "metadata": {
      "needs_background": "light",
      "image/png": {
       "width": 372,
       "height": 265
      }
     },
     "output_type": "display_data"
    },
    {
     "name": "stdout",
     "text": "Max is reached on the 1 th bar ( 0.91 %) by the Knn\n",
     "output_type": "stream",
     "data": {}
    }
   ]
  },
  {
   "cell_type": "code",
   "metadata": {
    "tags": [],
    "cell_id": "00061-09b07195-b590-426a-a07c-118af5021bdb",
    "deepnote_to_be_reexecuted": false,
    "source_hash": "d8065b88",
    "execution_start": 1641412767993,
    "execution_millis": 174,
    "deepnote_output_heights": [
     267
    ],
    "deepnote_cell_type": "code"
   },
   "source": "fig = plt.figure()\n\nx = ['f1_KNN','f1_PLS','f1_SGDC','f1_SVC']\nheight = [f1_KNN[1],f1_PLS[1],f1_SGDC[1],f1_SVC[1]]\nwidth = 0.05\nplt.title('f1 for biodegradable mol (1)')\nplt.bar(x, height, width, color='b' )\nplt.show()\nprint('Max is reached on the', index1+1,'th bar (',round(maxvalue1,2) ,'%) by the', name1 )",
   "execution_count": null,
   "outputs": [
    {
     "data": {
      "text/plain": "<Figure size 432x288 with 1 Axes>",
      "image/png": "[encoded data removed]"
     },
     "metadata": {
      "needs_background": "light",
      "image/png": {
       "width": 372,
       "height": 265
      }
     },
     "output_type": "display_data"
    },
    {
     "name": "stdout",
     "text": "Max is reached on the 3 th bar ( 0.82 %) by the SGDC\n",
     "output_type": "stream",
     "data": {}
    }
   ]
  },
  {
   "cell_type": "code",
   "metadata": {
    "tags": [],
    "cell_id": "00054-7d821374-cb19-42ae-aab5-e820dc5f05ed",
    "deepnote_to_be_reexecuted": false,
    "source_hash": "4024dfc7",
    "execution_start": 1641412768261,
    "execution_millis": 671,
    "deepnote_output_heights": [
     21,
     136,
     250
    ],
    "deepnote_cell_type": "code"
   },
   "source": "# Create 2x2 sub plots\ngs = gridspec.GridSpec(2, 2)\n\npl.figure()\nax = pl.subplot(gs[0, 0]) # row 0, col 0\ndisp = ConfusionMatrixDisplay(confusion_matrix=cm_KNN)\ndisp.plot()\n\nax = pl.subplot(gs[0, 1]) # row 0, col 1\npl.plot([0,1])\n\nax = pl.subplot(gs[1, :]) # row 1, span all columns\npl.plot([0,1])",
   "execution_count": null,
   "outputs": [
    {
     "output_type": "execute_result",
     "execution_count": 50,
     "data": {
      "text/plain": "[<matplotlib.lines.Line2D at 0x7f84ff478f10>]"
     },
     "metadata": {}
    },
    {
     "data": {
      "text/plain": "<Figure size 432x288 with 1 Axes>",
      "image/png": "[encoded data removed]"
     },
     "metadata": {
      "needs_background": "light",
      "image/png": {
       "width": 203,
       "height": 134
      }
     },
     "output_type": "display_data"
    },
    {
     "data": {
      "text/plain": "<Figure size 432x288 with 2 Axes>",
      "image/png": "[encoded data removed]"
     },
     "metadata": {
      "needs_background": "light",
      "image/png": {
       "width": 376,
       "height": 248
      }
     },
     "output_type": "display_data"
    }
   ]
  },
  {
   "cell_type": "markdown",
   "source": "# Mean of our algorithms",
   "metadata": {
    "tags": [],
    "is_collapsed": false,
    "cell_id": "00053-baaa1489-1b1e-4925-b000-8ddea58c4ca7",
    "deepnote_cell_type": "text-cell-h1"
   }
  },
  {
   "cell_type": "code",
   "metadata": {
    "tags": [],
    "cell_id": "00057-3417092a-2679-4404-a7e4-c3574dea2219",
    "deepnote_to_be_reexecuted": false,
    "source_hash": "e14eb177",
    "execution_start": 1641412769029,
    "execution_millis": 225,
    "deepnote_output_heights": [
     264
    ],
    "deepnote_cell_type": "code"
   },
   "source": "y_proba_global = np.mean( np.array([y_proba_SVC[:,1]  ,y_proba_PLS[:,1] ,y_proba_KNN[:,1]]), axis=0 )\ny_proba_global[y_proba_global>=0.5]=1\ny_proba_global[y_proba_global<0.5]=0\n\ncm_global = confusion_matrix(y_test, y_proba_global)\ndisp = ConfusionMatrixDisplay(confusion_matrix=cm_global)\ndisp.plot()\nplt.show()\n",
   "execution_count": null,
   "outputs": [
    {
     "data": {
      "text/plain": "<Figure size 432x288 with 2 Axes>",
      "image/png": "[encoded data removed]"
     },
     "metadata": {
      "needs_background": "light",
      "image/png": {
       "width": 312,
       "height": 262
      }
     },
     "output_type": "display_data"
    }
   ]
  },
  {
   "cell_type": "code",
   "metadata": {
    "tags": [],
    "cell_id": "00055-673c2424-ee9b-4a70-ba71-05cacd32a9c4",
    "deepnote_to_be_reexecuted": false,
    "source_hash": "b6de89a9",
    "execution_start": 1641418484192,
    "execution_millis": 860,
    "deepnote_output_heights": [
     null,
     246.078125
    ],
    "deepnote_cell_type": "code"
   },
   "source": "\nfigure(figsize=(18, 5), dpi=80)\nplt.scatter(range(20),y_proba_KNN[0:20,1], c = 'blue')\nplt.scatter(range(20),y_proba_PLS[0:20,1] ,c = 'red')\nplt.scatter(range(20),y_proba_SVC[0:20,1], c = 'green')\nplt.scatter(range(20),y_proba_SGDC[0:20,1], c = 'pink')\nplt.scatter(range(20),y_proba_global[0:20], c = 'black')\nplt.axhline(y=0.5, color = 'black', linestyle ='dashed')\nplt.legend()\nplt.grid()\nplt.show()",
   "execution_count": null,
   "outputs": [
    {
     "name": "stderr",
     "text": "No artists with labels found to put in legend.  Note that artists whose label start with an underscore are ignored when legend() is called with no argument.\n",
     "output_type": "stream",
     "data": {}
    },
    {
     "data": {
      "text/plain": "<Figure size 1440x400 with 1 Axes>",
      "image/png": "[encoded data removed]"
     },
     "metadata": {
      "needs_background": "light",
      "image/png": {
       "width": 1157,
       "height": 335
      }
     },
     "output_type": "display_data"
    }
   ]
  },
  {
   "cell_type": "markdown",
   "source": "<a style='text-decoration:none;line-height:16px;display:flex;color:#5B5B62;padding:10px;justify-content:end;' href='https://deepnote.com?utm_source=created-in-deepnote-cell&projectId=dc9dd6f5-feb8-4fcd-b3f6-b59a3fc6dae4' target=\"_blank\">\n<img alt='Created in deepnote.com' style='display:inline;max-height:16px;margin:0px;margin-right:7.5px;' src='data:image/svg+xml;base64,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' > </img>\nCreated in <span style='font-weight:600;margin-left:4px;'>Deepnote</span></a>",
   "metadata": {
    "tags": [],
    "created_in_deepnote_cell": true,
    "deepnote_cell_type": "markdown"
   }
  }
 ],
 "nbformat": 4,
 "nbformat_minor": 2,
 "metadata": {
  "orig_nbformat": 2,
  "deepnote": {
   "is_reactive": false
  },
  "deepnote_notebook_id": "02e63e72-d140-4db5-ba39-873820c42d10",
  "deepnote_execution_queue": [],
  "deepnote_app_layout": "dashboard"
 }
}